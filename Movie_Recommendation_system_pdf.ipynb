{
  "cells": [
    {
      "cell_type": "markdown",
      "metadata": {
        "id": "view-in-github",
        "colab_type": "text"
      },
      "source": [
        "<a href=\"https://colab.research.google.com/github/MAMIDI-LIKHITHA/YBI-FOUNDATION/blob/main/Movie_Recommendation_system_pdf.ipynb\" target=\"_parent\"><img src=\"https://colab.research.google.com/assets/colab-badge.svg\" alt=\"Open In Colab\"/></a>"
      ]
    },
    {
      "cell_type": "markdown",
      "metadata": {
        "id": "p59hJ5imHY7p"
      },
      "source": [
        "#Movie Recommendation System"
      ]
    },
    {
      "cell_type": "markdown",
      "metadata": {
        "id": "U0xtZ3gHHyZi"
      },
      "source": [
        "Recommender System is a system that seeks to predict or filter preferences according to the user's choices. Recommender systems are utilized in a variety of areas including movies, music, news, books, research articles, search queries, social tags, and products in general. Recommender systems produce a list of recommendations in any of the two ways -\n",
        "\n",
        "Collaborative filtering: Collaborative filtering approaches build a model from the user's past behavior (.e. items purchased or searched by the user) as well as similar decisions made by other users. This model is then used to predict items (or ratings for items) that users may have an interest in.\n",
        "\n",
        "Content-based filtering: Content-based filtering approaches uses a series of discrete characteristics of an item in order to recommend additional items with similar properties. Content-based filtering methods are totally based on a description of the item and a profile of the user's preferences. It recommends items based on the user's past preferences. Let's develop a basic recommendation system using Python and Pandas,\n",
        "\n",
        "Let's develop a basic recommendation system by suggesting items that are most similar to a particular item, in this case, movies. It just tells what movies/items are most similar to the user's movie choice."
      ]
    },
    {
      "cell_type": "markdown",
      "metadata": {
        "id": "LaVQHHpqITDR"
      },
      "source": [
        "#Import Library"
      ]
    },
    {
      "cell_type": "code",
      "execution_count": null,
      "metadata": {
        "colab": {
          "background_save": true
        },
        "id": "r1OjDKy0IaCG"
      },
      "outputs": [],
      "source": [
        "import pandas as pd"
      ]
    },
    {
      "cell_type": "code",
      "execution_count": null,
      "metadata": {
        "colab": {
          "background_save": true
        },
        "id": "hG20s4bwIp1C"
      },
      "outputs": [],
      "source": [
        "import numpy as np"
      ]
    },
    {
      "cell_type": "markdown",
      "metadata": {
        "id": "RYVktisIIvta"
      },
      "source": [
        "#Import Dataset"
      ]
    },
    {
      "cell_type": "code",
      "execution_count": null,
      "metadata": {
        "colab": {
          "background_save": true
        },
        "id": "1RmwwetDLWMK"
      },
      "outputs": [],
      "source": [
        "df = pd.read_csv(r'https://raw.githubusercontent.com/YBI-Foundation/Dataset/main/Movies%20Recommendation.csv')"
      ]
    },
    {
      "cell_type": "code",
      "execution_count": null,
      "metadata": {
        "colab": {
          "background_save": true,
          "base_uri": "https://localhost:8080/",
          "height": 647
        },
        "id": "5x62KICcNKh9",
        "outputId": "e0f17e14-3db4-4758-90fe-50ec677e1fd6"
      },
      "outputs": [
        {
          "data": {
            "text/html": [
              "\n",
              "\n",
              "  <div id=\"df-2e657c2a-b543-4a7a-b9cb-136db4f293b9\">\n",
              "    <div class=\"colab-df-container\">\n",
              "      <div>\n",
              "<style scoped>\n",
              "    .dataframe tbody tr th:only-of-type {\n",
              "        vertical-align: middle;\n",
              "    }\n",
              "\n",
              "    .dataframe tbody tr th {\n",
              "        vertical-align: top;\n",
              "    }\n",
              "\n",
              "    .dataframe thead th {\n",
              "        text-align: right;\n",
              "    }\n",
              "</style>\n",
              "<table border=\"1\" class=\"dataframe\">\n",
              "  <thead>\n",
              "    <tr style=\"text-align: right;\">\n",
              "      <th></th>\n",
              "      <th>Movie_ID</th>\n",
              "      <th>Movie_Title</th>\n",
              "      <th>Movie_Genre</th>\n",
              "      <th>Movie_Language</th>\n",
              "      <th>Movie_Budget</th>\n",
              "      <th>Movie_Popularity</th>\n",
              "      <th>Movie_Release_Date</th>\n",
              "      <th>Movie_Revenue</th>\n",
              "      <th>Movie_Runtime</th>\n",
              "      <th>Movie_Vote</th>\n",
              "      <th>...</th>\n",
              "      <th>Movie_Homepage</th>\n",
              "      <th>Movie_Keywords</th>\n",
              "      <th>Movie_Overview</th>\n",
              "      <th>Movie_Production_House</th>\n",
              "      <th>Movie_Production_Country</th>\n",
              "      <th>Movie_Spoken_Language</th>\n",
              "      <th>Movie_Tagline</th>\n",
              "      <th>Movie_Cast</th>\n",
              "      <th>Movie_Crew</th>\n",
              "      <th>Movie_Director</th>\n",
              "    </tr>\n",
              "  </thead>\n",
              "  <tbody>\n",
              "    <tr>\n",
              "      <th>0</th>\n",
              "      <td>1</td>\n",
              "      <td>Four Rooms</td>\n",
              "      <td>Crime Comedy</td>\n",
              "      <td>en</td>\n",
              "      <td>4000000</td>\n",
              "      <td>22.876230</td>\n",
              "      <td>09-12-1995</td>\n",
              "      <td>4300000</td>\n",
              "      <td>98.0</td>\n",
              "      <td>6.5</td>\n",
              "      <td>...</td>\n",
              "      <td>NaN</td>\n",
              "      <td>hotel new year's eve witch bet hotel room</td>\n",
              "      <td>It's Ted the Bellhop's first night on the job....</td>\n",
              "      <td>[{\"name\": \"Miramax Films\", \"id\": 14}, {\"name\":...</td>\n",
              "      <td>[{\"iso_3166_1\": \"US\", \"name\": \"United States o...</td>\n",
              "      <td>[{\"iso_639_1\": \"en\", \"name\": \"English\"}]</td>\n",
              "      <td>Twelve outrageous guests. Four scandalous requ...</td>\n",
              "      <td>Tim Roth Antonio Banderas Jennifer Beals Madon...</td>\n",
              "      <td>[{'name': 'Allison Anders', 'gender': 1, 'depa...</td>\n",
              "      <td>Allison Anders</td>\n",
              "    </tr>\n",
              "    <tr>\n",
              "      <th>1</th>\n",
              "      <td>2</td>\n",
              "      <td>Star Wars</td>\n",
              "      <td>Adventure Action Science Fiction</td>\n",
              "      <td>en</td>\n",
              "      <td>11000000</td>\n",
              "      <td>126.393695</td>\n",
              "      <td>25-05-1977</td>\n",
              "      <td>775398007</td>\n",
              "      <td>121.0</td>\n",
              "      <td>8.1</td>\n",
              "      <td>...</td>\n",
              "      <td>http://www.starwars.com/films/star-wars-episod...</td>\n",
              "      <td>android galaxy hermit death star lightsaber</td>\n",
              "      <td>Princess Leia is captured and held hostage by ...</td>\n",
              "      <td>[{\"name\": \"Lucasfilm\", \"id\": 1}, {\"name\": \"Twe...</td>\n",
              "      <td>[{\"iso_3166_1\": \"US\", \"name\": \"United States o...</td>\n",
              "      <td>[{\"iso_639_1\": \"en\", \"name\": \"English\"}]</td>\n",
              "      <td>A long time ago in a galaxy far, far away...</td>\n",
              "      <td>Mark Hamill Harrison Ford Carrie Fisher Peter ...</td>\n",
              "      <td>[{'name': 'George Lucas', 'gender': 2, 'depart...</td>\n",
              "      <td>George Lucas</td>\n",
              "    </tr>\n",
              "    <tr>\n",
              "      <th>2</th>\n",
              "      <td>3</td>\n",
              "      <td>Finding Nemo</td>\n",
              "      <td>Animation Family</td>\n",
              "      <td>en</td>\n",
              "      <td>94000000</td>\n",
              "      <td>85.688789</td>\n",
              "      <td>30-05-2003</td>\n",
              "      <td>940335536</td>\n",
              "      <td>100.0</td>\n",
              "      <td>7.6</td>\n",
              "      <td>...</td>\n",
              "      <td>http://movies.disney.com/finding-nemo</td>\n",
              "      <td>father son relationship harbor underwater fish...</td>\n",
              "      <td>Nemo, an adventurous young clownfish, is unexp...</td>\n",
              "      <td>[{\"name\": \"Pixar Animation Studios\", \"id\": 3}]</td>\n",
              "      <td>[{\"iso_3166_1\": \"US\", \"name\": \"United States o...</td>\n",
              "      <td>[{\"iso_639_1\": \"en\", \"name\": \"English\"}]</td>\n",
              "      <td>There are 3.7 trillion fish in the ocean, they...</td>\n",
              "      <td>Albert Brooks Ellen DeGeneres Alexander Gould ...</td>\n",
              "      <td>[{'name': 'Andrew Stanton', 'gender': 2, 'depa...</td>\n",
              "      <td>Andrew Stanton</td>\n",
              "    </tr>\n",
              "    <tr>\n",
              "      <th>3</th>\n",
              "      <td>4</td>\n",
              "      <td>Forrest Gump</td>\n",
              "      <td>Comedy Drama Romance</td>\n",
              "      <td>en</td>\n",
              "      <td>55000000</td>\n",
              "      <td>138.133331</td>\n",
              "      <td>06-07-1994</td>\n",
              "      <td>677945399</td>\n",
              "      <td>142.0</td>\n",
              "      <td>8.2</td>\n",
              "      <td>...</td>\n",
              "      <td>NaN</td>\n",
              "      <td>vietnam veteran hippie mentally disabled runni...</td>\n",
              "      <td>A man with a low IQ has accomplished great thi...</td>\n",
              "      <td>[{\"name\": \"Paramount Pictures\", \"id\": 4}]</td>\n",
              "      <td>[{\"iso_3166_1\": \"US\", \"name\": \"United States o...</td>\n",
              "      <td>[{\"iso_639_1\": \"en\", \"name\": \"English\"}]</td>\n",
              "      <td>The world will never be the same, once you've ...</td>\n",
              "      <td>Tom Hanks Robin Wright Gary Sinise Mykelti Wil...</td>\n",
              "      <td>[{'name': 'Alan Silvestri', 'gender': 2, 'depa...</td>\n",
              "      <td>Robert Zemeckis</td>\n",
              "    </tr>\n",
              "    <tr>\n",
              "      <th>4</th>\n",
              "      <td>5</td>\n",
              "      <td>American Beauty</td>\n",
              "      <td>Drama</td>\n",
              "      <td>en</td>\n",
              "      <td>15000000</td>\n",
              "      <td>80.878605</td>\n",
              "      <td>15-09-1999</td>\n",
              "      <td>356296601</td>\n",
              "      <td>122.0</td>\n",
              "      <td>7.9</td>\n",
              "      <td>...</td>\n",
              "      <td>http://www.dreamworks.com/ab/</td>\n",
              "      <td>male nudity female nudity adultery midlife cri...</td>\n",
              "      <td>Lester Burnham, a depressed suburban father in...</td>\n",
              "      <td>[{\"name\": \"DreamWorks SKG\", \"id\": 27}, {\"name\"...</td>\n",
              "      <td>[{\"iso_3166_1\": \"US\", \"name\": \"United States o...</td>\n",
              "      <td>[{\"iso_639_1\": \"en\", \"name\": \"English\"}]</td>\n",
              "      <td>Look closer.</td>\n",
              "      <td>Kevin Spacey Annette Bening Thora Birch Wes Be...</td>\n",
              "      <td>[{'name': 'Thomas Newman', 'gender': 2, 'depar...</td>\n",
              "      <td>Sam Mendes</td>\n",
              "    </tr>\n",
              "  </tbody>\n",
              "</table>\n",
              "<p>5 rows × 21 columns</p>\n",
              "</div>\n",
              "      <button class=\"colab-df-convert\" onclick=\"convertToInteractive('df-2e657c2a-b543-4a7a-b9cb-136db4f293b9')\"\n",
              "              title=\"Convert this dataframe to an interactive table.\"\n",
              "              style=\"display:none;\">\n",
              "\n",
              "  <svg xmlns=\"http://www.w3.org/2000/svg\" height=\"24px\"viewBox=\"0 0 24 24\"\n",
              "       width=\"24px\">\n",
              "    <path d=\"M0 0h24v24H0V0z\" fill=\"none\"/>\n",
              "    <path d=\"M18.56 5.44l.94 2.06.94-2.06 2.06-.94-2.06-.94-.94-2.06-.94 2.06-2.06.94zm-11 1L8.5 8.5l.94-2.06 2.06-.94-2.06-.94L8.5 2.5l-.94 2.06-2.06.94zm10 10l.94 2.06.94-2.06 2.06-.94-2.06-.94-.94-2.06-.94 2.06-2.06.94z\"/><path d=\"M17.41 7.96l-1.37-1.37c-.4-.4-.92-.59-1.43-.59-.52 0-1.04.2-1.43.59L10.3 9.45l-7.72 7.72c-.78.78-.78 2.05 0 2.83L4 21.41c.39.39.9.59 1.41.59.51 0 1.02-.2 1.41-.59l7.78-7.78 2.81-2.81c.8-.78.8-2.07 0-2.86zM5.41 20L4 18.59l7.72-7.72 1.47 1.35L5.41 20z\"/>\n",
              "  </svg>\n",
              "      </button>\n",
              "\n",
              "\n",
              "\n",
              "    <div id=\"df-d2cce27f-db27-46bf-96d0-d7840cf51f02\">\n",
              "      <button class=\"colab-df-quickchart\" onclick=\"quickchart('df-d2cce27f-db27-46bf-96d0-d7840cf51f02')\"\n",
              "              title=\"Suggest charts.\"\n",
              "              style=\"display:none;\">\n",
              "\n",
              "<svg xmlns=\"http://www.w3.org/2000/svg\" height=\"24px\"viewBox=\"0 0 24 24\"\n",
              "     width=\"24px\">\n",
              "    <g>\n",
              "        <path d=\"M19 3H5c-1.1 0-2 .9-2 2v14c0 1.1.9 2 2 2h14c1.1 0 2-.9 2-2V5c0-1.1-.9-2-2-2zM9 17H7v-7h2v7zm4 0h-2V7h2v10zm4 0h-2v-4h2v4z\"/>\n",
              "    </g>\n",
              "</svg>\n",
              "      </button>\n",
              "    </div>\n",
              "\n",
              "<style>\n",
              "  .colab-df-quickchart {\n",
              "    background-color: #E8F0FE;\n",
              "    border: none;\n",
              "    border-radius: 50%;\n",
              "    cursor: pointer;\n",
              "    display: none;\n",
              "    fill: #1967D2;\n",
              "    height: 32px;\n",
              "    padding: 0 0 0 0;\n",
              "    width: 32px;\n",
              "  }\n",
              "\n",
              "  .colab-df-quickchart:hover {\n",
              "    background-color: #E2EBFA;\n",
              "    box-shadow: 0px 1px 2px rgba(60, 64, 67, 0.3), 0px 1px 3px 1px rgba(60, 64, 67, 0.15);\n",
              "    fill: #174EA6;\n",
              "  }\n",
              "\n",
              "  [theme=dark] .colab-df-quickchart {\n",
              "    background-color: #3B4455;\n",
              "    fill: #D2E3FC;\n",
              "  }\n",
              "\n",
              "  [theme=dark] .colab-df-quickchart:hover {\n",
              "    background-color: #434B5C;\n",
              "    box-shadow: 0px 1px 3px 1px rgba(0, 0, 0, 0.15);\n",
              "    filter: drop-shadow(0px 1px 2px rgba(0, 0, 0, 0.3));\n",
              "    fill: #FFFFFF;\n",
              "  }\n",
              "</style>\n",
              "\n",
              "    <script>\n",
              "      async function quickchart(key) {\n",
              "        const containerElement = document.querySelector('#' + key);\n",
              "        const charts = await google.colab.kernel.invokeFunction(\n",
              "            'suggestCharts', [key], {});\n",
              "      }\n",
              "    </script>\n",
              "\n",
              "      <script>\n",
              "\n",
              "function displayQuickchartButton(domScope) {\n",
              "  let quickchartButtonEl =\n",
              "    domScope.querySelector('#df-d2cce27f-db27-46bf-96d0-d7840cf51f02 button.colab-df-quickchart');\n",
              "  quickchartButtonEl.style.display =\n",
              "    google.colab.kernel.accessAllowed ? 'block' : 'none';\n",
              "}\n",
              "\n",
              "        displayQuickchartButton(document);\n",
              "      </script>\n",
              "      <style>\n",
              "    .colab-df-container {\n",
              "      display:flex;\n",
              "      flex-wrap:wrap;\n",
              "      gap: 12px;\n",
              "    }\n",
              "\n",
              "    .colab-df-convert {\n",
              "      background-color: #E8F0FE;\n",
              "      border: none;\n",
              "      border-radius: 50%;\n",
              "      cursor: pointer;\n",
              "      display: none;\n",
              "      fill: #1967D2;\n",
              "      height: 32px;\n",
              "      padding: 0 0 0 0;\n",
              "      width: 32px;\n",
              "    }\n",
              "\n",
              "    .colab-df-convert:hover {\n",
              "      background-color: #E2EBFA;\n",
              "      box-shadow: 0px 1px 2px rgba(60, 64, 67, 0.3), 0px 1px 3px 1px rgba(60, 64, 67, 0.15);\n",
              "      fill: #174EA6;\n",
              "    }\n",
              "\n",
              "    [theme=dark] .colab-df-convert {\n",
              "      background-color: #3B4455;\n",
              "      fill: #D2E3FC;\n",
              "    }\n",
              "\n",
              "    [theme=dark] .colab-df-convert:hover {\n",
              "      background-color: #434B5C;\n",
              "      box-shadow: 0px 1px 3px 1px rgba(0, 0, 0, 0.15);\n",
              "      filter: drop-shadow(0px 1px 2px rgba(0, 0, 0, 0.3));\n",
              "      fill: #FFFFFF;\n",
              "    }\n",
              "  </style>\n",
              "\n",
              "      <script>\n",
              "        const buttonEl =\n",
              "          document.querySelector('#df-2e657c2a-b543-4a7a-b9cb-136db4f293b9 button.colab-df-convert');\n",
              "        buttonEl.style.display =\n",
              "          google.colab.kernel.accessAllowed ? 'block' : 'none';\n",
              "\n",
              "        async function convertToInteractive(key) {\n",
              "          const element = document.querySelector('#df-2e657c2a-b543-4a7a-b9cb-136db4f293b9');\n",
              "          const dataTable =\n",
              "            await google.colab.kernel.invokeFunction('convertToInteractive',\n",
              "                                                     [key], {});\n",
              "          if (!dataTable) return;\n",
              "\n",
              "          const docLinkHtml = 'Like what you see? Visit the ' +\n",
              "            '<a target=\"_blank\" href=https://colab.research.google.com/notebooks/data_table.ipynb>data table notebook</a>'\n",
              "            + ' to learn more about interactive tables.';\n",
              "          element.innerHTML = '';\n",
              "          dataTable['output_type'] = 'display_data';\n",
              "          await google.colab.output.renderOutput(dataTable, element);\n",
              "          const docLink = document.createElement('div');\n",
              "          docLink.innerHTML = docLinkHtml;\n",
              "          element.appendChild(docLink);\n",
              "        }\n",
              "      </script>\n",
              "    </div>\n",
              "  </div>\n"
            ],
            "text/plain": [
              "   Movie_ID      Movie_Title                       Movie_Genre Movie_Language  \\\n",
              "0         1       Four Rooms                      Crime Comedy             en   \n",
              "1         2        Star Wars  Adventure Action Science Fiction             en   \n",
              "2         3     Finding Nemo                  Animation Family             en   \n",
              "3         4     Forrest Gump              Comedy Drama Romance             en   \n",
              "4         5  American Beauty                             Drama             en   \n",
              "\n",
              "   Movie_Budget  Movie_Popularity Movie_Release_Date  Movie_Revenue  \\\n",
              "0       4000000         22.876230         09-12-1995        4300000   \n",
              "1      11000000        126.393695         25-05-1977      775398007   \n",
              "2      94000000         85.688789         30-05-2003      940335536   \n",
              "3      55000000        138.133331         06-07-1994      677945399   \n",
              "4      15000000         80.878605         15-09-1999      356296601   \n",
              "\n",
              "   Movie_Runtime  Movie_Vote  ...  \\\n",
              "0           98.0         6.5  ...   \n",
              "1          121.0         8.1  ...   \n",
              "2          100.0         7.6  ...   \n",
              "3          142.0         8.2  ...   \n",
              "4          122.0         7.9  ...   \n",
              "\n",
              "                                      Movie_Homepage  \\\n",
              "0                                                NaN   \n",
              "1  http://www.starwars.com/films/star-wars-episod...   \n",
              "2              http://movies.disney.com/finding-nemo   \n",
              "3                                                NaN   \n",
              "4                      http://www.dreamworks.com/ab/   \n",
              "\n",
              "                                      Movie_Keywords  \\\n",
              "0          hotel new year's eve witch bet hotel room   \n",
              "1        android galaxy hermit death star lightsaber   \n",
              "2  father son relationship harbor underwater fish...   \n",
              "3  vietnam veteran hippie mentally disabled runni...   \n",
              "4  male nudity female nudity adultery midlife cri...   \n",
              "\n",
              "                                      Movie_Overview  \\\n",
              "0  It's Ted the Bellhop's first night on the job....   \n",
              "1  Princess Leia is captured and held hostage by ...   \n",
              "2  Nemo, an adventurous young clownfish, is unexp...   \n",
              "3  A man with a low IQ has accomplished great thi...   \n",
              "4  Lester Burnham, a depressed suburban father in...   \n",
              "\n",
              "                              Movie_Production_House  \\\n",
              "0  [{\"name\": \"Miramax Films\", \"id\": 14}, {\"name\":...   \n",
              "1  [{\"name\": \"Lucasfilm\", \"id\": 1}, {\"name\": \"Twe...   \n",
              "2     [{\"name\": \"Pixar Animation Studios\", \"id\": 3}]   \n",
              "3          [{\"name\": \"Paramount Pictures\", \"id\": 4}]   \n",
              "4  [{\"name\": \"DreamWorks SKG\", \"id\": 27}, {\"name\"...   \n",
              "\n",
              "                            Movie_Production_Country  \\\n",
              "0  [{\"iso_3166_1\": \"US\", \"name\": \"United States o...   \n",
              "1  [{\"iso_3166_1\": \"US\", \"name\": \"United States o...   \n",
              "2  [{\"iso_3166_1\": \"US\", \"name\": \"United States o...   \n",
              "3  [{\"iso_3166_1\": \"US\", \"name\": \"United States o...   \n",
              "4  [{\"iso_3166_1\": \"US\", \"name\": \"United States o...   \n",
              "\n",
              "                      Movie_Spoken_Language  \\\n",
              "0  [{\"iso_639_1\": \"en\", \"name\": \"English\"}]   \n",
              "1  [{\"iso_639_1\": \"en\", \"name\": \"English\"}]   \n",
              "2  [{\"iso_639_1\": \"en\", \"name\": \"English\"}]   \n",
              "3  [{\"iso_639_1\": \"en\", \"name\": \"English\"}]   \n",
              "4  [{\"iso_639_1\": \"en\", \"name\": \"English\"}]   \n",
              "\n",
              "                                       Movie_Tagline  \\\n",
              "0  Twelve outrageous guests. Four scandalous requ...   \n",
              "1       A long time ago in a galaxy far, far away...   \n",
              "2  There are 3.7 trillion fish in the ocean, they...   \n",
              "3  The world will never be the same, once you've ...   \n",
              "4                                       Look closer.   \n",
              "\n",
              "                                          Movie_Cast  \\\n",
              "0  Tim Roth Antonio Banderas Jennifer Beals Madon...   \n",
              "1  Mark Hamill Harrison Ford Carrie Fisher Peter ...   \n",
              "2  Albert Brooks Ellen DeGeneres Alexander Gould ...   \n",
              "3  Tom Hanks Robin Wright Gary Sinise Mykelti Wil...   \n",
              "4  Kevin Spacey Annette Bening Thora Birch Wes Be...   \n",
              "\n",
              "                                          Movie_Crew   Movie_Director  \n",
              "0  [{'name': 'Allison Anders', 'gender': 1, 'depa...   Allison Anders  \n",
              "1  [{'name': 'George Lucas', 'gender': 2, 'depart...     George Lucas  \n",
              "2  [{'name': 'Andrew Stanton', 'gender': 2, 'depa...   Andrew Stanton  \n",
              "3  [{'name': 'Alan Silvestri', 'gender': 2, 'depa...  Robert Zemeckis  \n",
              "4  [{'name': 'Thomas Newman', 'gender': 2, 'depar...       Sam Mendes  \n",
              "\n",
              "[5 rows x 21 columns]"
            ]
          },
          "execution_count": 82,
          "metadata": {},
          "output_type": "execute_result"
        }
      ],
      "source": [
        "df.head()"
      ]
    },
    {
      "cell_type": "code",
      "execution_count": null,
      "metadata": {
        "colab": {
          "background_save": true,
          "base_uri": "https://localhost:8080/"
        },
        "id": "1-LfrzQqNfnQ",
        "outputId": "277249b2-574a-40eb-edf5-33550ec8c044"
      },
      "outputs": [
        {
          "name": "stdout",
          "output_type": "stream",
          "text": [
            "<class 'pandas.core.frame.DataFrame'>\n",
            "RangeIndex: 4760 entries, 0 to 4759\n",
            "Data columns (total 21 columns):\n",
            " #   Column                    Non-Null Count  Dtype  \n",
            "---  ------                    --------------  -----  \n",
            " 0   Movie_ID                  4760 non-null   int64  \n",
            " 1   Movie_Title               4760 non-null   object \n",
            " 2   Movie_Genre               4760 non-null   object \n",
            " 3   Movie_Language            4760 non-null   object \n",
            " 4   Movie_Budget              4760 non-null   int64  \n",
            " 5   Movie_Popularity          4760 non-null   float64\n",
            " 6   Movie_Release_Date        4760 non-null   object \n",
            " 7   Movie_Revenue             4760 non-null   int64  \n",
            " 8   Movie_Runtime             4758 non-null   float64\n",
            " 9   Movie_Vote                4760 non-null   float64\n",
            " 10  Movie_Vote_Count          4760 non-null   int64  \n",
            " 11  Movie_Homepage            1699 non-null   object \n",
            " 12  Movie_Keywords            4373 non-null   object \n",
            " 13  Movie_Overview            4757 non-null   object \n",
            " 14  Movie_Production_House    4760 non-null   object \n",
            " 15  Movie_Production_Country  4760 non-null   object \n",
            " 16  Movie_Spoken_Language     4760 non-null   object \n",
            " 17  Movie_Tagline             3942 non-null   object \n",
            " 18  Movie_Cast                4733 non-null   object \n",
            " 19  Movie_Crew                4760 non-null   object \n",
            " 20  Movie_Director            4738 non-null   object \n",
            "dtypes: float64(3), int64(4), object(14)\n",
            "memory usage: 781.1+ KB\n"
          ]
        }
      ],
      "source": [
        "df.info()"
      ]
    },
    {
      "cell_type": "code",
      "execution_count": null,
      "metadata": {
        "colab": {
          "background_save": true,
          "base_uri": "https://localhost:8080/"
        },
        "id": "q2VYhRRGNlQP",
        "outputId": "710d5454-7d6e-42f7-c8db-267019a1cef4"
      },
      "outputs": [
        {
          "data": {
            "text/plain": [
              "(4760, 21)"
            ]
          },
          "execution_count": 84,
          "metadata": {},
          "output_type": "execute_result"
        }
      ],
      "source": [
        "df.shape"
      ]
    },
    {
      "cell_type": "code",
      "execution_count": null,
      "metadata": {
        "colab": {
          "background_save": true,
          "base_uri": "https://localhost:8080/"
        },
        "id": "sxFcYIj3Nze_",
        "outputId": "2c42dcc7-7a05-469b-9732-1cd2579ff84d"
      },
      "outputs": [
        {
          "data": {
            "text/plain": [
              "Index(['Movie_ID', 'Movie_Title', 'Movie_Genre', 'Movie_Language',\n",
              "       'Movie_Budget', 'Movie_Popularity', 'Movie_Release_Date',\n",
              "       'Movie_Revenue', 'Movie_Runtime', 'Movie_Vote', 'Movie_Vote_Count',\n",
              "       'Movie_Homepage', 'Movie_Keywords', 'Movie_Overview',\n",
              "       'Movie_Production_House', 'Movie_Production_Country',\n",
              "       'Movie_Spoken_Language', 'Movie_Tagline', 'Movie_Cast', 'Movie_Crew',\n",
              "       'Movie_Director'],\n",
              "      dtype='object')"
            ]
          },
          "execution_count": 85,
          "metadata": {},
          "output_type": "execute_result"
        }
      ],
      "source": [
        "df.columns"
      ]
    },
    {
      "cell_type": "markdown",
      "metadata": {
        "id": "SBNWt0jPN3i8"
      },
      "source": [
        "#Get Featured Selection"
      ]
    },
    {
      "cell_type": "code",
      "execution_count": null,
      "metadata": {
        "colab": {
          "background_save": true
        },
        "id": "LgmMYR6TN9ov"
      },
      "outputs": [],
      "source": [
        "df_features=df[['Movie_Genre', 'Movie_Keywords', 'Movie_Tagline', 'Movie_Cast', 'Movie_Director']].fillna('')"
      ]
    },
    {
      "cell_type": "markdown",
      "metadata": {
        "id": "5OVeHtykO5X9"
      },
      "source": [
        "Selected five existing features to recommend movies. It may vary from one project to another. Like one can add vote counts, budget, language etc."
      ]
    },
    {
      "cell_type": "code",
      "execution_count": null,
      "metadata": {
        "colab": {
          "background_save": true,
          "base_uri": "https://localhost:8080/"
        },
        "id": "dxSgbDgXO94w",
        "outputId": "1a495c86-4a58-46f2-922b-55c783fb1baf"
      },
      "outputs": [
        {
          "data": {
            "text/plain": [
              "(4760, 5)"
            ]
          },
          "execution_count": 87,
          "metadata": {},
          "output_type": "execute_result"
        }
      ],
      "source": [
        "df_features.shape"
      ]
    },
    {
      "cell_type": "code",
      "execution_count": null,
      "metadata": {
        "colab": {
          "background_save": true,
          "base_uri": "https://localhost:8080/",
          "height": 1000
        },
        "id": "bvnhN5X6PHnQ",
        "outputId": "9467e395-bf75-4804-a2cd-62c6da928e7d"
      },
      "outputs": [
        {
          "data": {
            "text/html": [
              "\n",
              "\n",
              "  <div id=\"df-15c8d14a-9bf7-41b1-8b8b-bd597e8af976\">\n",
              "    <div class=\"colab-df-container\">\n",
              "      <div>\n",
              "<style scoped>\n",
              "    .dataframe tbody tr th:only-of-type {\n",
              "        vertical-align: middle;\n",
              "    }\n",
              "\n",
              "    .dataframe tbody tr th {\n",
              "        vertical-align: top;\n",
              "    }\n",
              "\n",
              "    .dataframe thead th {\n",
              "        text-align: right;\n",
              "    }\n",
              "</style>\n",
              "<table border=\"1\" class=\"dataframe\">\n",
              "  <thead>\n",
              "    <tr style=\"text-align: right;\">\n",
              "      <th></th>\n",
              "      <th>Movie_Genre</th>\n",
              "      <th>Movie_Keywords</th>\n",
              "      <th>Movie_Tagline</th>\n",
              "      <th>Movie_Cast</th>\n",
              "      <th>Movie_Director</th>\n",
              "    </tr>\n",
              "  </thead>\n",
              "  <tbody>\n",
              "    <tr>\n",
              "      <th>0</th>\n",
              "      <td>Crime Comedy</td>\n",
              "      <td>hotel new year's eve witch bet hotel room</td>\n",
              "      <td>Twelve outrageous guests. Four scandalous requ...</td>\n",
              "      <td>Tim Roth Antonio Banderas Jennifer Beals Madon...</td>\n",
              "      <td>Allison Anders</td>\n",
              "    </tr>\n",
              "    <tr>\n",
              "      <th>1</th>\n",
              "      <td>Adventure Action Science Fiction</td>\n",
              "      <td>android galaxy hermit death star lightsaber</td>\n",
              "      <td>A long time ago in a galaxy far, far away...</td>\n",
              "      <td>Mark Hamill Harrison Ford Carrie Fisher Peter ...</td>\n",
              "      <td>George Lucas</td>\n",
              "    </tr>\n",
              "    <tr>\n",
              "      <th>2</th>\n",
              "      <td>Animation Family</td>\n",
              "      <td>father son relationship harbor underwater fish...</td>\n",
              "      <td>There are 3.7 trillion fish in the ocean, they...</td>\n",
              "      <td>Albert Brooks Ellen DeGeneres Alexander Gould ...</td>\n",
              "      <td>Andrew Stanton</td>\n",
              "    </tr>\n",
              "    <tr>\n",
              "      <th>3</th>\n",
              "      <td>Comedy Drama Romance</td>\n",
              "      <td>vietnam veteran hippie mentally disabled runni...</td>\n",
              "      <td>The world will never be the same, once you've ...</td>\n",
              "      <td>Tom Hanks Robin Wright Gary Sinise Mykelti Wil...</td>\n",
              "      <td>Robert Zemeckis</td>\n",
              "    </tr>\n",
              "    <tr>\n",
              "      <th>4</th>\n",
              "      <td>Drama</td>\n",
              "      <td>male nudity female nudity adultery midlife cri...</td>\n",
              "      <td>Look closer.</td>\n",
              "      <td>Kevin Spacey Annette Bening Thora Birch Wes Be...</td>\n",
              "      <td>Sam Mendes</td>\n",
              "    </tr>\n",
              "    <tr>\n",
              "      <th>...</th>\n",
              "      <td>...</td>\n",
              "      <td>...</td>\n",
              "      <td>...</td>\n",
              "      <td>...</td>\n",
              "      <td>...</td>\n",
              "    </tr>\n",
              "    <tr>\n",
              "      <th>4755</th>\n",
              "      <td>Horror</td>\n",
              "      <td></td>\n",
              "      <td>The hot spot where Satan's waitin'.</td>\n",
              "      <td>Lisa Hart Carroll Michael Des Barres Paul Drak...</td>\n",
              "      <td>Pece Dingo</td>\n",
              "    </tr>\n",
              "    <tr>\n",
              "      <th>4756</th>\n",
              "      <td>Comedy Family Drama</td>\n",
              "      <td></td>\n",
              "      <td>It’s better to stand out than to fit in.</td>\n",
              "      <td>Roni Akurati Brighton Sharbino Jason Lee Anjul...</td>\n",
              "      <td>Frank Lotito</td>\n",
              "    </tr>\n",
              "    <tr>\n",
              "      <th>4757</th>\n",
              "      <td>Thriller Drama</td>\n",
              "      <td>christian film sex trafficking</td>\n",
              "      <td>She never knew it could happen to her...</td>\n",
              "      <td>Nicole Smolen Kim Baldwin Ariana Stephens Brys...</td>\n",
              "      <td>Jaco Booyens</td>\n",
              "    </tr>\n",
              "    <tr>\n",
              "      <th>4758</th>\n",
              "      <td>Family</td>\n",
              "      <td></td>\n",
              "      <td></td>\n",
              "      <td></td>\n",
              "      <td></td>\n",
              "    </tr>\n",
              "    <tr>\n",
              "      <th>4759</th>\n",
              "      <td>Documentary</td>\n",
              "      <td>music actors legendary perfomer classic hollyw...</td>\n",
              "      <td></td>\n",
              "      <td>Tony Oppedisano</td>\n",
              "      <td>Simon Napier-Bell</td>\n",
              "    </tr>\n",
              "  </tbody>\n",
              "</table>\n",
              "<p>4760 rows × 5 columns</p>\n",
              "</div>\n",
              "      <button class=\"colab-df-convert\" onclick=\"convertToInteractive('df-15c8d14a-9bf7-41b1-8b8b-bd597e8af976')\"\n",
              "              title=\"Convert this dataframe to an interactive table.\"\n",
              "              style=\"display:none;\">\n",
              "\n",
              "  <svg xmlns=\"http://www.w3.org/2000/svg\" height=\"24px\"viewBox=\"0 0 24 24\"\n",
              "       width=\"24px\">\n",
              "    <path d=\"M0 0h24v24H0V0z\" fill=\"none\"/>\n",
              "    <path d=\"M18.56 5.44l.94 2.06.94-2.06 2.06-.94-2.06-.94-.94-2.06-.94 2.06-2.06.94zm-11 1L8.5 8.5l.94-2.06 2.06-.94-2.06-.94L8.5 2.5l-.94 2.06-2.06.94zm10 10l.94 2.06.94-2.06 2.06-.94-2.06-.94-.94-2.06-.94 2.06-2.06.94z\"/><path d=\"M17.41 7.96l-1.37-1.37c-.4-.4-.92-.59-1.43-.59-.52 0-1.04.2-1.43.59L10.3 9.45l-7.72 7.72c-.78.78-.78 2.05 0 2.83L4 21.41c.39.39.9.59 1.41.59.51 0 1.02-.2 1.41-.59l7.78-7.78 2.81-2.81c.8-.78.8-2.07 0-2.86zM5.41 20L4 18.59l7.72-7.72 1.47 1.35L5.41 20z\"/>\n",
              "  </svg>\n",
              "      </button>\n",
              "\n",
              "\n",
              "\n",
              "    <div id=\"df-fd2dbc38-ec04-4e9c-99f5-14fe53159045\">\n",
              "      <button class=\"colab-df-quickchart\" onclick=\"quickchart('df-fd2dbc38-ec04-4e9c-99f5-14fe53159045')\"\n",
              "              title=\"Suggest charts.\"\n",
              "              style=\"display:none;\">\n",
              "\n",
              "<svg xmlns=\"http://www.w3.org/2000/svg\" height=\"24px\"viewBox=\"0 0 24 24\"\n",
              "     width=\"24px\">\n",
              "    <g>\n",
              "        <path d=\"M19 3H5c-1.1 0-2 .9-2 2v14c0 1.1.9 2 2 2h14c1.1 0 2-.9 2-2V5c0-1.1-.9-2-2-2zM9 17H7v-7h2v7zm4 0h-2V7h2v10zm4 0h-2v-4h2v4z\"/>\n",
              "    </g>\n",
              "</svg>\n",
              "      </button>\n",
              "    </div>\n",
              "\n",
              "<style>\n",
              "  .colab-df-quickchart {\n",
              "    background-color: #E8F0FE;\n",
              "    border: none;\n",
              "    border-radius: 50%;\n",
              "    cursor: pointer;\n",
              "    display: none;\n",
              "    fill: #1967D2;\n",
              "    height: 32px;\n",
              "    padding: 0 0 0 0;\n",
              "    width: 32px;\n",
              "  }\n",
              "\n",
              "  .colab-df-quickchart:hover {\n",
              "    background-color: #E2EBFA;\n",
              "    box-shadow: 0px 1px 2px rgba(60, 64, 67, 0.3), 0px 1px 3px 1px rgba(60, 64, 67, 0.15);\n",
              "    fill: #174EA6;\n",
              "  }\n",
              "\n",
              "  [theme=dark] .colab-df-quickchart {\n",
              "    background-color: #3B4455;\n",
              "    fill: #D2E3FC;\n",
              "  }\n",
              "\n",
              "  [theme=dark] .colab-df-quickchart:hover {\n",
              "    background-color: #434B5C;\n",
              "    box-shadow: 0px 1px 3px 1px rgba(0, 0, 0, 0.15);\n",
              "    filter: drop-shadow(0px 1px 2px rgba(0, 0, 0, 0.3));\n",
              "    fill: #FFFFFF;\n",
              "  }\n",
              "</style>\n",
              "\n",
              "    <script>\n",
              "      async function quickchart(key) {\n",
              "        const containerElement = document.querySelector('#' + key);\n",
              "        const charts = await google.colab.kernel.invokeFunction(\n",
              "            'suggestCharts', [key], {});\n",
              "      }\n",
              "    </script>\n",
              "\n",
              "      <script>\n",
              "\n",
              "function displayQuickchartButton(domScope) {\n",
              "  let quickchartButtonEl =\n",
              "    domScope.querySelector('#df-fd2dbc38-ec04-4e9c-99f5-14fe53159045 button.colab-df-quickchart');\n",
              "  quickchartButtonEl.style.display =\n",
              "    google.colab.kernel.accessAllowed ? 'block' : 'none';\n",
              "}\n",
              "\n",
              "        displayQuickchartButton(document);\n",
              "      </script>\n",
              "      <style>\n",
              "    .colab-df-container {\n",
              "      display:flex;\n",
              "      flex-wrap:wrap;\n",
              "      gap: 12px;\n",
              "    }\n",
              "\n",
              "    .colab-df-convert {\n",
              "      background-color: #E8F0FE;\n",
              "      border: none;\n",
              "      border-radius: 50%;\n",
              "      cursor: pointer;\n",
              "      display: none;\n",
              "      fill: #1967D2;\n",
              "      height: 32px;\n",
              "      padding: 0 0 0 0;\n",
              "      width: 32px;\n",
              "    }\n",
              "\n",
              "    .colab-df-convert:hover {\n",
              "      background-color: #E2EBFA;\n",
              "      box-shadow: 0px 1px 2px rgba(60, 64, 67, 0.3), 0px 1px 3px 1px rgba(60, 64, 67, 0.15);\n",
              "      fill: #174EA6;\n",
              "    }\n",
              "\n",
              "    [theme=dark] .colab-df-convert {\n",
              "      background-color: #3B4455;\n",
              "      fill: #D2E3FC;\n",
              "    }\n",
              "\n",
              "    [theme=dark] .colab-df-convert:hover {\n",
              "      background-color: #434B5C;\n",
              "      box-shadow: 0px 1px 3px 1px rgba(0, 0, 0, 0.15);\n",
              "      filter: drop-shadow(0px 1px 2px rgba(0, 0, 0, 0.3));\n",
              "      fill: #FFFFFF;\n",
              "    }\n",
              "  </style>\n",
              "\n",
              "      <script>\n",
              "        const buttonEl =\n",
              "          document.querySelector('#df-15c8d14a-9bf7-41b1-8b8b-bd597e8af976 button.colab-df-convert');\n",
              "        buttonEl.style.display =\n",
              "          google.colab.kernel.accessAllowed ? 'block' : 'none';\n",
              "\n",
              "        async function convertToInteractive(key) {\n",
              "          const element = document.querySelector('#df-15c8d14a-9bf7-41b1-8b8b-bd597e8af976');\n",
              "          const dataTable =\n",
              "            await google.colab.kernel.invokeFunction('convertToInteractive',\n",
              "                                                     [key], {});\n",
              "          if (!dataTable) return;\n",
              "\n",
              "          const docLinkHtml = 'Like what you see? Visit the ' +\n",
              "            '<a target=\"_blank\" href=https://colab.research.google.com/notebooks/data_table.ipynb>data table notebook</a>'\n",
              "            + ' to learn more about interactive tables.';\n",
              "          element.innerHTML = '';\n",
              "          dataTable['output_type'] = 'display_data';\n",
              "          await google.colab.output.renderOutput(dataTable, element);\n",
              "          const docLink = document.createElement('div');\n",
              "          docLink.innerHTML = docLinkHtml;\n",
              "          element.appendChild(docLink);\n",
              "        }\n",
              "      </script>\n",
              "    </div>\n",
              "  </div>\n"
            ],
            "text/plain": [
              "                           Movie_Genre  \\\n",
              "0                         Crime Comedy   \n",
              "1     Adventure Action Science Fiction   \n",
              "2                     Animation Family   \n",
              "3                 Comedy Drama Romance   \n",
              "4                                Drama   \n",
              "...                                ...   \n",
              "4755                            Horror   \n",
              "4756               Comedy Family Drama   \n",
              "4757                    Thriller Drama   \n",
              "4758                            Family   \n",
              "4759                       Documentary   \n",
              "\n",
              "                                         Movie_Keywords  \\\n",
              "0             hotel new year's eve witch bet hotel room   \n",
              "1           android galaxy hermit death star lightsaber   \n",
              "2     father son relationship harbor underwater fish...   \n",
              "3     vietnam veteran hippie mentally disabled runni...   \n",
              "4     male nudity female nudity adultery midlife cri...   \n",
              "...                                                 ...   \n",
              "4755                                                      \n",
              "4756                                                      \n",
              "4757                     christian film sex trafficking   \n",
              "4758                                                      \n",
              "4759  music actors legendary perfomer classic hollyw...   \n",
              "\n",
              "                                          Movie_Tagline  \\\n",
              "0     Twelve outrageous guests. Four scandalous requ...   \n",
              "1          A long time ago in a galaxy far, far away...   \n",
              "2     There are 3.7 trillion fish in the ocean, they...   \n",
              "3     The world will never be the same, once you've ...   \n",
              "4                                          Look closer.   \n",
              "...                                                 ...   \n",
              "4755                The hot spot where Satan's waitin'.   \n",
              "4756           It’s better to stand out than to fit in.   \n",
              "4757           She never knew it could happen to her...   \n",
              "4758                                                      \n",
              "4759                                                      \n",
              "\n",
              "                                             Movie_Cast     Movie_Director  \n",
              "0     Tim Roth Antonio Banderas Jennifer Beals Madon...     Allison Anders  \n",
              "1     Mark Hamill Harrison Ford Carrie Fisher Peter ...       George Lucas  \n",
              "2     Albert Brooks Ellen DeGeneres Alexander Gould ...     Andrew Stanton  \n",
              "3     Tom Hanks Robin Wright Gary Sinise Mykelti Wil...    Robert Zemeckis  \n",
              "4     Kevin Spacey Annette Bening Thora Birch Wes Be...         Sam Mendes  \n",
              "...                                                 ...                ...  \n",
              "4755  Lisa Hart Carroll Michael Des Barres Paul Drak...         Pece Dingo  \n",
              "4756  Roni Akurati Brighton Sharbino Jason Lee Anjul...       Frank Lotito  \n",
              "4757  Nicole Smolen Kim Baldwin Ariana Stephens Brys...       Jaco Booyens  \n",
              "4758                                                                        \n",
              "4759                                    Tony Oppedisano  Simon Napier-Bell  \n",
              "\n",
              "[4760 rows x 5 columns]"
            ]
          },
          "execution_count": 88,
          "metadata": {},
          "output_type": "execute_result"
        }
      ],
      "source": [
        "df_features"
      ]
    },
    {
      "cell_type": "code",
      "execution_count": null,
      "metadata": {
        "colab": {
          "background_save": true,
          "base_uri": "https://localhost:8080/"
        },
        "id": "zbHog-bLQL2a",
        "outputId": "93b8b4e1-247a-44f7-f051-0f70c9d3c00c"
      },
      "outputs": [
        {
          "data": {
            "text/plain": [
              "0          Allison Anders\n",
              "1            George Lucas\n",
              "2          Andrew Stanton\n",
              "3         Robert Zemeckis\n",
              "4              Sam Mendes\n",
              "              ...        \n",
              "4755           Pece Dingo\n",
              "4756         Frank Lotito\n",
              "4757         Jaco Booyens\n",
              "4758                     \n",
              "4759    Simon Napier-Bell\n",
              "Name: Movie_Director, Length: 4760, dtype: object"
            ]
          },
          "execution_count": 89,
          "metadata": {},
          "output_type": "execute_result"
        }
      ],
      "source": [
        "x = df_features['Movie_Genre']+''\n",
        "\n",
        "df_features ['Movie_Keywords']+''\n",
        "\n",
        "df_features['Movie_Tagline']+''\n",
        "\n",
        "df_features['Movie_Cast']+''\n",
        "\n",
        "df_features[\"Movie_Director\"]"
      ]
    },
    {
      "cell_type": "code",
      "execution_count": null,
      "metadata": {
        "colab": {
          "background_save": true,
          "base_uri": "https://localhost:8080/"
        },
        "id": "3Li-i0ADRn2q",
        "outputId": "aa896996-da08-4ba1-ebdb-4b9ef713c138"
      },
      "outputs": [
        {
          "data": {
            "text/plain": [
              "0                           Crime Comedy\n",
              "1       Adventure Action Science Fiction\n",
              "2                       Animation Family\n",
              "3                   Comedy Drama Romance\n",
              "4                                  Drama\n",
              "                      ...               \n",
              "4755                              Horror\n",
              "4756                 Comedy Family Drama\n",
              "4757                      Thriller Drama\n",
              "4758                              Family\n",
              "4759                         Documentary\n",
              "Name: Movie_Genre, Length: 4760, dtype: object"
            ]
          },
          "execution_count": 90,
          "metadata": {},
          "output_type": "execute_result"
        }
      ],
      "source": [
        "x"
      ]
    },
    {
      "cell_type": "code",
      "execution_count": null,
      "metadata": {
        "colab": {
          "background_save": true,
          "base_uri": "https://localhost:8080/"
        },
        "id": "WKARykyXRuLB",
        "outputId": "5675b74e-0b58-47e0-fb52-e2b17c916ad6"
      },
      "outputs": [
        {
          "data": {
            "text/plain": [
              "(4760,)"
            ]
          },
          "execution_count": 91,
          "metadata": {},
          "output_type": "execute_result"
        }
      ],
      "source": [
        "x.shape"
      ]
    },
    {
      "cell_type": "markdown",
      "metadata": {
        "id": "4HM27hhGScNJ"
      },
      "source": [
        "#Get Feature Text Conversion to Tokens"
      ]
    },
    {
      "cell_type": "code",
      "execution_count": null,
      "metadata": {
        "colab": {
          "background_save": true
        },
        "id": "r-mI3yYtS0BP"
      },
      "outputs": [],
      "source": [
        "from sklearn.feature_extraction.text import TfidfVectorizer"
      ]
    },
    {
      "cell_type": "code",
      "execution_count": null,
      "metadata": {
        "colab": {
          "background_save": true
        },
        "id": "dNqznbgoS_3m"
      },
      "outputs": [],
      "source": [
        "tfidf = TfidfVectorizer()"
      ]
    },
    {
      "cell_type": "code",
      "execution_count": null,
      "metadata": {
        "colab": {
          "background_save": true
        },
        "id": "PaBIs_u4TIoZ"
      },
      "outputs": [],
      "source": [
        "x = tfidf.fit_transform(x)"
      ]
    },
    {
      "cell_type": "code",
      "execution_count": null,
      "metadata": {
        "colab": {
          "background_save": true,
          "base_uri": "https://localhost:8080/"
        },
        "id": "ArEk40U0Tc6_",
        "outputId": "7c63ef2d-1e57-4ece-c33f-d0415646bc88"
      },
      "outputs": [
        {
          "data": {
            "text/plain": [
              "(4760, 22)"
            ]
          },
          "execution_count": 95,
          "metadata": {},
          "output_type": "execute_result"
        }
      ],
      "source": [
        "x.shape"
      ]
    },
    {
      "cell_type": "code",
      "execution_count": null,
      "metadata": {
        "colab": {
          "background_save": true,
          "base_uri": "https://localhost:8080/"
        },
        "id": "M-2z2Ue6Tf3L",
        "outputId": "a834ffb4-648b-44b3-e99b-afd85bb98241"
      },
      "outputs": [
        {
          "name": "stdout",
          "output_type": "stream",
          "text": [
            "  (0, 3)\t0.567994993044323\n",
            "  (0, 4)\t0.8230320090230874\n",
            "  (1, 9)\t0.5472567572025355\n",
            "  (1, 17)\t0.5472567572025355\n",
            "  (1, 0)\t0.4142450317397563\n",
            "  (1, 1)\t0.4789792658051688\n",
            "  (2, 7)\t0.627239616473057\n",
            "  (2, 2)\t0.7788263372066537\n",
            "  (3, 16)\t0.7095830468532522\n",
            "  (3, 6)\t0.4588789948650055\n",
            "  (3, 3)\t0.5347167172345909\n",
            "  (4, 6)\t1.0\n",
            "  (5, 14)\t0.782002165752056\n",
            "  (5, 6)\t0.3176099072747343\n",
            "  (5, 4)\t0.536280299433075\n",
            "  (6, 18)\t0.3253553205418715\n",
            "  (6, 8)\t0.47881894745127623\n",
            "  (6, 9)\t0.4462328816161391\n",
            "  (6, 17)\t0.4462328816161391\n",
            "  (6, 0)\t0.3377751882924471\n",
            "  (6, 1)\t0.3905594498406914\n",
            "  (7, 6)\t0.3575069281897745\n",
            "  (7, 9)\t0.6603744378367137\n",
            "  (7, 17)\t0.6603744378367137\n",
            "  (8, 16)\t0.8397120676014654\n",
            "  :\t:\n",
            "  (4747, 18)\t0.5234538862407621\n",
            "  (4747, 0)\t0.5434358187009642\n",
            "  (4747, 4)\t0.6562572208610403\n",
            "  (4748, 6)\t1.0\n",
            "  (4749, 6)\t1.0\n",
            "  (4750, 12)\t1.0\n",
            "  (4751, 12)\t1.0\n",
            "  (4752, 11)\t0.6121933556529567\n",
            "  (4752, 20)\t0.6603136584009235\n",
            "  (4752, 6)\t0.25303971500984057\n",
            "  (4752, 0)\t0.35380230419162007\n",
            "  (4753, 6)\t1.0\n",
            "  (4754, 8)\t0.4758711037326812\n",
            "  (4754, 7)\t0.44802247438711246\n",
            "  (4754, 2)\t0.5562972961995059\n",
            "  (4754, 0)\t0.33569567896558106\n",
            "  (4754, 1)\t0.3881549747732799\n",
            "  (4755, 12)\t1.0\n",
            "  (4756, 6)\t0.4138017193773235\n",
            "  (4756, 7)\t0.7721795703632187\n",
            "  (4756, 3)\t0.4821896392023016\n",
            "  (4757, 18)\t0.8028801653734292\n",
            "  (4757, 6)\t0.5961404532909466\n",
            "  (4758, 7)\t1.0\n",
            "  (4759, 5)\t1.0\n"
          ]
        }
      ],
      "source": [
        "print(x)"
      ]
    },
    {
      "cell_type": "markdown",
      "metadata": {
        "id": "qX1SM61BUKLA"
      },
      "source": [
        "#Get Similarity Score using Cosine Similarity"
      ]
    },
    {
      "cell_type": "markdown",
      "metadata": {
        "id": "-ru9WsgcUVOs"
      },
      "source": [
        "cosine similarity computes the L2-normalized dot product of vectors. Euclidean (L2) normalization projects the vectors onto the unit sphere, and their dot product is then the cosine of the angle between the points denoted by the vectors."
      ]
    },
    {
      "cell_type": "code",
      "execution_count": null,
      "metadata": {
        "colab": {
          "background_save": true
        },
        "id": "Lana1vRKUers"
      },
      "outputs": [],
      "source": [
        "from sklearn.metrics.pairwise import cosine_similarity"
      ]
    },
    {
      "cell_type": "code",
      "execution_count": null,
      "metadata": {
        "colab": {
          "background_save": true
        },
        "id": "xJNuY9DOUmxv"
      },
      "outputs": [],
      "source": [
        "Similarity_Score = cosine_similarity (x)"
      ]
    },
    {
      "cell_type": "code",
      "execution_count": null,
      "metadata": {
        "colab": {
          "background_save": true,
          "base_uri": "https://localhost:8080/"
        },
        "id": "bubkQrqPUwWJ",
        "outputId": "7163aeca-7114-46f1-909c-569ebdaee269"
      },
      "outputs": [
        {
          "data": {
            "text/plain": [
              "array([[1.        , 0.        , 0.        , ..., 0.        , 0.        ,\n",
              "        0.        ],\n",
              "       [0.        , 1.        , 0.        , ..., 0.        , 0.        ,\n",
              "        0.        ],\n",
              "       [0.        , 0.        , 1.        , ..., 0.        , 0.62723962,\n",
              "        0.        ],\n",
              "       ...,\n",
              "       [0.        , 0.        , 0.        , ..., 1.        , 0.        ,\n",
              "        0.        ],\n",
              "       [0.        , 0.        , 0.62723962, ..., 0.        , 1.        ,\n",
              "        0.        ],\n",
              "       [0.        , 0.        , 0.        , ..., 0.        , 0.        ,\n",
              "        1.        ]])"
            ]
          },
          "execution_count": 99,
          "metadata": {},
          "output_type": "execute_result"
        }
      ],
      "source": [
        "Similarity_Score"
      ]
    },
    {
      "cell_type": "code",
      "execution_count": null,
      "metadata": {
        "colab": {
          "background_save": true,
          "base_uri": "https://localhost:8080/"
        },
        "id": "NergZn1tU52I",
        "outputId": "e96a531a-9f23-401d-8936-19525df878ec"
      },
      "outputs": [
        {
          "data": {
            "text/plain": [
              "(4760, 4760)"
            ]
          },
          "execution_count": 100,
          "metadata": {},
          "output_type": "execute_result"
        }
      ],
      "source": [
        "Similarity_Score.shape"
      ]
    },
    {
      "cell_type": "markdown",
      "metadata": {
        "id": "R9_vPYGYVOtf"
      },
      "source": [
        "#Get Movie Name as input from user and validate for Closest Spelling"
      ]
    },
    {
      "cell_type": "code",
      "execution_count": null,
      "metadata": {
        "colab": {
          "base_uri": "https://localhost:8080/"
        },
        "id": "vcfWVwkaVc1D",
        "outputId": "2ba5f380-85a2-40e0-df1b-26fc90a6771a"
      },
      "outputs": [
        {
          "name": "stdout",
          "output_type": "stream",
          "text": [
            "Enter your favourite movie name :Baby\n"
          ]
        }
      ],
      "source": [
        "Favourite_Movie_Name = input('Enter your favourite movie name :')"
      ]
    },
    {
      "cell_type": "code",
      "execution_count": null,
      "metadata": {
        "id": "K1YLt-QZWCLh"
      },
      "outputs": [],
      "source": [
        "All_Movies_Title_List = df['Movie_Title'].tolist()"
      ]
    },
    {
      "cell_type": "code",
      "execution_count": null,
      "metadata": {
        "id": "1Qa1h1FMWMFW"
      },
      "outputs": [],
      "source": [
        "import difflib"
      ]
    },
    {
      "cell_type": "code",
      "execution_count": null,
      "metadata": {
        "colab": {
          "base_uri": "https://localhost:8080/"
        },
        "id": "KdlY7ZWbWTep",
        "outputId": "cfbf56ae-893c-4915-e48f-af2cb28808d9"
      },
      "outputs": [
        {
          "name": "stdout",
          "output_type": "stream",
          "text": [
            "['Babe', 'Bobby', 'Bambi']\n"
          ]
        }
      ],
      "source": [
        "Movie_Recommendation = difflib.get_close_matches (Favourite_Movie_Name, All_Movies_Title_List)\n",
        "print(Movie_Recommendation)"
      ]
    },
    {
      "cell_type": "code",
      "execution_count": null,
      "metadata": {
        "colab": {
          "base_uri": "https://localhost:8080/"
        },
        "id": "URV8Q537Wtra",
        "outputId": "bc72525e-f136-4818-aabd-39f0572e123c"
      },
      "outputs": [
        {
          "name": "stdout",
          "output_type": "stream",
          "text": [
            "Babe\n"
          ]
        }
      ],
      "source": [
        "Close_Match = Movie_Recommendation[0]\n",
        "print(Close_Match)"
      ]
    },
    {
      "cell_type": "code",
      "execution_count": null,
      "metadata": {
        "colab": {
          "base_uri": "https://localhost:8080/"
        },
        "id": "IBXN9BbWW7Jd",
        "outputId": "54050ba6-cdb7-4a64-a1b5-be78fd3874f5"
      },
      "outputs": [
        {
          "name": "stdout",
          "output_type": "stream",
          "text": [
            "1371\n"
          ]
        }
      ],
      "source": [
        "Index_of_close_Match_Movie = df[df.Movie_Title == Close_Match]['Movie_ID'].values[0]\n",
        "print(Index_of_close_Match_Movie)"
      ]
    },
    {
      "cell_type": "code",
      "execution_count": null,
      "metadata": {
        "colab": {
          "base_uri": "https://localhost:8080/"
        },
        "id": "Ne1AwdKrXhlO",
        "outputId": "4aa0b5ff-f62e-48d4-a054-086dbacfbc35"
      },
      "outputs": [
        {
          "name": "stdout",
          "output_type": "stream",
          "text": [
            "[(0, 1.0000000000000002), (1, 0.0), (2, 0.0), (3, 0.30371641808634475), (4, 0.0), (5, 0.4413758522419066), (6, 0.0), (7, 0.0), (8, 0.0), (9, 0.0), (10, 0.6339043008749563), (11, 0.0), (12, 0.0), (13, 0.0), (14, 0.20714996898280347), (15, 0.0), (16, 0.0), (17, 0.0), (18, 0.583875513314773), (19, 0.0), (20, 0.0), (21, 0.583875513314773), (22, 0.23138932480458474), (23, 0.0), (24, 0.0), (25, 0.22809390553148015), (26, 0.0), (27, 0.0), (28, 0.19019117130125418), (29, 0.0), (30, 0.0), (31, 0.0), (32, 0.0), (33, 0.0), (34, 0.0), (35, 0.0), (36, 0.0), (37, 0.0), (38, 0.8263345971085432), (39, 0.0), (40, 0.8263345971085432), (41, 0.0), (42, 1.0000000000000002), (43, 0.7081550652094583), (44, 0.0), (45, 0.17516171375210363), (46, 0.0), (47, 0.6434215686389435), (48, 0.5034329489782393), (49, 0.3418309935974081), (50, 1.0000000000000002), (51, 0.48961449960291215), (52, 0.40947121111520185), (53, 0.19618001847968786), (54, 0.0), (55, 0.0), (56, 0.0), (57, 0.0), (58, 0.0), (59, 0.2718742697370808), (60, 0.2246836102211848), (61, 0.0), (62, 0.0), (63, 0.0), (64, 0.0), (65, 0.0), (66, 0.0), (67, 0.0), (68, 0.5034329489782393), (69, 0.0), (70, 0.6434215686389435), (71, 0.0), (72, 0.6434215686389435), (73, 0.17516171375210363), (74, 0.0), (75, 0.0), (76, 0.0), (77, 0.0), (78, 0.0), (79, 0.0), (80, 0.0), (81, 0.425432133476214), (82, 0.43103465206787206), (83, 0.6434215686389435), (84, 0.0), (85, 0.3329782305685253), (86, 0.7985625266872162), (87, 0.4387748288474665), (88, 0.5401206989211701), (89, 0.6434215686389435), (90, 0.0), (91, 0.17516171375210363), (92, 0.0), (93, 0.0), (94, 0.0), (95, 0.0), (96, 0.7081550652094583), (97, 0.0), (98, 0.0), (99, 0.487748420682301), (100, 0.0), (101, 0.0), (102, 0.0), (103, 0.30371641808634475), (104, 0.0), (105, 0.7081550652094583), (106, 0.7081550652094583), (107, 0.0), (108, 0.7081550652094583), (109, 0.7081550652094583), (110, 0.3418309935974081), (111, 0.7081550652094583), (112, 0.583875513314773), (113, 0.20129523658970047), (114, 0.30371641808634475), (115, 0.43103465206787206), (116, 0.0), (117, 0.0), (118, 0.0), (119, 0.0), (120, 0.5131785263356021), (121, 0.0), (122, 0.0), (123, 0.5767357654463654), (124, 0.583875513314773), (125, 0.0), (126, 0.7081550652094583), (127, 0.0), (128, 0.0), (129, 0.30371641808634475), (130, 0.0), (131, 0.0), (132, 0.0), (133, 0.0), (134, 0.17106633086044268), (135, 0.0), (136, 0.0), (137, 0.6434215686389435), (138, 0.6434215686389435), (139, 0.8263345971085432), (140, 0.0), (141, 0.28786615125602555), (142, 0.7081550652094583), (143, 0.6339043008749563), (144, 0.4629433684599681), (145, 0.46242980852780385), (146, 0.3418309935974081), (147, 0.4387748288474665), (148, 0.43786488103126425), (149, 0.583875513314773), (150, 0.0), (151, 0.0), (152, 0.0), (153, 0.21577633031653012), (154, 0.0), (155, 0.0), (156, 0.30371641808634475), (157, 0.43103465206787206), (158, 0.0), (159, 0.0), (160, 0.0), (161, 0.30371641808634475), (162, 0.0), (163, 0.0), (164, 0.0), (165, 0.0), (166, 0.583875513314773), (167, 0.0), (168, 0.0), (169, 0.30371641808634475), (170, 0.5401206989211701), (171, 0.0), (172, 0.7081550652094583), (173, 0.7081550652094583), (174, 0.30371641808634475), (175, 0.43103465206787206), (176, 0.0), (177, 0.0), (178, 0.0), (179, 0.0), (180, 0.47021351392503186), (181, 0.47021351392503186), (182, 0.29684000419184997), (183, 0.0), (184, 0.0), (185, 0.18483521554033774), (186, 0.0), (187, 0.0), (188, 0.22351445188110844), (189, 0.0), (190, 0.583875513314773), (191, 0.0), (192, 0.0), (193, 0.0), (194, 0.0), (195, 0.30371641808634475), (196, 0.0), (197, 0.20129523658970047), (198, 0.0), (199, 0.583875513314773), (200, 0.0), (201, 0.4573297427907054), (202, 0.30371641808634475), (203, 0.0), (204, 0.2639790875582987), (205, 0.5679949930443231), (206, 0.4982391897340294), (207, 0.6434215686389435), (208, 0.0), (209, 0.7081550652094583), (210, 0.5034329489782393), (211, 0.30371641808634475), (212, 0.30371641808634475), (213, 0.0), (214, 0.27664267249487123), (215, 0.23097686636700035), (216, 0.7081550652094583), (217, 0.5867310125531698), (218, 0.0), (219, 0.18483521554033774), (220, 0.0), (221, 0.0), (222, 0.0), (223, 0.0), (224, 0.0), (225, 0.3418309935974081), (226, 0.0), (227, 0.0), (228, 0.0), (229, 0.0), (230, 0.0), (231, 0.0), (232, 0.0), (233, 0.0), (234, 0.0), (235, 0.0), (236, 0.4387748288474665), (237, 0.0), (238, 0.23255243683839796), (239, 0.0), (240, 0.0), (241, 0.0), (242, 0.0), (243, 0.0), (244, 0.5401206989211701), (245, 0.20714996898280347), (246, 0.43103465206787206), (247, 0.0), (248, 0.0), (249, 0.0), (250, 0.0), (251, 0.48478969250256965), (252, 0.0), (253, 0.43103465206787206), (254, 0.7081550652094583), (255, 0.0), (256, 0.7081550652094583), (257, 0.0), (258, 0.0), (259, 0.0), (260, 0.0), (261, 0.0), (262, 0.0), (263, 0.18535507372952473), (264, 0.18535507372952473), (265, 0.0), (266, 0.0), (267, 0.0), (268, 0.0), (269, 0.0), (270, 0.48478969250256965), (271, 0.0), (272, 0.0), (273, 0.0), (274, 0.7081550652094583), (275, 0.0), (276, 0.583875513314773), (277, 0.0), (278, 0.30371641808634475), (279, 0.30371641808634475), (280, 0.7081550652094583), (281, 0.7081550652094583), (282, 0.3249723364804153), (283, 0.0), (284, 0.0), (285, 0.7081550652094583), (286, 0.0), (287, 0.7081550652094583), (288, 0.0), (289, 0.0), (290, 0.0), (291, 0.487748420682301), (292, 0.0), (293, 0.0), (294, 0.0), (295, 0.0), (296, 0.0), (297, 0.0), (298, 0.0), (299, 0.0), (300, 0.0), (301, 0.0), (302, 0.0), (303, 0.0), (304, 0.6434215686389435), (305, 0.0), (306, 0.0), (307, 0.0), (308, 0.0), (309, 0.0), (310, 0.0), (311, 0.7411679278581932), (312, 0.3418309935974081), (313, 0.0), (314, 0.0), (315, 0.0), (316, 0.0), (317, 0.0), (318, 0.30371641808634475), (319, 0.24297843223922808), (320, 0.0), (321, 0.0), (322, 0.0), (323, 0.0), (324, 0.0), (325, 0.30371641808634475), (326, 0.0), (327, 0.0), (328, 0.0), (329, 0.0), (330, 0.0), (331, 0.3017605556605137), (332, 0.0), (333, 0.37901136251422485), (334, 0.43786488103126425), (335, 0.0), (336, 0.23547943551826447), (337, 0.0), (338, 0.2238882792320672), (339, 0.2238882792320672), (340, 0.0), (341, 0.0), (342, 0.7081550652094583), (343, 0.0), (344, 0.3008471204054971), (345, 0.639089975894559), (346, 0.43103465206787206), (347, 0.0), (348, 0.0), (349, 0.0), (350, 0.26739721190093774), (351, 0.273881300764756), (352, 0.0), (353, 0.0), (354, 0.0), (355, 0.0), (356, 0.0), (357, 0.21859754281563193), (358, 0.0), (359, 0.0), (360, 0.46242980852780385), (361, 0.16171487279720403), (362, 0.16171487279720403), (363, 0.16171487279720403), (364, 0.0), (365, 0.16171487279720403), (366, 0.5679949930443231), (367, 0.6176417924913914), (368, 0.5553522418587216), (369, 0.6176417924913914), (370, 0.583875513314773), (371, 0.0), (372, 0.0), (373, 0.0), (374, 0.0), (375, 0.0), (376, 0.0), (377, 0.43103465206787206), (378, 0.0), (379, 0.0), (380, 0.0), (381, 0.0), (382, 0.0), (383, 0.3008471204054971), (384, 0.0), (385, 0.6322617387558075), (386, 0.0), (387, 0.0), (388, 0.0), (389, 0.0), (390, 0.0), (391, 0.20714996898280347), (392, 0.20714996898280347), (393, 0.5679949930443231), (394, 0.0), (395, 0.0), (396, 0.7081550652094583), (397, 0.0), (398, 0.2113048283129337), (399, 0.0), (400, 0.0), (401, 0.19618001847968786), (402, 0.0), (403, 0.0), (404, 0.22351445188110844), (405, 0.1765431671236652), (406, 0.0), (407, 0.0), (408, 0.5562207253874156), (409, 0.18483521554033774), (410, 0.0), (411, 0.0), (412, 0.0), (413, 0.19379605976894662), (414, 0.2238882792320672), (415, 0.2238882792320672), (416, 0.21859754281563193), (417, 0.63038198930517), (418, 0.63038198930517), (419, 0.0), (420, 0.0), (421, 0.18483521554033774), (422, 0.5679949930443231), (423, 0.0), (424, 0.0), (425, 0.0), (426, 0.0), (427, 0.23138932480458474), (428, 0.0), (429, 0.4387748288474665), (430, 0.0), (431, 0.30371641808634475), (432, 0.0), (433, 0.0), (434, 0.0), (435, 0.5401206989211701), (436, 0.0), (437, 0.0), (438, 0.0), (439, 0.0), (440, 0.0), (441, 0.0), (442, 0.0), (443, 0.0), (444, 0.0), (445, 0.0), (446, 0.0), (447, 0.583875513314773), (448, 0.0), (449, 0.0), (450, 0.583875513314773), (451, 0.0), (452, 0.0), (453, 0.0), (454, 0.5679949930443231), (455, 0.0), (456, 0.2246836102211848), (457, 0.0), (458, 0.5034329489782393), (459, 0.3008471204054971), (460, 0.0), (461, 0.18483521554033774), (462, 0.0), (463, 0.583875513314773), (464, 0.0), (465, 0.0), (466, 0.0), (467, 0.0), (468, 0.0), (469, 0.0), (470, 0.0), (471, 0.30371641808634475), (472, 0.0), (473, 0.43103465206787206), (474, 0.7985625266872162), (475, 0.0), (476, 0.0), (477, 0.0), (478, 0.0), (479, 0.8988985380610965), (480, 0.0), (481, 0.583875513314773), (482, 0.0), (483, 0.4982391897340294), (484, 0.0), (485, 0.7081550652094583), (486, 0.0), (487, 0.0), (488, 0.0), (489, 0.0), (490, 0.0), (491, 0.0), (492, 0.0), (493, 0.0), (494, 0.8263345971085432), (495, 0.0), (496, 0.0), (497, 0.16427569571320033), (498, 0.18123249825377305), (499, 0.0), (500, 0.5401206989211701), (501, 0.4573297427907054), (502, 0.583875513314773), (503, 1.0000000000000002), (504, 0.30371641808634475), (505, 0.43103465206787206), (506, 0.3017605556605137), (507, 0.43103465206787206), (508, 0.43103465206787206), (509, 0.0), (510, 0.30371641808634475), (511, 0.0), (512, 0.0), (513, 0.0), (514, 0.0), (515, 0.5641141172236428), (516, 0.0), (517, 0.0), (518, 0.0), (519, 0.0), (520, 0.3418309935974081), (521, 0.24297843223922808), (522, 0.0), (523, 0.0), (524, 0.0), (525, 0.5679949930443231), (526, 0.0), (527, 0.0), (528, 0.18123249825377305), (529, 0.3418309935974081), (530, 0.6434215686389435), (531, 0.3418309935974081), (532, 0.7263443860401056), (533, 0.5034329489782393), (534, 0.5034329489782393), (535, 0.5679949930443231), (536, 0.5679949930443231), (537, 0.0), (538, 0.23886835105521936), (539, 0.5101769149487704), (540, 0.0), (541, 0.0), (542, 0.4013996874396063), (543, 0.583875513314773), (544, 0.7081550652094583), (545, 0.20144017329217245), (546, 0.15511670560555457), (547, 0.5562207253874156), (548, 0.0), (549, 0.0), (550, 0.0), (551, 0.0), (552, 0.0), (553, 0.0), (554, 0.0), (555, 0.0), (556, 0.0), (557, 0.0), (558, 0.514205322522608), (559, 0.0), (560, 0.5401206989211701), (561, 0.0), (562, 0.0), (563, 0.0), (564, 0.0), (565, 0.0), (566, 0.4413758522419066), (567, 0.0), (568, 0.0), (569, 0.0), (570, 0.0), (571, 0.0), (572, 0.0), (573, 0.0), (574, 0.0), (575, 0.0), (576, 0.0), (577, 0.5679949930443231), (578, 0.0), (579, 0.30371641808634475), (580, 0.0), (581, 0.0), (582, 0.3418309935974081), (583, 0.3418309935974081), (584, 0.583875513314773), (585, 0.5679949930443231), (586, 0.23547943551826447), (587, 0.0), (588, 0.0), (589, 0.30371641808634475), (590, 0.0), (591, 0.0), (592, 0.0), (593, 0.0), (594, 0.29684000419184997), (595, 0.0), (596, 0.0), (597, 0.0), (598, 0.0), (599, 0.0), (600, 0.0), (601, 0.0), (602, 0.0), (603, 0.0), (604, 0.583875513314773), (605, 0.30371641808634475), (606, 0.0), (607, 0.0), (608, 0.0), (609, 0.30371641808634475), (610, 0.0), (611, 0.0), (612, 0.0), (613, 0.0), (614, 0.0), (615, 0.0), (616, 0.0), (617, 0.0), (618, 0.0), (619, 0.0), (620, 0.0), (621, 0.5401206989211701), (622, 0.4387748288474665), (623, 0.0), (624, 0.0), (625, 0.0), (626, 0.0), (627, 0.0), (628, 0.0), (629, 0.5058063852410103), (630, 0.3017605556605137), (631, 0.0), (632, 0.5342440980835169), (633, 0.0), (634, 0.0), (635, 0.0), (636, 0.0), (637, 0.0), (638, 0.0), (639, 0.0), (640, 0.0), (641, 0.0), (642, 0.0), (643, 0.583875513314773), (644, 0.0), (645, 0.0), (646, 0.0), (647, 0.0), (648, 0.5679949930443231), (649, 0.3418309935974081), (650, 0.0), (651, 0.0), (652, 0.4387748288474665), (653, 0.5034329489782393), (654, 0.4192705289858906), (655, 0.0), (656, 0.0), (657, 0.0), (658, 0.0), (659, 0.43103465206787206), (660, 0.0), (661, 0.0), (662, 0.1760304455807163), (663, 0.0), (664, 1.0000000000000002), (665, 0.3418309935974081), (666, 0.0), (667, 0.8359599600793752), (668, 0.5401206989211701), (669, 0.5034329489782393), (670, 0.0), (671, 0.3418309935974081), (672, 0.3187048363740058), (673, 0.5034329489782393), (674, 0.0), (675, 0.583875513314773), (676, 0.4387748288474665), (677, 0.0), (678, 0.8359599600793752), (679, 0.5679949930443231), (680, 0.0), (681, 0.0), (682, 0.5401206989211701), (683, 0.5767357654463654), (684, 0.3961737136798332), (685, 0.0), (686, 0.0), (687, 0.2923150984427964), (688, 0.0), (689, 0.0), (690, 0.2923150984427964), (691, 0.43103465206787206), (692, 0.4573297427907054), (693, 0.0), (694, 0.0), (695, 0.46242980852780385), (696, 0.0), (697, 0.30371641808634475), (698, 0.0), (699, 0.0), (700, 0.0), (701, 0.4387748288474665), (702, 0.23138932480458474), (703, 0.18980511496746655), (704, 0.0), (705, 0.0), (706, 0.0), (707, 0.23097686636700035), (708, 0.5679949930443231), (709, 0.3418309935974081), (710, 0.5679949930443231), (711, 0.5679949930443231), (712, 0.17011662363129715), (713, 0.0), (714, 0.0), (715, 0.0), (716, 0.0), (717, 0.0), (718, 0.0), (719, 0.0), (720, 0.19618001847968786), (721, 0.0), (722, 0.0), (723, 0.0), (724, 0.0), (725, 0.0), (726, 0.17833976282103628), (727, 0.0), (728, 0.0), (729, 0.0), (730, 0.5679949930443231), (731, 0.0), (732, 0.0), (733, 0.0), (734, 0.0), (735, 0.30371641808634475), (736, 0.23886835105521936), (737, 0.30371641808634475), (738, 0.0), (739, 0.0), (740, 0.43103465206787206), (741, 0.3418309935974081), (742, 0.0), (743, 0.0), (744, 0.0), (745, 0.4956984101000079), (746, 0.0), (747, 0.0), (748, 0.0), (749, 0.0), (750, 0.0), (751, 0.19019117130125418), (752, 0.22351445188110844), (753, 0.5401206989211701), (754, 0.3418309935974081), (755, 0.43103465206787206), (756, 0.0), (757, 0.8988985380610965), (758, 0.3418309935974081), (759, 0.43103465206787206), (760, 0.5738717156610825), (761, 0.0), (762, 0.0), (763, 0.0), (764, 0.3418309935974081), (765, 0.0), (766, 0.0), (767, 0.0), (768, 0.3418309935974081), (769, 0.0), (770, 0.2238882792320672), (771, 0.5679949930443231), (772, 0.5679949930443231), (773, 0.18153173785689253), (774, 0.0), (775, 0.0), (776, 0.19403957075565798), (777, 0.0), (778, 0.23138932480458474), (779, 0.0), (780, 0.27664267249487123), (781, 0.22351445188110844), (782, 0.0), (783, 0.0), (784, 0.2113048283129337), (785, 0.3418309935974081), (786, 0.2113048283129337), (787, 0.43103465206787206), (788, 0.43103465206787206), (789, 0.0), (790, 0.46242980852780385), (791, 0.0), (792, 0.4461007377968182), (793, 0.23789607564317364), (794, 0.0), (795, 0.7014088674552168), (796, 0.0), (797, 0.25519671925973303), (798, 0.0), (799, 0.583875513314773), (800, 0.0), (801, 0.46242980852780385), (802, 0.0), (803, 0.0), (804, 0.0), (805, 0.0), (806, 0.48478969250256965), (807, 0.22351445188110844), (808, 0.0), (809, 0.0), (810, 0.0), (811, 0.0), (812, 0.0), (813, 0.0), (814, 0.5679949930443231), (815, 0.0), (816, 0.48478969250256965), (817, 0.0), (818, 0.0), (819, 0.0), (820, 0.3418309935974081), (821, 0.158864786755781), (822, 0.28786615125602555), (823, 0.0), (824, 0.273881300764756), (825, 0.5401206989211701), (826, 0.0), (827, 0.5401206989211701), (828, 0.7081550652094583), (829, 0.583875513314773), (830, 0.0), (831, 0.0), (832, 0.0), (833, 0.425432133476214), (834, 0.0), (835, 0.0), (836, 0.22351445188110844), (837, 0.5679949930443231), (838, 0.0), (839, 0.5679949930443231), (840, 0.5679949930443231), (841, 0.5679949930443231), (842, 0.63038198930517), (843, 0.0), (844, 0.0), (845, 0.0), (846, 0.3418309935974081), (847, 0.30371641808634475), (848, 0.0), (849, 0.19375533254577662), (850, 0.0), (851, 0.6159834160235882), (852, 0.0), (853, 0.583875513314773), (854, 0.0), (855, 0.0), (856, 0.0), (857, 0.0), (858, 0.0), (859, 0.1981267040902694), (860, 0.583875513314773), (861, 0.0), (862, 1.0000000000000002), (863, 0.0), (864, 0.48478969250256965), (865, 0.0), (866, 0.5034329489782393), (867, 0.30371641808634475), (868, 0.0), (869, 0.8263345971085432), (870, 0.4387748288474665), (871, 0.0), (872, 0.1784879850676341), (873, 0.3418309935974081), (874, 0.7081550652094583), (875, 0.4573297427907054), (876, 0.583875513314773), (877, 0.0), (878, 0.5034329489782393), (879, 0.6686472029183568), (880, 0.0), (881, 0.0), (882, 0.0), (883, 0.30371641808634475), (884, 0.43103465206787206), (885, 0.30371641808634475), (886, 0.43103465206787206), (887, 0.0), (888, 0.583875513314773), (889, 0.0), (890, 0.30371641808634475), (891, 0.0), (892, 0.5679949930443231), (893, 0.0), (894, 0.7081550652094583), (895, 0.0), (896, 0.4387748288474665), (897, 0.0), (898, 0.2571514474953518), (899, 0.0), (900, 0.0), (901, 0.0), (902, 0.0), (903, 0.19271233439482083), (904, 0.7263443860401056), (905, 0.7263443860401056), (906, 0.0), (907, 0.30371641808634475), (908, 0.6322178735687727), (909, 0.0), (910, 0.0), (911, 0.0), (912, 0.14456434655490227), (913, 0.0), (914, 0.0), (915, 0.376832951608443), (916, 0.8359599600793752), (917, 0.0), (918, 0.34679587544965074), (919, 0.0), (920, 0.18483521554033774), (921, 0.0), (922, 0.0), (923, 0.32405074767580655), (924, 0.0), (925, 0.27456993478680874), (926, 0.18936720446742203), (927, 0.0), (928, 0.5401206989211701), (929, 0.0), (930, 0.0), (931, 0.8359599600793752), (932, 0.0), (933, 0.43103465206787206), (934, 0.0), (935, 0.0), (936, 0.0), (937, 0.4387748288474665), (938, 0.3418309935974081), (939, 0.8988985380610965), (940, 0.2246836102211848), (941, 0.43103465206787206), (942, 0.583875513314773), (943, 0.5679949930443231), (944, 0.0), (945, 0.1737603782899507), (946, 0.22949185443790376), (947, 0.5034329489782393), (948, 0.7014088674552168), (949, 0.0), (950, 0.0), (951, 0.17110826049674532), (952, 0.0), (953, 0.0), (954, 0.0), (955, 0.5679949930443231), (956, 0.2718742697370808), (957, 0.2639790875582987), (958, 0.5679949930443231), (959, 0.0), (960, 0.0), (961, 0.14726542663181746), (962, 0.0), (963, 0.0), (964, 0.3017605556605137), (965, 0.2718742697370808), (966, 0.0), (967, 0.0), (968, 0.0), (969, 0.23097686636700035), (970, 0.2571514474953518), (971, 0.3418309935974081), (972, 0.24297843223922808), (973, 0.30371641808634475), (974, 0.0), (975, 0.0), (976, 0.46242980852780385), (977, 0.0), (978, 0.5679949930443231), (979, 0.0), (980, 0.0), (981, 0.0), (982, 0.3418309935974081), (983, 0.3418309935974081), (984, 0.43103465206787206), (985, 0.30371641808634475), (986, 0.3785997651581997), (987, 0.0), (988, 0.34868255055754865), (989, 0.583875513314773), (990, 0.21083329875665308), (991, 0.0), (992, 0.0), (993, 0.0), (994, 0.5767357654463654), (995, 0.5679949930443231), (996, 0.2923150984427964), (997, 0.0), (998, 0.30371641808634475), (999, 0.30371641808634475), (1000, 0.5034329489782393), (1001, 0.0), (1002, 0.30371641808634475), (1003, 0.0), (1004, 0.0), (1005, 0.5767357654463654), (1006, 0.43103465206787206), (1007, 0.19695638667396234), (1008, 0.20714996898280347), (1009, 0.0), (1010, 0.3636387599226757), (1011, 0.0), (1012, 0.0), (1013, 0.17516171375210363), (1014, 0.0), (1015, 0.5034329489782393), (1016, 0.0), (1017, 0.4013996874396063), (1018, 0.6434215686389435), (1019, 0.0), (1020, 0.0), (1021, 0.43103465206787206), (1022, 0.20144017329217245), (1023, 0.0), (1024, 0.7263443860401056), (1025, 0.20714996898280347), (1026, 0.0), (1027, 0.0), (1028, 0.5679949930443231), (1029, 0.5679949930443231), (1030, 0.0), (1031, 0.0), (1032, 0.0), (1033, 0.0), (1034, 0.0), (1035, 0.5034329489782393), (1036, 0.0), (1037, 0.0), (1038, 0.3418309935974081), (1039, 0.0), (1040, 0.30371641808634475), (1041, 0.0), (1042, 0.0), (1043, 0.0), (1044, 0.0), (1045, 0.0), (1046, 0.0), (1047, 0.8359599600793752), (1048, 0.0), (1049, 0.30371641808634475), (1050, 0.3154016816111682), (1051, 0.0), (1052, 0.0), (1053, 0.5562207253874156), (1054, 0.5401206989211701), (1055, 0.0), (1056, 0.0), (1057, 0.0), (1058, 0.6434215686389435), (1059, 0.0), (1060, 0.0), (1061, 0.7072667445795884), (1062, 0.5679949930443231), (1063, 0.4573297427907054), (1064, 0.4387748288474665), (1065, 0.0), (1066, 0.0), (1067, 0.0), (1068, 0.46242980852780385), (1069, 0.0), (1070, 0.5679949930443231), (1071, 0.0), (1072, 0.0), (1073, 0.3418309935974081), (1074, 0.5332426527603555), (1075, 0.0), (1076, 0.6339043008749563), (1077, 0.0), (1078, 0.8988985380610965), (1079, 0.22763796978908543), (1080, 0.0), (1081, 0.0), (1082, 0.0), (1083, 0.0), (1084, 0.30371641808634475), (1085, 0.18483521554033774), (1086, 0.0), (1087, 0.0), (1088, 0.273881300764756), (1089, 0.5679949930443231), (1090, 0.0), (1091, 0.0), (1092, 0.5401206989211701), (1093, 0.5679949930443231), (1094, 0.3418309935974081), (1095, 0.0), (1096, 0.0), (1097, 0.0), (1098, 0.0), (1099, 0.23789607564317364), (1100, 0.43103465206787206), (1101, 0.0), (1102, 0.0), (1103, 0.5679949930443231), (1104, 0.487748420682301), (1105, 0.5679949930443231), (1106, 0.5679949930443231), (1107, 0.583875513314773), (1108, 0.14329904911866387), (1109, 0.30371641808634475), (1110, 0.0), (1111, 0.0), (1112, 0.43103465206787206), (1113, 0.1737603782899507), (1114, 0.0), (1115, 0.63038198930517), (1116, 0.5534893029799297), (1117, 0.43103465206787206), (1118, 0.0), (1119, 0.46022473667868075), (1120, 0.0), (1121, 0.0), (1122, 0.0), (1123, 0.0), (1124, 0.43103465206787206), (1125, 0.5679949930443231), (1126, 0.26239005965208617), (1127, 0.0), (1128, 0.5172863799713138), (1129, 0.0), (1130, 0.5679949930443231), (1131, 0.0), (1132, 0.583875513314773), (1133, 0.5679949930443231), (1134, 0.0), (1135, 0.0), (1136, 0.0), (1137, 0.37901136251422485), (1138, 0.0), (1139, 0.5679949930443231), (1140, 0.0), (1141, 0.5034329489782393), (1142, 0.22351445188110844), (1143, 0.0), (1144, 0.0), (1145, 0.0), (1146, 0.0), (1147, 0.0), (1148, 0.583875513314773), (1149, 0.5679949930443231), (1150, 0.0), (1151, 0.0), (1152, 0.5679949930443231), (1153, 0.22596225422478344), (1154, 0.0), (1155, 0.22351445188110844), (1156, 0.24297843223922808), (1157, 0.3418309935974081), (1158, 0.0), (1159, 0.0), (1160, 0.34197131862015034), (1161, 0.0), (1162, 0.5401206989211701), (1163, 0.0), (1164, 0.0), (1165, 0.18483521554033774), (1166, 0.20714996898280347), (1167, 0.0), (1168, 0.0), (1169, 0.43103465206787206), (1170, 0.30371641808634475), (1171, 0.0), (1172, 0.0), (1173, 0.63038198930517), (1174, 0.0), (1175, 0.0), (1176, 0.0), (1177, 0.0), (1178, 0.5679949930443231), (1179, 0.0), (1180, 0.5679949930443231), (1181, 0.0), (1182, 0.0), (1183, 0.5034329489782393), (1184, 0.39428954023709367), (1185, 0.4573297427907054), (1186, 0.0), (1187, 0.30371641808634475), (1188, 0.0), (1189, 0.0), (1190, 0.23886835105521936), (1191, 0.0), (1192, 0.0), (1193, 0.2217650105777882), (1194, 0.785428706163669), (1195, 0.0), (1196, 0.22351445188110844), (1197, 0.0), (1198, 0.14305842647271932), (1199, 0.20326845019856982), (1200, 0.3418309935974081), (1201, 0.3418309935974081), (1202, 0.0), (1203, 0.43103465206787206), (1204, 0.43103465206787206), (1205, 0.19403957075565798), (1206, 0.0), (1207, 0.0), (1208, 0.30371641808634475), (1209, 0.0), (1210, 0.0), (1211, 0.2571514474953518), (1212, 0.17647931868170114), (1213, 1.0000000000000002), (1214, 0.8263345971085432), (1215, 0.0), (1216, 0.30371641808634475), (1217, 0.30371641808634475), (1218, 0.0), (1219, 0.0), (1220, 0.0), (1221, 0.0), (1222, 0.3008471204054971), (1223, 0.0), (1224, 0.5516117320731453), (1225, 0.0), (1226, 0.5401206989211701), (1227, 0.5679949930443231), (1228, 0.0), (1229, 0.0), (1230, 0.37901136251422485), (1231, 0.785428706163669), (1232, 0.7741569759082517), (1233, 0.0), (1234, 0.8988985380610965), (1235, 0.3008471204054971), (1236, 0.5231601293085086), (1237, 0.48961449960291215), (1238, 0.3321145292589752), (1239, 0.0), (1240, 0.0), (1241, 0.0), (1242, 0.3321145292589752), (1243, 0.43103465206787206), (1244, 0.2718742697370808), (1245, 0.0), (1246, 0.1760304455807163), (1247, 0.0), (1248, 0.48961449960291215), (1249, 0.19019117130125418), (1250, 0.0), (1251, 0.273881300764756), (1252, 0.4013996874396063), (1253, 0.0), (1254, 0.0), (1255, 0.0), (1256, 0.173804971785878), (1257, 0.0), (1258, 0.0), (1259, 0.5401206989211701), (1260, 1.0000000000000002), (1261, 0.2246836102211848), (1262, 0.0), (1263, 0.0), (1264, 0.7081550652094583), (1265, 0.0), (1266, 0.0), (1267, 0.5679949930443231), (1268, 0.3008471204054971), (1269, 0.0), (1270, 0.0), (1271, 0.0), (1272, 0.0), (1273, 0.0), (1274, 0.0), (1275, 0.583875513314773), (1276, 0.5401206989211701), (1277, 0.2102755679825115), (1278, 0.28786615125602555), (1279, 0.0), (1280, 0.0), (1281, 0.0), (1282, 1.0000000000000002), (1283, 0.0), (1284, 0.43103465206787206), (1285, 0.0), (1286, 0.30371641808634475), (1287, 0.0), (1288, 0.3321145292589752), (1289, 0.5679949930443231), (1290, 0.5767357654463654), (1291, 0.20714996898280347), (1292, 0.7263443860401056), (1293, 0.2718742697370808), (1294, 0.0), (1295, 0.0), (1296, 0.0), (1297, 0.5679949930443231), (1298, 0.43103465206787206), (1299, 0.5679949930443231), (1300, 0.8359599600793752), (1301, 0.0), (1302, 0.24139196773593047), (1303, 0.4387748288474665), (1304, 0.43103465206787206), (1305, 0.0), (1306, 0.0), (1307, 0.0), (1308, 0.18809149088003307), (1309, 0.23789607564317364), (1310, 0.18123249825377305), (1311, 0.5679949930443231), (1312, 0.43103465206787206), (1313, 0.30371641808634475), (1314, 0.4192705289858906), (1315, 0.0), (1316, 0.0), (1317, 0.7441733654212612), (1318, 0.43103465206787206), (1319, 0.0), (1320, 0.6457800486320142), (1321, 0.2718742697370808), (1322, 0.5679949930443231), (1323, 0.1850790410400902), (1324, 0.0), (1325, 0.4387748288474665), (1326, 0.2718742697370808), (1327, 0.18483521554033774), (1328, 0.0), (1329, 0.3418309935974081), (1330, 1.0000000000000002), (1331, 0.5679949930443231), (1332, 0.0), (1333, 0.18483521554033774), (1334, 0.48478969250256965), (1335, 0.5034329489782393), (1336, 0.20714996898280347), (1337, 0.6846976703492698), (1338, 0.5767357654463654), (1339, 0.7081550652094583), (1340, 0.22809390553148015), (1341, 0.1620626897784215), (1342, 0.0), (1343, 0.487748420682301), (1344, 1.0000000000000002), (1345, 0.3418309935974081), (1346, 0.0), (1347, 0.0), (1348, 0.5839228119627052), (1349, 0.0), (1350, 0.0), (1351, 0.0), (1352, 0.0), (1353, 0.5679949930443231), (1354, 0.0), (1355, 0.0), (1356, 0.0), (1357, 0.0), (1358, 0.0), (1359, 0.43103465206787206), (1360, 0.4387748288474665), (1361, 0.19379605976894662), (1362, 0.3418309935974081), (1363, 0.3418309935974081), (1364, 0.30371641808634475), (1365, 0.0), (1366, 0.0), (1367, 0.43103465206787206), (1368, 0.18123249825377305), (1369, 0.5034329489782393), (1370, 0.21176515903968685), (1371, 1.0000000000000002), (1372, 0.30371641808634475), (1373, 0.19618001847968786), (1374, 0.0), (1375, 0.0), (1376, 0.5679949930443231), (1377, 0.5034329489782393), (1378, 0.0), (1379, 0.2718742697370808), (1380, 0.0), (1381, 0.0), (1382, 0.30371641808634475), (1383, 0.0), (1384, 0.0), (1385, 0.4344108990832536), (1386, 0.0), (1387, 0.3886412338839975), (1388, 0.22921609014822467), (1389, 0.5679949930443231), (1390, 0.5679949930443231), (1391, 0.0), (1392, 0.2639790875582987), (1393, 0.6339043008749563), (1394, 0.23069513910540596), (1395, 0.0), (1396, 0.0), (1397, 0.2058280007050863), (1398, 0.0), (1399, 0.0), (1400, 0.0), (1401, 0.3321145292589752), (1402, 0.0), (1403, 0.30371641808634475), (1404, 0.0), (1405, 0.23886835105521936), (1406, 0.5401206989211701), (1407, 0.0), (1408, 0.243921352419841), (1409, 0.43103465206787206), (1410, 0.30371641808634475), (1411, 0.43103465206787206), (1412, 0.4573297427907054), (1413, 0.0), (1414, 0.0), (1415, 0.0), (1416, 0.0), (1417, 0.5034329489782393), (1418, 0.0), (1419, 0.5401206989211701), (1420, 0.17135429654829448), (1421, 0.0), (1422, 0.43103465206787206), (1423, 0.0), (1424, 0.2113048283129337), (1425, 0.5679949930443231), (1426, 0.0), (1427, 0.30371641808634475), (1428, 0.0), (1429, 0.0), (1430, 0.0), (1431, 0.0), (1432, 0.7263443860401056), (1433, 0.0), (1434, 0.0), (1435, 0.0), (1436, 0.4573297427907054), (1437, 0.2718742697370808), (1438, 0.3961737136798332), (1439, 0.0), (1440, 0.4789230426730268), (1441, 0.3418309935974081), (1442, 0.0), (1443, 0.0), (1444, 0.5679949930443231), (1445, 0.3418309935974081), (1446, 0.43103465206787206), (1447, 0.24297843223922808), (1448, 0.0), (1449, 0.0), (1450, 0.0), (1451, 0.0), (1452, 0.0), (1453, 0.3418309935974081), (1454, 0.0), (1455, 0.5401206989211701), (1456, 0.0), (1457, 0.3418309935974081), (1458, 0.0), (1459, 0.0), (1460, 0.0), (1461, 1.0000000000000002), (1462, 0.0), (1463, 0.0), (1464, 0.0), (1465, 0.43103465206787206), (1466, 0.0), (1467, 0.0), (1468, 0.1620626897784215), (1469, 0.1686390058456527), (1470, 0.0), (1471, 0.3785997651581997), (1472, 0.0), (1473, 0.25519671925973303), (1474, 0.0), (1475, 0.0), (1476, 0.30371641808634475), (1477, 0.1859873289341885), (1478, 0.5034329489782393), (1479, 0.30371641808634475), (1480, 0.0), (1481, 0.583875513314773), (1482, 0.24613015459227874), (1483, 0.5034329489782393), (1484, 0.0), (1485, 0.3418309935974081), (1486, 0.2078825492324872), (1487, 0.3008471204054971), (1488, 0.32405074767580655), (1489, 0.2583585971236706), (1490, 0.3321145292589752), (1491, 0.24297843223922808), (1492, 0.5679949930443231), (1493, 0.0), (1494, 0.43103465206787206), (1495, 0.16171487279720403), (1496, 0.20714996898280347), (1497, 0.0), (1498, 0.0), (1499, 0.0), (1500, 0.0), (1501, 0.3418309935974081), (1502, 0.0), (1503, 0.0), (1504, 0.6339043008749563), (1505, 0.16037173618136102), (1506, 0.6686472029183568), (1507, 1.0000000000000002), (1508, 0.5679949930443231), (1509, 0.4387748288474665), (1510, 0.0), (1511, 0.0), (1512, 0.0), (1513, 0.7664937195686478), (1514, 0.0), (1515, 0.0), (1516, 0.3187048363740058), (1517, 0.5679949930443231), (1518, 0.30371641808634475), (1519, 0.0), (1520, 0.3008471204054971), (1521, 0.18483521554033774), (1522, 0.0), (1523, 0.24613015459227874), (1524, 0.20714996898280347), (1525, 0.22351445188110844), (1526, 0.5679949930443231), (1527, 0.5767357654463654), (1528, 0.43103465206787206), (1529, 0.0), (1530, 0.0), (1531, 0.0), (1532, 0.3017605556605137), (1533, 0.2246836102211848), (1534, 0.0), (1535, 0.0), (1536, 0.3324428097198356), (1537, 0.21351756913428788), (1538, 0.0), (1539, 0.18980511496746655), (1540, 0.6339043008749563), (1541, 0.0), (1542, 0.8359599600793752), (1543, 0.30371641808634475), (1544, 0.8263345971085432), (1545, 0.3636387599226757), (1546, 0.0), (1547, 0.0), (1548, 0.0), (1549, 0.3418309935974081), (1550, 0.0), (1551, 0.0), (1552, 0.21577633031653012), (1553, 0.0), (1554, 0.0), (1555, 0.0), (1556, 0.0), (1557, 0.3008471204054971), (1558, 0.0), (1559, 0.0), (1560, 0.2544553899396719), (1561, 0.5679949930443231), (1562, 0.0), (1563, 0.5679949930443231), (1564, 0.3636387599226757), (1565, 0.0), (1566, 0.0), (1567, 0.6924589013496288), (1568, 0.0), (1569, 0.23886835105521936), (1570, 0.0), (1571, 0.43103465206787206), (1572, 0.6560934141859684), (1573, 0.0), (1574, 0.0), (1575, 0.0), (1576, 0.0), (1577, 0.2718742697370808), (1578, 0.1760304455807163), (1579, 0.0), (1580, 0.0), (1581, 0.0), (1582, 0.8988985380610965), (1583, 0.5679949930443231), (1584, 0.0), (1585, 0.7985625266872162), (1586, 0.5679949930443231), (1587, 0.23789607564317364), (1588, 0.0), (1589, 0.3418309935974081), (1590, 0.0), (1591, 0.5401206989211701), (1592, 0.2078825492324872), (1593, 0.0), (1594, 0.30371641808634475), (1595, 0.378447613807136), (1596, 0.24297843223922808), (1597, 0.43103465206787206), (1598, 0.22763796978908543), (1599, 0.3636387599226757), (1600, 0.0), (1601, 0.16171487279720403), (1602, 0.20714996898280347), (1603, 0.0), (1604, 0.0), (1605, 0.0), (1606, 0.0), (1607, 0.0), (1608, 0.0), (1609, 0.5679949930443231), (1610, 0.1981267040902694), (1611, 0.2718742697370808), (1612, 0.0), (1613, 0.16761412943635906), (1614, 0.1697254097131977), (1615, 0.19618001847968786), (1616, 0.2246836102211848), (1617, 0.0), (1618, 0.3418309935974081), (1619, 0.0), (1620, 0.7081550652094583), (1621, 0.583875513314773), (1622, 0.0), (1623, 0.0), (1624, 0.0), (1625, 0.0), (1626, 0.5679949930443231), (1627, 0.0), (1628, 0.0), (1629, 0.48961449960291215), (1630, 0.0), (1631, 0.0), (1632, 0.0), (1633, 0.0), (1634, 0.23110623274254466), (1635, 0.0), (1636, 0.0), (1637, 0.43103465206787206), (1638, 0.23159343406764554), (1639, 0.3418309935974081), (1640, 0.18483521554033774), (1641, 0.0), (1642, 0.43103465206787206), (1643, 0.0), (1644, 0.5679949930443231), (1645, 0.0), (1646, 0.5679949930443231), (1647, 0.0), (1648, 0.0), (1649, 0.0), (1650, 0.0), (1651, 0.0), (1652, 0.28786615125602555), (1653, 0.0), (1654, 0.5679949930443231), (1655, 0.0), (1656, 0.21859754281563193), (1657, 0.0), (1658, 0.21859754281563193), (1659, 0.0), (1660, 0.43103465206787206), (1661, 0.0), (1662, 0.0), (1663, 0.43103465206787206), (1664, 0.0), (1665, 0.4013996874396063), (1666, 0.0), (1667, 0.46022473667868075), (1668, 0.5679949930443231), (1669, 0.0), (1670, 0.0), (1671, 0.4387748288474665), (1672, 0.0), (1673, 0.5679949930443231), (1674, 0.471029581873795), (1675, 0.0), (1676, 0.3008471204054971), (1677, 0.1945566398951824), (1678, 0.5034329489782393), (1679, 0.5679949930443231), (1680, 0.5034329489782393), (1681, 0.5401206989211701), (1682, 0.0), (1683, 0.21176515903968685), (1684, 0.22351445188110844), (1685, 0.0), (1686, 0.0), (1687, 0.5034329489782393), (1688, 0.43103465206787206), (1689, 0.5679949930443231), (1690, 0.23069513910540596), (1691, 0.0), (1692, 0.0), (1693, 0.30371641808634475), (1694, 0.8359599600793752), (1695, 0.3008471204054971), (1696, 0.0), (1697, 0.19618001847968786), (1698, 0.5679949930443231), (1699, 0.0), (1700, 0.18483521554033774), (1701, 0.0), (1702, 0.5679949930443231), (1703, 0.0), (1704, 0.0), (1705, 0.4047931475590505), (1706, 0.0), (1707, 0.0), (1708, 0.0), (1709, 0.3636387599226757), (1710, 0.0), (1711, 0.0), (1712, 0.0), (1713, 0.0), (1714, 0.18977433139295494), (1715, 0.5679949930443231), (1716, 0.3932353729073675), (1717, 0.0), (1718, 0.3418309935974081), (1719, 0.30371641808634475), (1720, 0.0), (1721, 0.8263345971085432), (1722, 0.30371641808634475), (1723, 0.0), (1724, 0.0), (1725, 0.0), (1726, 0.22351445188110844), (1727, 0.7664937195686478), (1728, 0.0), (1729, 0.5679949930443231), (1730, 0.0), (1731, 0.21094218855061383), (1732, 0.21994808608345834), (1733, 0.43103465206787206), (1734, 0.3636387599226757), (1735, 0.8263345971085432), (1736, 0.5767357654463654), (1737, 0.5679949930443231), (1738, 0.785428706163669), (1739, 0.583875513314773), (1740, 0.5034329489782393), (1741, 0.5679949930443231), (1742, 0.0), (1743, 0.0), (1744, 0.23069513910540596), (1745, 0.0), (1746, 0.3418309935974081), (1747, 0.0), (1748, 0.0), (1749, 0.0), (1750, 0.19019117130125418), (1751, 0.3636387599226757), (1752, 0.5679949930443231), (1753, 0.0), (1754, 0.7081550652094583), (1755, 0.0), (1756, 0.0), (1757, 0.5679949930443231), (1758, 0.0), (1759, 0.43103465206787206), (1760, 0.0), (1761, 0.0), (1762, 0.0), (1763, 0.0), (1764, 0.0), (1765, 0.43103465206787206), (1766, 0.3008471204054971), (1767, 0.5679949930443231), (1768, 0.0), (1769, 0.20714996898280347), (1770, 0.0), (1771, 0.22351445188110844), (1772, 0.0), (1773, 0.0), (1774, 0.4387748288474665), (1775, 0.0), (1776, 0.7081550652094583), (1777, 0.5679949930443231), (1778, 0.3418309935974081), (1779, 0.0), (1780, 0.0), (1781, 0.7263443860401056), (1782, 0.0), (1783, 0.19379605976894662), (1784, 0.17118652720982114), (1785, 0.5679949930443231), (1786, 0.5679949930443231), (1787, 0.3418309935974081), (1788, 0.23789607564317364), (1789, 0.4573297427907054), (1790, 0.5679949930443231), (1791, 0.1914576546540216), (1792, 0.43103465206787206), (1793, 0.0), (1794, 0.20072271870001104), (1795, 0.0), (1796, 0.4013996874396063), (1797, 0.6138737792053642), (1798, 0.0), (1799, 0.0), (1800, 0.0), (1801, 0.0), (1802, 0.0), (1803, 0.3418309935974081), (1804, 0.1981267040902694), (1805, 0.0), (1806, 0.7985625266872162), (1807, 0.0), (1808, 0.0), (1809, 0.0), (1810, 0.0), (1811, 0.0), (1812, 0.0), (1813, 0.0), (1814, 0.0), (1815, 0.5401206989211701), (1816, 0.7985625266872162), (1817, 0.0), (1818, 0.3636387599226757), (1819, 0.0), (1820, 0.0), (1821, 0.7441733654212612), (1822, 0.1843123362843649), (1823, 0.0), (1824, 0.3017605556605137), (1825, 0.0), (1826, 0.0), (1827, 0.30371641808634475), (1828, 0.0), (1829, 0.0), (1830, 0.09638638047037948), (1831, 0.0), (1832, 0.6434215686389435), (1833, 0.1932594410232738), (1834, 0.5679949930443231), (1835, 0.0), (1836, 0.19019117130125418), (1837, 0.20714996898280347), (1838, 0.0), (1839, 0.3008471204054971), (1840, 0.0), (1841, 0.0), (1842, 0.3008471204054971), (1843, 0.0), (1844, 0.18483521554033774), (1845, 0.0), (1846, 0.0), (1847, 0.8263345971085432), (1848, 0.43103465206787206), (1849, 0.5679949930443231), (1850, 0.3008471204054971), (1851, 0.30371641808634475), (1852, 0.0), (1853, 0.5034329489782393), (1854, 0.7081550652094583), (1855, 0.1889788107277298), (1856, 0.5679949930443231), (1857, 0.0), (1858, 0.5562207253874156), (1859, 0.0), (1860, 0.0), (1861, 0.8988985380610965), (1862, 0.0), (1863, 0.0), (1864, 0.0), (1865, 0.0), (1866, 0.0), (1867, 0.3418309935974081), (1868, 0.20992787841573496), (1869, 0.0), (1870, 0.3636387599226757), (1871, 0.30371641808634475), (1872, 0.0), (1873, 0.0), (1874, 0.7081550652094583), (1875, 0.0), (1876, 0.0), (1877, 0.43103465206787206), (1878, 0.23069513910540596), (1879, 0.5679949930443231), (1880, 0.3418309935974081), (1881, 0.24139196773593047), (1882, 0.0), (1883, 0.26239005965208617), (1884, 0.0), (1885, 0.0), (1886, 0.0), (1887, 0.0), (1888, 0.2113048283129337), (1889, 0.24242750982947425), (1890, 0.0), (1891, 0.0), (1892, 0.0), (1893, 0.30371641808634475), (1894, 0.0), (1895, 0.2718742697370808), (1896, 0.0), (1897, 0.0), (1898, 0.21577633031653012), (1899, 0.3017605556605137), (1900, 0.2410711034345278), (1901, 0.0), (1902, 0.32405074767580655), (1903, 0.173804971785878), (1904, 0.0), (1905, 0.30371641808634475), (1906, 0.5679949930443231), (1907, 0.27456993478680874), (1908, 0.0), (1909, 0.0), (1910, 0.0), (1911, 0.17516171375210363), (1912, 0.3321145292589752), (1913, 0.22351445188110844), (1914, 0.2571514474953518), (1915, 0.5679949930443231), (1916, 0.0), (1917, 0.5679949930443231), (1918, 0.0), (1919, 0.43103465206787206), (1920, 0.0), (1921, 0.0), (1922, 0.4461007377968182), (1923, 0.8988985380610965), (1924, 0.0), (1925, 0.0), (1926, 0.19643263882072176), (1927, 0.0), (1928, 0.5679949930443231), (1929, 0.43103465206787206), (1930, 0.0), (1931, 0.0), (1932, 0.0), (1933, 0.0), (1934, 0.0), (1935, 0.3418309935974081), (1936, 0.0), (1937, 0.5401206989211701), (1938, 0.5679949930443231), (1939, 0.23789607564317364), (1940, 0.0), (1941, 0.2923150984427964), (1942, 0.48961449960291215), (1943, 0.21176515903968685), (1944, 0.5679949930443231), (1945, 0.5101769149487704), (1946, 0.0), (1947, 0.43103465206787206), (1948, 0.0), (1949, 0.4192705289858906), (1950, 0.0), (1951, 0.30371641808634475), (1952, 0.0), (1953, 0.0), (1954, 0.43103465206787206), (1955, 0.17833976282103628), (1956, 0.3418309935974081), (1957, 0.5679949930443231), (1958, 0.46242980852780385), (1959, 0.0), (1960, 0.0), (1961, 0.24242750982947425), (1962, 0.0), (1963, 0.3418309935974081), (1964, 0.0), (1965, 0.23547943551826447), (1966, 0.0), (1967, 0.583875513314773), (1968, 0.0), (1969, 0.0), (1970, 0.3933130102049407), (1971, 0.3663596930874591), (1972, 0.0), (1973, 0.8263345971085432), (1974, 0.3418309935974081), (1975, 0.0), (1976, 0.0), (1977, 0.0), (1978, 0.5679949930443231), (1979, 0.0), (1980, 0.43103465206787206), (1981, 1.0000000000000002), (1982, 0.1620626897784215), (1983, 0.4387748288474665), (1984, 0.20354939580586467), (1985, 0.4176249428288711), (1986, 1.0000000000000002), (1987, 0.6924589013496288), (1988, 0.0), (1989, 0.4829878920805723), (1990, 0.0), (1991, 0.0), (1992, 0.6664645582177291), (1993, 0.0), (1994, 0.5679949930443231), (1995, 0.0), (1996, 0.0), (1997, 0.583875513314773), (1998, 0.0), (1999, 0.18483521554033774), (2000, 0.0), (2001, 0.3418309935974081), (2002, 0.5679949930443231), (2003, 0.3418309935974081), (2004, 0.0), (2005, 0.5679949930443231), (2006, 0.21094218855061383), (2007, 0.3418309935974081), (2008, 0.0), (2009, 0.3418309935974081), (2010, 0.0), (2011, 0.0), (2012, 0.2923150984427964), (2013, 0.0), (2014, 0.2718742697370808), (2015, 0.0), (2016, 0.3886412338839975), (2017, 0.0), (2018, 0.19019117130125418), (2019, 0.16171487279720403), (2020, 0.0), (2021, 0.2078825492324872), (2022, 0.0), (2023, 0.7081550652094583), (2024, 0.5034329489782393), (2025, 0.3636387599226757), (2026, 0.7985625266872162), (2027, 0.0), (2028, 0.0), (2029, 0.7081550652094583), (2030, 0.0), (2031, 0.0), (2032, 0.3418309935974081), (2033, 0.2459572248081038), (2034, 0.0), (2035, 0.0), (2036, 0.3418309935974081), (2037, 0.583875513314773), (2038, 0.0), (2039, 0.0), (2040, 0.5034329489782393), (2041, 0.20714996898280347), (2042, 0.5679949930443231), (2043, 0.23159343406764554), (2044, 0.0), (2045, 0.0), (2046, 0.3008471204054971), (2047, 0.0), (2048, 0.0), (2049, 0.17506639639795551), (2050, 0.24242750982947425), (2051, 0.0), (2052, 0.3636387599226757), (2053, 0.583875513314773), (2054, 0.0), (2055, 0.4028155997980935), (2056, 0.3017605556605137), (2057, 0.487748420682301), (2058, 0.2078825492324872), (2059, 0.3017605556605137), (2060, 0.43103465206787206), (2061, 0.0), (2062, 0.0), (2063, 0.5679949930443231), (2064, 0.5679949930443231), (2065, 0.33702506947924066), (2066, 0.4573297427907054), (2067, 0.0), (2068, 0.30371641808634475), (2069, 0.0), (2070, 0.583875513314773), (2071, 0.5679949930443231), (2072, 0.0), (2073, 0.0), (2074, 0.0), (2075, 0.0), (2076, 0.8988985380610965), (2077, 0.8263345971085432), (2078, 0.0), (2079, 0.5679949930443231), (2080, 0.7081550652094583), (2081, 0.2008196231411092), (2082, 0.5480599038222431), (2083, 0.0), (2084, 0.0), (2085, 0.0), (2086, 0.173804971785878), (2087, 0.22809390553148015), (2088, 0.0), (2089, 0.0), (2090, 0.23138932480458474), (2091, 0.0), (2092, 0.5679949930443231), (2093, 0.63038198930517), (2094, 0.0), (2095, 0.0), (2096, 0.583875513314773), (2097, 0.48478969250256965), (2098, 0.5679949930443231), (2099, 0.273881300764756), (2100, 0.0), (2101, 0.24662959141932667), (2102, 0.0), (2103, 0.0), (2104, 0.0), (2105, 0.0), (2106, 0.3418309935974081), (2107, 0.2113048283129337), (2108, 0.30371641808634475), (2109, 0.0), (2110, 0.487748420682301), (2111, 0.30371641808634475), (2112, 0.4387748288474665), (2113, 0.3636387599226757), (2114, 0.0), (2115, 0.0), (2116, 0.30371641808634475), (2117, 0.0), (2118, 0.0), (2119, 0.46242980852780385), (2120, 0.0), (2121, 0.0), (2122, 0.30371641808634475), (2123, 0.0), (2124, 0.3636387599226757), (2125, 0.16427569571320033), (2126, 0.7081550652094583), (2127, 0.0), (2128, 0.5679949930443231), (2129, 0.0), (2130, 0.0), (2131, 0.30371641808634475), (2132, 0.0), (2133, 0.0), (2134, 0.0), (2135, 0.0), (2136, 0.0), (2137, 0.43103465206787206), (2138, 0.5679949930443231), (2139, 0.0), (2140, 0.2217650105777882), (2141, 0.0), (2142, 0.0), (2143, 0.22809390553148015), (2144, 0.0), (2145, 0.24297843223922808), (2146, 0.43103465206787206), (2147, 0.5679949930443231), (2148, 0.43103465206787206), (2149, 0.0), (2150, 0.17217521951085088), (2151, 0.43103465206787206), (2152, 0.0), (2153, 0.17217521951085088), (2154, 0.583875513314773), (2155, 0.0), (2156, 0.3418309935974081), (2157, 0.24297843223922808), (2158, 1.0000000000000002), (2159, 0.0), (2160, 0.3418309935974081), (2161, 0.3418309935974081), (2162, 0.39411110287604606), (2163, 0.0), (2164, 0.2718742697370808), (2165, 0.0), (2166, 0.3187048363740058), (2167, 0.3418309935974081), (2168, 0.3418309935974081), (2169, 0.0), (2170, 0.23886835105521936), (2171, 0.0), (2172, 0.0), (2173, 0.0), (2174, 0.583875513314773), (2175, 0.0), (2176, 0.0), (2177, 0.0), (2178, 0.3380743264242549), (2179, 0.2217650105777882), (2180, 0.0), (2181, 0.0), (2182, 0.0), (2183, 0.18483521554033774), (2184, 0.6339043008749563), (2185, 0.2718742697370808), (2186, 0.3418309935974081), (2187, 0.30371641808634475), (2188, 0.0), (2189, 0.0), (2190, 0.0), (2191, 0.0), (2192, 0.43103465206787206), (2193, 0.30371641808634475), (2194, 0.3017605556605137), (2195, 0.0), (2196, 0.583875513314773), (2197, 0.0), (2198, 0.0), (2199, 0.273881300764756), (2200, 0.25519671925973303), (2201, 0.30371641808634475), (2202, 0.5679949930443231), (2203, 0.5679949930443231), (2204, 0.5679949930443231), (2205, 0.0), (2206, 0.5401206989211701), (2207, 0.09816530532400417), (2208, 0.23789607564317364), (2209, 0.43103465206787206), (2210, 0.4013996874396063), (2211, 0.2246836102211848), (2212, 0.48538150685125514), (2213, 0.0), (2214, 0.583875513314773), (2215, 0.5679949930443231), (2216, 0.583875513314773), (2217, 0.2078825492324872), (2218, 0.3321145292589752), (2219, 0.5679949930443231), (2220, 0.0), (2221, 0.0), (2222, 0.24297843223922808), (2223, 0.273881300764756), (2224, 0.5034329489782393), (2225, 0.24297843223922808), (2226, 0.0), (2227, 0.3636387599226757), (2228, 1.0000000000000002), (2229, 0.46022473667868075), (2230, 0.0), (2231, 0.0), (2232, 0.0), (2233, 0.0), (2234, 0.3418309935974081), (2235, 0.46242980852780385), (2236, 0.43103465206787206), (2237, 0.0), (2238, 0.0), (2239, 0.0), (2240, 0.20129523658970047), (2241, 0.3636387599226757), (2242, 0.17239531229867744), (2243, 0.0), (2244, 0.0), (2245, 0.0), (2246, 0.0), (2247, 0.0), (2248, 0.0), (2249, 0.26239005965208617), (2250, 0.48478969250256965), (2251, 0.0), (2252, 0.0), (2253, 0.0), (2254, 0.4387748288474665), (2255, 0.0), (2256, 0.0), (2257, 0.0), (2258, 0.3418309935974081), (2259, 0.0), (2260, 0.19184763831099436), (2261, 0.3008471204054971), (2262, 0.3008471204054971), (2263, 0.0), (2264, 0.8988985380610965), (2265, 0.16248477924341553), (2266, 0.0), (2267, 0.0), (2268, 0.0), (2269, 0.0), (2270, 0.43103465206787206), (2271, 0.5679949930443231), (2272, 0.5679949930443231), (2273, 0.0), (2274, 0.3636387599226757), (2275, 0.5401206989211701), (2276, 0.5401206989211701), (2277, 0.0), (2278, 0.0), (2279, 0.4413758522419066), (2280, 0.5723802135357247), (2281, 0.3008471204054971), (2282, 0.5679949930443231), (2283, 0.0), (2284, 0.6664645582177291), (2285, 0.0), (2286, 0.0), (2287, 0.0), (2288, 0.0), (2289, 0.0), (2290, 0.3008471204054971), (2291, 0.0), (2292, 0.43103465206787206), (2293, 0.0), (2294, 0.0), (2295, 0.46022473667868075), (2296, 0.2718742697370808), (2297, 0.28786615125602555), (2298, 0.2718742697370808), (2299, 0.0), (2300, 0.0), (2301, 0.0), (2302, 0.30371641808634475), (2303, 0.43103465206787206), (2304, 1.0000000000000002), (2305, 0.5679949930443231), (2306, 0.0), (2307, 0.5679949930443231), (2308, 0.2113048283129337), (2309, 0.43103465206787206), (2310, 0.0), (2311, 0.5679949930443231), (2312, 0.5679949930443231), (2313, 0.0), (2314, 0.0), (2315, 0.3636387599226757), (2316, 0.3556495156283069), (2317, 0.0), (2318, 0.3269357555712567), (2319, 0.0), (2320, 0.30371641808634475), (2321, 0.7081550652094583), (2322, 0.22351445188110844), (2323, 0.0), (2324, 0.0), (2325, 0.5679949930443231), (2326, 0.0), (2327, 0.3008471204054971), (2328, 0.0), (2329, 0.18483521554033774), (2330, 0.0), (2331, 0.24613015459227874), (2332, 0.0), (2333, 0.3418309935974081), (2334, 0.583875513314773), (2335, 0.1981267040902694), (2336, 0.8359599600793752), (2337, 0.0), (2338, 0.0), (2339, 0.5679949930443231), (2340, 0.43103465206787206), (2341, 0.0), (2342, 0.0), (2343, 0.0), (2344, 0.0), (2345, 0.0), (2346, 0.7081550652094583), (2347, 0.0), (2348, 0.32405074767580655), (2349, 0.0), (2350, 0.0), (2351, 0.3008471204054971), (2352, 0.0), (2353, 0.22949185443790376), (2354, 0.0), (2355, 0.0), (2356, 0.0), (2357, 0.15733323352436884), (2358, 0.0), (2359, 0.0), (2360, 0.5679949930443231), (2361, 0.0), (2362, 0.0), (2363, 0.8263345971085432), (2364, 0.24242750982947425), (2365, 0.0), (2366, 0.5679949930443231), (2367, 0.23069513910540596), (2368, 0.3418309935974081), (2369, 0.0), (2370, 0.0), (2371, 0.22351445188110844), (2372, 0.0), (2373, 0.3017605556605137), (2374, 0.0), (2375, 0.30371641808634475), (2376, 0.0), (2377, 0.5679949930443231), (2378, 0.0), (2379, 0.273881300764756), (2380, 0.5679949930443231), (2381, 0.21577633031653012), (2382, 0.0), (2383, 0.5401206989211701), (2384, 0.5679949930443231), (2385, 0.30371641808634475), (2386, 0.0), (2387, 0.43103465206787206), (2388, 0.0), (2389, 0.18123249825377305), (2390, 0.0), (2391, 0.30371641808634475), (2392, 0.0), (2393, 0.0), (2394, 0.1768040902464506), (2395, 0.24297843223922808), (2396, 0.43103465206787206), (2397, 0.30371641808634475), (2398, 0.0), (2399, 0.2556247958043733), (2400, 0.0), (2401, 0.0), (2402, 0.30371641808634475), (2403, 0.43103465206787206), (2404, 0.43103465206787206), (2405, 0.0), (2406, 0.583875513314773), (2407, 0.0), (2408, 0.0), (2409, 0.3418309935974081), (2410, 0.30371641808634475), (2411, 0.2639790875582987), (2412, 0.43921346724169263), (2413, 0.0), (2414, 0.0), (2415, 0.0), (2416, 0.0), (2417, 0.0), (2418, 0.0), (2419, 0.0), (2420, 0.3418309935974081), (2421, 0.0), (2422, 0.30371641808634475), (2423, 0.273881300764756), (2424, 0.8263345971085432), (2425, 0.0), (2426, 0.1737603782899507), (2427, 0.0), (2428, 0.0), (2429, 0.5401206989211701), (2430, 0.0), (2431, 0.3418309935974081), (2432, 0.0), (2433, 0.17217521951085088), (2434, 0.30371641808634475), (2435, 0.3008471204054971), (2436, 0.43103465206787206), (2437, 0.0), (2438, 0.0), (2439, 0.17954093550670963), (2440, 0.43103465206787206), (2441, 0.30371641808634475), (2442, 0.0), (2443, 0.0), (2444, 0.6924589013496288), (2445, 0.5679949930443231), (2446, 0.43103465206787206), (2447, 0.583875513314773), (2448, 0.0), (2449, 0.3008471204054971), (2450, 0.14932333824687508), (2451, 0.0), (2452, 0.5679949930443231), (2453, 0.0), (2454, 0.0), (2455, 0.5679949930443231), (2456, 0.22351445188110844), (2457, 0.0), (2458, 0.5679949930443231), (2459, 0.0), (2460, 0.5679949930443231), (2461, 0.23069513910540596), (2462, 0.0), (2463, 0.0), (2464, 0.8988985380610965), (2465, 0.5679949930443231), (2466, 0.0), (2467, 0.30371641808634475), (2468, 0.2923150984427964), (2469, 0.0), (2470, 0.0), (2471, 0.0), (2472, 0.26239005965208617), (2473, 0.0), (2474, 0.0), (2475, 0.0), (2476, 0.0), (2477, 0.0), (2478, 0.23097686636700035), (2479, 0.15548896996428307), (2480, 0.0), (2481, 0.0), (2482, 0.0), (2483, 0.5679949930443231), (2484, 0.0), (2485, 0.0), (2486, 0.6364974915707483), (2487, 1.0000000000000002), (2488, 0.30371641808634475), (2489, 0.5562207253874156), (2490, 0.43103465206787206), (2491, 0.5679949930443231), (2492, 0.30371641808634475), (2493, 0.2544553899396719), (2494, 0.30371641808634475), (2495, 0.43103465206787206), (2496, 0.0), (2497, 0.2238882792320672), (2498, 0.0), (2499, 0.2008196231411092), (2500, 0.173804971785878), (2501, 0.0), (2502, 0.0), (2503, 0.0), (2504, 0.18483521554033774), (2505, 0.0), (2506, 0.0), (2507, 0.43103465206787206), (2508, 0.5679949930443231), (2509, 0.30371641808634475), (2510, 0.5679949930443231), (2511, 0.3418309935974081), (2512, 0.7335100696035542), (2513, 0.0), (2514, 0.24297843223922808), (2515, 0.5679949930443231), (2516, 0.20714996898280347), (2517, 0.0), (2518, 0.5679949930443231), (2519, 0.7985625266872162), (2520, 0.0), (2521, 0.0), (2522, 0.4344108990832536), (2523, 0.5679949930443231), (2524, 0.46242980852780385), (2525, 0.0), (2526, 0.0), (2527, 0.0), (2528, 0.0), (2529, 0.30371641808634475), (2530, 0.0), (2531, 0.23069513910540596), (2532, 0.0), (2533, 0.0), (2534, 0.0), (2535, 0.30371641808634475), (2536, 0.5679949930443231), (2537, 0.43103465206787206), (2538, 0.0), (2539, 0.14932333824687508), (2540, 0.0), (2541, 0.0), (2542, 0.5679949930443231), (2543, 0.3418309935974081), (2544, 0.0), (2545, 0.0), (2546, 0.8988985380610965), (2547, 0.0), (2548, 0.5679949930443231), (2549, 0.0), (2550, 0.0), (2551, 0.5679949930443231), (2552, 0.0), (2553, 0.30371641808634475), (2554, 0.20514952210006146), (2555, 0.0), (2556, 0.0), (2557, 0.0), (2558, 0.0), (2559, 0.0), (2560, 0.0), (2561, 0.43103465206787206), (2562, 0.0), (2563, 0.0), (2564, 0.3017605556605137), (2565, 0.0), (2566, 0.3418309935974081), (2567, 0.0), (2568, 0.0), (2569, 0.29684000419184997), (2570, 0.30371641808634475), (2571, 0.0), (2572, 0.0), (2573, 0.0), (2574, 0.0), (2575, 0.3321145292589752), (2576, 0.0), (2577, 0.0), (2578, 0.0), (2579, 0.0), (2580, 0.0), (2581, 0.8263345971085432), (2582, 0.24613015459227874), (2583, 0.0), (2584, 0.17217521951085088), (2585, 0.0), (2586, 0.24297843223922808), (2587, 0.43103465206787206), (2588, 0.3418309935974081), (2589, 0.0), (2590, 0.19618001847968786), (2591, 0.273881300764756), (2592, 0.273881300764756), (2593, 0.0), (2594, 0.3418309935974081), (2595, 0.0), (2596, 0.0), (2597, 0.2217650105777882), (2598, 0.0), (2599, 0.0), (2600, 0.8263345971085432), (2601, 0.22809390553148015), (2602, 0.583875513314773), (2603, 0.17506639639795551), (2604, 0.3008471204054971), (2605, 0.20144017329217245), (2606, 0.0), (2607, 0.48961449960291215), (2608, 0.3017605556605137), (2609, 0.0), (2610, 0.30371641808634475), (2611, 0.0), (2612, 0.0), (2613, 0.0), (2614, 0.0), (2615, 0.24242750982947425), (2616, 0.18123249825377305), (2617, 0.46022473667868075), (2618, 0.0), (2619, 0.43103465206787206), (2620, 0.5679949930443231), (2621, 0.583875513314773), (2622, 0.0), (2623, 0.0), (2624, 0.0), (2625, 0.5767357654463654), (2626, 0.2923150984427964), (2627, 0.0), (2628, 0.0), (2629, 0.0), (2630, 0.0), (2631, 0.5679949930443231), (2632, 0.0), (2633, 0.30371641808634475), (2634, 0.0), (2635, 1.0000000000000002), (2636, 0.0), (2637, 0.3008471204054971), (2638, 0.4387748288474665), (2639, 0.5679949930443231), (2640, 0.0), (2641, 0.0), (2642, 0.21682765225979603), (2643, 0.0), (2644, 0.19403957075565798), (2645, 0.5034329489782393), (2646, 0.21577633031653012), (2647, 0.0), (2648, 0.5679949930443231), (2649, 0.7081550652094583), (2650, 0.0), (2651, 0.0), (2652, 0.0), (2653, 0.43103465206787206), (2654, 0.0), (2655, 0.0), (2656, 0.3008471204054971), (2657, 0.3636387599226757), (2658, 0.0), (2659, 0.3636387599226757), (2660, 0.0), (2661, 0.30371641808634475), (2662, 0.3418309935974081), (2663, 0.3418309935974081), (2664, 0.0), (2665, 0.24297843223922808), (2666, 0.16037173618136102), (2667, 0.3636387599226757), (2668, 0.5034329489782393), (2669, 0.5679949930443231), (2670, 0.0), (2671, 0.3418309935974081), (2672, 0.18123249825377305), (2673, 0.0), (2674, 0.0), (2675, 0.5679949930443231), (2676, 0.3636387599226757), (2677, 0.3418309935974081), (2678, 0.30371641808634475), (2679, 0.0), (2680, 0.0), (2681, 0.3418309935974081), (2682, 0.0), (2683, 0.0), (2684, 0.5679949930443231), (2685, 0.3017605556605137), (2686, 0.0), (2687, 0.30371641808634475), (2688, 0.16171487279720403), (2689, 0.0), (2690, 0.3017605556605137), (2691, 0.0), (2692, 0.583875513314773), (2693, 0.3418309935974081), (2694, 0.0), (2695, 0.4387748288474665), (2696, 0.30371641808634475), (2697, 0.5034329489782393), (2698, 0.0), (2699, 0.3418309935974081), (2700, 0.0), (2701, 0.3418309935974081), (2702, 0.30371641808634475), (2703, 0.5679949930443231), (2704, 0.0), (2705, 0.0), (2706, 0.15201273513944044), (2707, 0.0), (2708, 0.0), (2709, 0.1834713323740165), (2710, 0.0), (2711, 0.0), (2712, 0.43103465206787206), (2713, 0.0), (2714, 0.0), (2715, 0.14765545004467764), (2716, 0.0), (2717, 0.0), (2718, 0.0), (2719, 0.0), (2720, 0.3187048363740058), (2721, 0.273881300764756), (2722, 0.43103465206787206), (2723, 0.0), (2724, 0.0), (2725, 0.0), (2726, 0.5679949930443231), (2727, 0.8359599600793752), (2728, 0.43103465206787206), (2729, 0.15511670560555457), (2730, 0.3418309935974081), (2731, 0.43103465206787206), (2732, 0.3418309935974081), (2733, 0.0), (2734, 0.5679949930443231), (2735, 0.0), (2736, 0.0), (2737, 0.3418309935974081), (2738, 0.43103465206787206), (2739, 0.7081550652094583), (2740, 0.0), (2741, 0.273881300764756), (2742, 0.5401206989211701), (2743, 0.0), (2744, 0.30371641808634475), (2745, 0.0), (2746, 0.30371641808634475), (2747, 0.30371641808634475), (2748, 0.30371641808634475), (2749, 0.0), (2750, 0.0), (2751, 0.5401206989211701), (2752, 0.7081550652094583), (2753, 0.0), (2754, 0.21616452397743352), (2755, 0.243921352419841), (2756, 0.19379605976894662), (2757, 0.0), (2758, 0.21176515903968685), (2759, 0.0), (2760, 0.0), (2761, 0.0), (2762, 0.0), (2763, 0.24242750982947425), (2764, 0.30371641808634475), (2765, 0.0), (2766, 0.0), (2767, 0.0), (2768, 0.5034329489782393), (2769, 0.30371641808634475), (2770, 0.19379605976894662), (2771, 0.40580812635569224), (2772, 0.0), (2773, 0.0), (2774, 0.2718742697370808), (2775, 0.0), (2776, 0.30371641808634475), (2777, 0.33255889117664633), (2778, 0.0), (2779, 0.0), (2780, 0.4192705289858906), (2781, 0.20714996898280347), (2782, 0.273881300764756), (2783, 0.0), (2784, 0.583875513314773), (2785, 0.0), (2786, 0.43103465206787206), (2787, 0.2923150984427964), (2788, 0.5401206989211701), (2789, 0.0), (2790, 0.0), (2791, 0.5401206989211701), (2792, 0.0), (2793, 0.0), (2794, 0.3418309935974081), (2795, 0.5034329489782393), (2796, 0.1768040902464506), (2797, 0.30371641808634475), (2798, 0.0), (2799, 0.3008471204054971), (2800, 0.0), (2801, 0.0), (2802, 0.0), (2803, 0.0), (2804, 0.20144017329217245), (2805, 0.3418309935974081), (2806, 0.0), (2807, 0.23886835105521936), (2808, 0.583875513314773), (2809, 0.0), (2810, 0.2539069930326738), (2811, 0.19190329545043566), (2812, 0.19184763831099436), (2813, 0.14726542663181746), (2814, 0.3008471204054971), (2815, 0.6339043008749563), (2816, 0.3418309935974081), (2817, 0.3418309935974081), (2818, 0.5679949930443231), (2819, 0.0), (2820, 0.2923150984427964), (2821, 0.0), (2822, 0.16963240198809698), (2823, 0.5679949930443231), (2824, 0.0), (2825, 0.8263345971085432), (2826, 0.0), (2827, 0.0), (2828, 0.0), (2829, 0.3017605556605137), (2830, 0.0), (2831, 0.0), (2832, 0.30371641808634475), (2833, 1.0000000000000002), (2834, 0.30371641808634475), (2835, 0.0), (2836, 0.3418309935974081), (2837, 0.0), (2838, 0.30371641808634475), (2839, 0.0), (2840, 0.0), (2841, 0.0), (2842, 0.0), (2843, 0.1620626897784215), (2844, 0.0), (2845, 0.0), (2846, 0.43103465206787206), (2847, 0.0), (2848, 0.0), (2849, 0.7081550652094583), (2850, 0.0), (2851, 0.0), (2852, 0.5679949930443231), (2853, 0.0), (2854, 0.0), (2855, 0.3418309935974081), (2856, 0.16408344184221696), (2857, 0.30371641808634475), (2858, 0.43103465206787206), (2859, 0.0), (2860, 0.0), (2861, 0.0), (2862, 0.0), (2863, 0.0), (2864, 0.0), (2865, 0.0), (2866, 0.3418309935974081), (2867, 0.0), (2868, 0.0), (2869, 0.0), (2870, 0.0), (2871, 0.487748420682301), (2872, 0.30371641808634475), (2873, 0.3008471204054971), (2874, 0.700589366080941), (2875, 0.5679949930443231), (2876, 0.30371641808634475), (2877, 0.3418309935974081), (2878, 0.0), (2879, 0.0), (2880, 0.14672444766942425), (2881, 0.0), (2882, 0.43103465206787206), (2883, 0.0), (2884, 0.43103465206787206), (2885, 0.0), (2886, 0.4266687550620588), (2887, 0.0), (2888, 0.0), (2889, 0.0), (2890, 0.0), (2891, 0.3418309935974081), (2892, 0.0), (2893, 0.30371641808634475), (2894, 0.0), (2895, 0.0), (2896, 0.5679949930443231), (2897, 0.7985625266872162), (2898, 0.0), (2899, 0.0), (2900, 0.0), (2901, 0.0), (2902, 0.0), (2903, 0.5034329489782393), (2904, 0.0), (2905, 0.0), (2906, 0.0), (2907, 0.0), (2908, 0.5034329489782393), (2909, 0.0), (2910, 0.4013996874396063), (2911, 0.0), (2912, 0.22809390553148015), (2913, 0.8263345971085432), (2914, 0.43103465206787206), (2915, 0.0), (2916, 0.0), (2917, 0.0), (2918, 0.5401206989211701), (2919, 0.583875513314773), (2920, 0.0), (2921, 0.0), (2922, 0.3636387599226757), (2923, 0.0), (2924, 0.30371641808634475), (2925, 0.7741569759082517), (2926, 0.1768040902464506), (2927, 0.0), (2928, 0.3418309935974081), (2929, 0.0), (2930, 0.5679949930443231), (2931, 0.0), (2932, 0.4387748288474665), (2933, 0.30371641808634475), (2934, 0.4413758522419066), (2935, 0.0), (2936, 0.0), (2937, 0.0), (2938, 0.0), (2939, 0.8359599600793752), (2940, 0.2008874663374586), (2941, 0.5679949930443231), (2942, 0.0), (2943, 0.0), (2944, 0.0), (2945, 0.30371641808634475), (2946, 0.0), (2947, 0.0), (2948, 1.0000000000000002), (2949, 0.0), (2950, 0.0), (2951, 0.5679949930443231), (2952, 0.0), (2953, 0.0), (2954, 0.43103465206787206), (2955, 0.0), (2956, 0.0), (2957, 0.0), (2958, 0.0), (2959, 0.0), (2960, 0.0), (2961, 0.583875513314773), (2962, 0.8263345971085432), (2963, 0.5401206989211701), (2964, 0.0), (2965, 0.0), (2966, 0.0), (2967, 0.0), (2968, 0.5679949930443231), (2969, 0.0), (2970, 0.43103465206787206), (2971, 0.8263345971085432), (2972, 0.273881300764756), (2973, 0.3418309935974081), (2974, 0.0), (2975, 0.0), (2976, 0.43103465206787206), (2977, 0.0), (2978, 0.7072667445795884), (2979, 0.2544553899396719), (2980, 0.0), (2981, 0.0), (2982, 0.1767272007496515), (2983, 0.3418309935974081), (2984, 0.0), (2985, 0.0), (2986, 0.20129523658970047), (2987, 0.0), (2988, 0.0), (2989, 0.0), (2990, 0.3636387599226757), (2991, 0.0), (2992, 0.24139196773593047), (2993, 0.0), (2994, 1.0000000000000002), (2995, 0.0), (2996, 0.4387748288474665), (2997, 0.0), (2998, 0.0), (2999, 0.30371641808634475), (3000, 0.0), (3001, 0.0), (3002, 0.0), (3003, 0.43103465206787206), (3004, 0.0), (3005, 0.0), (3006, 0.0), (3007, 0.0), (3008, 0.0), (3009, 0.3418309935974081), (3010, 0.0), (3011, 0.0), (3012, 0.583875513314773), (3013, 0.0), (3014, 0.0), (3015, 0.0), (3016, 0.43103465206787206), (3017, 0.3418309935974081), (3018, 0.5362314728043197), (3019, 0.583875513314773), (3020, 0.43103465206787206), (3021, 0.0), (3022, 0.0), (3023, 0.0), (3024, 0.0), (3025, 0.0), (3026, 0.43103465206787206), (3027, 0.0), (3028, 0.0), (3029, 0.0), (3030, 0.0), (3031, 0.0), (3032, 0.0), (3033, 0.3008471204054971), (3034, 0.16863194464717912), (3035, 0.0), (3036, 0.0), (3037, 0.43103465206787206), (3038, 0.5679949930443231), (3039, 0.3418309935974081), (3040, 0.43103465206787206), (3041, 0.5679949930443231), (3042, 0.43103465206787206), (3043, 0.583875513314773), (3044, 0.20758330332095046), (3045, 0.37901136251422485), (3046, 0.0), (3047, 0.0), (3048, 0.0), (3049, 0.0), (3050, 0.30371641808634475), (3051, 0.0), (3052, 0.0), (3053, 0.0), (3054, 0.5679949930443231), (3055, 0.0), (3056, 0.0), (3057, 0.0), (3058, 0.0), (3059, 0.0), (3060, 0.5679949930443231), (3061, 0.3418309935974081), (3062, 0.1535386818165505), (3063, 0.23138932480458474), (3064, 0.0), (3065, 0.0), (3066, 0.3008471204054971), (3067, 0.0), (3068, 0.0), (3069, 0.0), (3070, 0.7263443860401056), (3071, 0.30371641808634475), (3072, 0.0), (3073, 0.5679949930443231), (3074, 0.43103465206787206), (3075, 0.0), (3076, 0.7081550652094583), (3077, 0.3418309935974081), (3078, 0.24613015459227874), (3079, 0.0), (3080, 0.19379605976894662), (3081, 0.0), (3082, 0.5679949930443231), (3083, 0.3418309935974081), (3084, 0.43103465206787206), (3085, 0.5401206989211701), (3086, 0.46022473667868075), (3087, 0.5679949930443231), (3088, 0.5679949930443231), (3089, 0.16761412943635906), (3090, 0.5679949930443231), (3091, 0.0), (3092, 0.0), (3093, 0.0), (3094, 0.0), (3095, 0.7081550652094583), (3096, 0.0), (3097, 0.7664937195686478), (3098, 0.3418309935974081), (3099, 0.376832951608443), (3100, 0.0), (3101, 0.0), (3102, 0.28786615125602555), (3103, 0.0), (3104, 0.5679949930443231), (3105, 0.0), (3106, 0.5679949930443231), (3107, 0.0), (3108, 0.22651385969183438), (3109, 0.3418309935974081), (3110, 0.46242980852780385), (3111, 0.0), (3112, 0.0), (3113, 0.43103465206787206), (3114, 0.0), (3115, 0.3636387599226757), (3116, 0.0), (3117, 0.0), (3118, 0.3933130102049407), (3119, 0.7081550652094583), (3120, 0.7081550652094583), (3121, 0.0), (3122, 0.0), (3123, 0.0), (3124, 0.0), (3125, 0.0), (3126, 0.0), (3127, 1.0000000000000002), (3128, 0.0), (3129, 0.0), (3130, 0.0), (3131, 0.0), (3132, 0.0), (3133, 0.0), (3134, 0.0), (3135, 0.0), (3136, 0.0), (3137, 0.30371641808634475), (3138, 0.0), (3139, 0.43103465206787206), (3140, 0.0), (3141, 0.15511670560555457), (3142, 0.7397568466007262), (3143, 0.0), (3144, 0.0), (3145, 0.0), (3146, 0.22809390553148015), (3147, 0.30371641808634475), (3148, 0.0), (3149, 1.0000000000000002), (3150, 0.43103465206787206), (3151, 0.0), (3152, 0.0), (3153, 0.0), (3154, 0.583875513314773), (3155, 0.8988985380610965), (3156, 0.0), (3157, 0.0), (3158, 0.0), (3159, 0.0), (3160, 0.0), (3161, 0.0), (3162, 0.28786615125602555), (3163, 0.0), (3164, 0.5679949930443231), (3165, 0.0), (3166, 0.30371641808634475), (3167, 0.0), (3168, 0.24139196773593047), (3169, 0.3636387599226757), (3170, 0.0), (3171, 0.48478969250256965), (3172, 0.2718742697370808), (3173, 0.0), (3174, 0.0), (3175, 0.3418309935974081), (3176, 0.0), (3177, 0.3418309935974081), (3178, 0.30371641808634475), (3179, 0.0), (3180, 0.0), (3181, 0.15189154407384128), (3182, 0.30371641808634475), (3183, 0.30371641808634475), (3184, 0.0), (3185, 0.0), (3186, 0.0), (3187, 0.273881300764756), (3188, 0.3418309935974081), (3189, 0.24613015459227874), (3190, 0.5679949930443231), (3191, 0.0), (3192, 0.8263345971085432), (3193, 0.0), (3194, 0.30371641808634475), (3195, 0.0), (3196, 0.0), (3197, 0.5679949930443231), (3198, 0.1634114731440332), (3199, 0.0), (3200, 0.0), (3201, 0.0), (3202, 0.0), (3203, 0.5679949930443231), (3204, 0.3008471204054971), (3205, 0.0), (3206, 0.0), (3207, 0.5679949930443231), (3208, 0.0), (3209, 0.5679949930443231), (3210, 0.5034329489782393), (3211, 0.0), (3212, 0.3008471204054971), (3213, 0.0), (3214, 0.30371641808634475), (3215, 0.0), (3216, 0.0), (3217, 0.3418309935974081), (3218, 0.30371641808634475), (3219, 0.0), (3220, 0.30371641808634475), (3221, 0.2539069930326738), (3222, 0.0), (3223, 0.0), (3224, 0.43103465206787206), (3225, 0.0), (3226, 0.0), (3227, 0.0), (3228, 0.0), (3229, 0.3418309935974081), (3230, 0.0), (3231, 0.20144017329217245), (3232, 0.63038198930517), (3233, 0.0), (3234, 0.273881300764756), (3235, 0.0), (3236, 0.3008471204054971), (3237, 0.0), (3238, 0.43103465206787206), (3239, 0.43103465206787206), (3240, 0.0), (3241, 0.0), (3242, 0.0), (3243, 0.0), (3244, 0.3017605556605137), (3245, 0.700589366080941), (3246, 0.30371641808634475), (3247, 0.0), (3248, 0.0), (3249, 0.43103465206787206), (3250, 0.3017605556605137), (3251, 0.0), (3252, 0.0), (3253, 0.3636387599226757), (3254, 0.0), (3255, 0.0), (3256, 0.20714996898280347), (3257, 0.43103465206787206), (3258, 0.30371641808634475), (3259, 0.8263345971085432), (3260, 0.43103465206787206), (3261, 0.0), (3262, 0.0), (3263, 0.0), (3264, 0.0), (3265, 0.24297843223922808), (3266, 0.5679949930443231), (3267, 0.7664937195686478), (3268, 0.0), (3269, 0.0), (3270, 0.2078825492324872), (3271, 0.30371641808634475), (3272, 0.0), (3273, 0.0), (3274, 0.0), (3275, 0.5034329489782393), (3276, 0.0), (3277, 0.5679949930443231), (3278, 0.0), (3279, 0.0), (3280, 0.5534893029799297), (3281, 0.0), (3282, 0.30371641808634475), (3283, 0.43103465206787206), (3284, 0.0), (3285, 0.0), (3286, 0.16171487279720403), (3287, 0.18483521554033774), (3288, 0.3418309935974081), (3289, 0.43103465206787206), (3290, 0.43103465206787206), (3291, 0.0), (3292, 0.0), (3293, 0.7081550652094583), (3294, 0.0), (3295, 0.3418309935974081), (3296, 0.0), (3297, 0.3187048363740058), (3298, 0.0), (3299, 0.0), (3300, 0.0), (3301, 0.0), (3302, 0.0), (3303, 0.18627459829213805), (3304, 0.20129523658970047), (3305, 0.0), (3306, 0.5767357654463654), (3307, 0.0), (3308, 0.30371641808634475), (3309, 0.5679949930443231), (3310, 0.2459572248081038), (3311, 0.1843123362843649), (3312, 0.5401206989211701), (3313, 0.0), (3314, 0.0), (3315, 0.30371641808634475), (3316, 0.0), (3317, 0.40947121111520185), (3318, 0.48961449960291215), (3319, 0.24297843223922808), (3320, 0.3017605556605137), (3321, 0.5679949930443231), (3322, 0.0), (3323, 0.2078825492324872), (3324, 0.5679949930443231), (3325, 0.0), (3326, 0.0), (3327, 0.0), (3328, 0.0), (3329, 0.43103465206787206), (3330, 0.0), (3331, 0.0), (3332, 0.15619440179633262), (3333, 0.0), (3334, 0.487748420682301), (3335, 0.0), (3336, 0.0), (3337, 0.43103465206787206), (3338, 0.0), (3339, 0.0), (3340, 0.0), (3341, 0.0), (3342, 0.0), (3343, 0.3636387599226757), (3344, 0.0), (3345, 0.0), (3346, 0.0), (3347, 0.0), (3348, 0.43103465206787206), (3349, 0.32405074767580655), (3350, 0.5679949930443231), (3351, 0.43103465206787206), (3352, 0.30371641808634475), (3353, 0.0), (3354, 0.0), (3355, 0.0), (3356, 0.0), (3357, 0.25524385558069906), (3358, 0.0), (3359, 0.0), (3360, 0.0), (3361, 0.0), (3362, 0.0), (3363, 0.0), (3364, 0.30371641808634475), (3365, 0.0), (3366, 0.14305842647271932), (3367, 0.0), (3368, 0.0), (3369, 0.0), (3370, 0.583875513314773), (3371, 0.3418309935974081), (3372, 0.0), (3373, 0.3187048363740058), (3374, 0.31652539044362626), (3375, 0.3418309935974081), (3376, 0.0), (3377, 0.5150990979648253), (3378, 0.5679949930443231), (3379, 0.0), (3380, 0.0), (3381, 0.0), (3382, 0.8988985380610965), (3383, 0.3636387599226757), (3384, 0.5401206989211701), (3385, 0.0), (3386, 0.1762283947999137), (3387, 0.0), (3388, 0.30371641808634475), (3389, 0.1859873289341885), (3390, 0.0), (3391, 0.0), (3392, 0.0), (3393, 0.23097686636700035), (3394, 0.0), (3395, 0.18483521554033774), (3396, 0.0), (3397, 0.18483521554033774), (3398, 0.0), (3399, 0.0), (3400, 0.3418309935974081), (3401, 0.0), (3402, 0.22809390553148015), (3403, 0.39428954023709367), (3404, 0.0), (3405, 0.0), (3406, 0.0), (3407, 0.5562207253874156), (3408, 0.16810548696327038), (3409, 0.0), (3410, 0.43103465206787206), (3411, 0.3017605556605137), (3412, 0.0), (3413, 0.30371641808634475), (3414, 0.0), (3415, 0.5679949930443231), (3416, 0.42787970152398486), (3417, 0.0), (3418, 0.8988985380610965), (3419, 0.0), (3420, 0.0), (3421, 0.30371641808634475), (3422, 0.5679949930443231), (3423, 0.0), (3424, 0.2771278698636682), (3425, 0.0), (3426, 0.0), (3427, 0.0), (3428, 0.5679949930443231), (3429, 0.0), (3430, 0.43103465206787206), (3431, 0.0), (3432, 0.0), (3433, 0.0), (3434, 0.0), (3435, 0.0), (3436, 0.0), (3437, 0.46022473667868075), (3438, 0.0), (3439, 0.24290470088474228), (3440, 0.0), (3441, 0.0), (3442, 0.5679949930443231), (3443, 0.2923150984427964), (3444, 0.18483521554033774), (3445, 0.0), (3446, 0.0), (3447, 0.30371641808634475), (3448, 0.0), (3449, 0.30371641808634475), (3450, 0.5034329489782393), (3451, 0.0), (3452, 0.0), (3453, 0.0), (3454, 0.0), (3455, 0.0), (3456, 0.0), (3457, 0.0), (3458, 0.0), (3459, 0.0), (3460, 0.0), (3461, 0.16171487279720403), (3462, 0.5679949930443231), (3463, 0.0), (3464, 0.6457800486320142), (3465, 0.5401206989211701), (3466, 0.5401206989211701), (3467, 0.0), (3468, 0.0), (3469, 0.0), (3470, 0.0), (3471, 0.0), (3472, 0.0), (3473, 0.0), (3474, 0.0), (3475, 0.5679949930443231), (3476, 0.0), (3477, 0.30371641808634475), (3478, 0.0), (3479, 0.30371641808634475), (3480, 0.0), (3481, 0.20714996898280347), (3482, 0.0), (3483, 0.583875513314773), (3484, 0.0), (3485, 0.20714996898280347), (3486, 0.0), (3487, 0.0), (3488, 0.0), (3489, 0.3418309935974081), (3490, 0.3418309935974081), (3491, 0.0), (3492, 0.0), (3493, 0.30371641808634475), (3494, 0.5679949930443231), (3495, 0.0), (3496, 0.30371641808634475), (3497, 0.0), (3498, 0.0), (3499, 0.0), (3500, 0.30371641808634475), (3501, 0.0), (3502, 0.0), (3503, 0.19769353647095894), (3504, 0.46242980852780385), (3505, 0.0), (3506, 0.0), (3507, 0.5401206989211701), (3508, 1.0000000000000002), (3509, 0.5679949930443231), (3510, 0.5679949930443231), (3511, 0.0), (3512, 0.23811037087040743), (3513, 0.17476990857209102), (3514, 0.26739721190093774), (3515, 0.0), (3516, 0.0), (3517, 0.23811037087040743), (3518, 0.5679949930443231), (3519, 0.5679949930443231), (3520, 0.0), (3521, 0.0), (3522, 0.0), (3523, 0.0), (3524, 0.0), (3525, 0.0), (3526, 0.30371641808634475), (3527, 0.0), (3528, 0.0), (3529, 0.3418309935974081), (3530, 0.0), (3531, 0.8263345971085432), (3532, 0.0), (3533, 0.0), (3534, 0.0), (3535, 0.487748420682301), (3536, 0.0), (3537, 0.43103465206787206), (3538, 0.43103465206787206), (3539, 0.14726542663181746), (3540, 0.0), (3541, 0.30371641808634475), (3542, 0.0), (3543, 0.5679949930443231), (3544, 0.43103465206787206), (3545, 0.20045320553729656), (3546, 0.0), (3547, 0.0), (3548, 0.0), (3549, 0.3418309935974081), (3550, 0.0), (3551, 0.0), (3552, 0.30371641808634475), (3553, 0.333910942890219), (3554, 0.2539069930326738), (3555, 0.0), (3556, 0.0), (3557, 0.0), (3558, 0.0), (3559, 0.19019117130125418), (3560, 0.0), (3561, 0.0), (3562, 0.20714996898280347), (3563, 0.5679949930443231), (3564, 0.0), (3565, 0.43103465206787206), (3566, 0.0), (3567, 0.0), (3568, 0.0), (3569, 0.0), (3570, 1.0000000000000002), (3571, 0.32405074767580655), (3572, 0.5679949930443231), (3573, 0.0), (3574, 0.18483521554033774), (3575, 0.20129523658970047), (3576, 0.0), (3577, 0.2246836102211848), (3578, 0.0), (3579, 0.1634114731440332), (3580, 0.3017605556605137), (3581, 0.3008471204054971), (3582, 0.63038198930517), (3583, 0.0), (3584, 0.2204285171503221), (3585, 0.2217650105777882), (3586, 0.4047931475590505), (3587, 0.0), (3588, 0.0), (3589, 0.3418309935974081), (3590, 0.0), (3591, 0.3636387599226757), (3592, 0.23886835105521936), (3593, 0.0), (3594, 0.0), (3595, 0.2078825492324872), (3596, 0.0), (3597, 0.5101769149487704), (3598, 0.26239005965208617), (3599, 0.30371641808634475), (3600, 0.0), (3601, 0.30371641808634475), (3602, 0.0), (3603, 0.2771278698636682), (3604, 0.0), (3605, 0.0), (3606, 0.43103465206787206), (3607, 0.0), (3608, 0.0), (3609, 0.0), (3610, 0.3008471204054971), (3611, 0.0), (3612, 0.4461007377968182), (3613, 0.0), (3614, 0.0), (3615, 0.0), (3616, 0.43103465206787206), (3617, 0.0), (3618, 0.0), (3619, 0.0), (3620, 0.0), (3621, 0.43103465206787206), (3622, 0.5679949930443231), (3623, 0.0), (3624, 0.0), (3625, 0.0), (3626, 0.30371641808634475), (3627, 0.0), (3628, 0.17217521951085088), (3629, 0.0), (3630, 0.2718742697370808), (3631, 0.0), (3632, 0.28786615125602555), (3633, 0.20714996898280347), (3634, 0.0), (3635, 0.0), (3636, 0.0), (3637, 0.3658385230335634), (3638, 0.0), (3639, 0.0), (3640, 0.583875513314773), (3641, 0.16691148826853475), (3642, 0.5034329489782393), (3643, 0.0), (3644, 0.3418309935974081), (3645, 0.33255889117664633), (3646, 0.30371641808634475), (3647, 0.0), (3648, 0.3418309935974081), (3649, 0.24297843223922808), (3650, 0.20045320553729656), (3651, 0.0), (3652, 0.8359599600793752), (3653, 0.0), (3654, 0.0), (3655, 0.0), (3656, 0.0), (3657, 0.0), (3658, 0.8263345971085432), (3659, 0.6434215686389435), (3660, 0.5034329489782393), (3661, 0.0), (3662, 0.5679949930443231), (3663, 0.0), (3664, 0.0), (3665, 0.43103465206787206), (3666, 0.0), (3667, 0.0), (3668, 0.0), (3669, 0.0), (3670, 0.4387748288474665), (3671, 0.20714996898280347), (3672, 0.0), (3673, 0.273881300764756), (3674, 0.8359599600793752), (3675, 0.583875513314773), (3676, 0.17107121744000914), (3677, 0.0), (3678, 0.30371641808634475), (3679, 0.0), (3680, 0.0), (3681, 0.3418309935974081), (3682, 0.0), (3683, 0.5679949930443231), (3684, 0.7263443860401056), (3685, 0.14932333824687508), (3686, 0.3418309935974081), (3687, 0.0), (3688, 0.19403957075565798), (3689, 0.0), (3690, 0.0), (3691, 0.0), (3692, 0.0), (3693, 0.0), (3694, 0.4387748288474665), (3695, 0.0), (3696, 0.0), (3697, 0.0), (3698, 0.0), (3699, 0.583875513314773), (3700, 0.0), (3701, 0.0), (3702, 0.0), (3703, 0.0), (3704, 0.0), (3705, 0.0), (3706, 0.0), (3707, 0.0), (3708, 0.5401206989211701), (3709, 0.0), (3710, 0.0), (3711, 0.46242980852780385), (3712, 0.5679949930443231), (3713, 0.6434215686389435), (3714, 0.0), (3715, 0.2923150984427964), (3716, 0.3418309935974081), (3717, 0.0), (3718, 0.0), (3719, 0.0), (3720, 0.0), (3721, 0.0), (3722, 0.5679949930443231), (3723, 0.0), (3724, 0.0), (3725, 0.0), (3726, 0.0), (3727, 0.0), (3728, 0.21176515903968685), (3729, 0.0), (3730, 0.5679949930443231), (3731, 0.5534893029799297), (3732, 0.28786615125602555), (3733, 0.43103465206787206), (3734, 0.0), (3735, 0.18483521554033774), (3736, 0.5679949930443231), (3737, 0.0), (3738, 0.0), (3739, 0.43103465206787206), (3740, 0.5679949930443231), (3741, 0.5401206989211701), (3742, 0.0), (3743, 0.0), (3744, 0.0), (3745, 0.0), (3746, 0.0), (3747, 0.0), (3748, 0.3418309935974081), (3749, 0.0), (3750, 0.0), (3751, 0.0), (3752, 0.0), (3753, 0.24613015459227874), (3754, 0.43103465206787206), (3755, 0.43103465206787206), (3756, 0.583875513314773), (3757, 0.0), (3758, 0.24662959141932667), (3759, 0.5679949930443231), (3760, 0.0), (3761, 0.0), (3762, 0.0), (3763, 0.273881300764756), (3764, 0.2217650105777882), (3765, 0.43103465206787206), (3766, 0.583875513314773), (3767, 0.30371641808634475), (3768, 0.487748420682301), (3769, 0.0), (3770, 0.0), (3771, 0.0), (3772, 0.43103465206787206), (3773, 0.0), (3774, 0.0), (3775, 0.6434215686389435), (3776, 0.0), (3777, 0.583875513314773), (3778, 0.0), (3779, 0.0), (3780, 0.0), (3781, 0.0), (3782, 0.0), (3783, 0.0), (3784, 0.0), (3785, 0.0), (3786, 0.0), (3787, 0.0), (3788, 0.0), (3789, 0.5679949930443231), (3790, 0.1760304455807163), (3791, 0.5679949930443231), (3792, 0.30371641808634475), (3793, 0.0), (3794, 0.5401206989211701), (3795, 0.0), (3796, 0.3008471204054971), (3797, 0.0), (3798, 0.0), (3799, 0.0), (3800, 0.3418309935974081), (3801, 0.583875513314773), (3802, 0.0), (3803, 0.18483521554033774), (3804, 0.0), (3805, 0.16171487279720403), (3806, 0.0), (3807, 0.5034329489782393), (3808, 0.3418309935974081), (3809, 0.0), (3810, 0.0), (3811, 0.43103465206787206), (3812, 0.1760304455807163), (3813, 0.0), (3814, 0.0), (3815, 0.0), (3816, 0.0), (3817, 0.0), (3818, 0.5679949930443231), (3819, 0.583875513314773), (3820, 0.5679949930443231), (3821, 0.0), (3822, 0.273881300764756), (3823, 0.0), (3824, 0.0), (3825, 0.0), (3826, 0.0), (3827, 0.0), (3828, 0.21725514928621062), (3829, 0.0), (3830, 0.0), (3831, 0.0), (3832, 0.43103465206787206), (3833, 0.0), (3834, 0.0), (3835, 0.0), (3836, 0.5679949930443231), (3837, 0.5679949930443231), (3838, 0.0), (3839, 0.30371641808634475), (3840, 0.0), (3841, 0.0), (3842, 0.20992787841573496), (3843, 0.0), (3844, 0.2571514474953518), (3845, 0.20129523658970047), (3846, 0.0), (3847, 0.0), (3848, 0.0), (3849, 0.4573297427907054), (3850, 0.0), (3851, 0.3418309935974081), (3852, 0.0), (3853, 0.0), (3854, 0.583875513314773), (3855, 0.43103465206787206), (3856, 0.3418309935974081), (3857, 0.0), (3858, 0.3008471204054971), (3859, 0.24662959141932667), (3860, 0.5401206989211701), (3861, 0.5679949930443231), (3862, 0.5034329489782393), (3863, 0.0), (3864, 0.5679949930443231), (3865, 0.18483521554033774), (3866, 0.30371641808634475), (3867, 0.0), (3868, 0.30371641808634475), (3869, 0.0), (3870, 0.16963240198809698), (3871, 0.0), (3872, 0.0), (3873, 0.0), (3874, 0.0), (3875, 0.30371641808634475), (3876, 0.0), (3877, 0.0), (3878, 0.0), (3879, 0.3418309935974081), (3880, 0.0), (3881, 0.0), (3882, 0.30371641808634475), (3883, 0.583875513314773), (3884, 0.0), (3885, 0.5679949930443231), (3886, 0.18048049308051892), (3887, 0.0), (3888, 0.5914204336105737), (3889, 0.1945566398951824), (3890, 0.43103465206787206), (3891, 0.0), (3892, 0.273881300764756), (3893, 0.0), (3894, 0.0), (3895, 0.0), (3896, 0.5679949930443231), (3897, 0.0), (3898, 0.0), (3899, 0.0), (3900, 0.0), (3901, 0.0), (3902, 0.0), (3903, 0.0), (3904, 0.0), (3905, 1.0000000000000002), (3906, 0.0), (3907, 0.0), (3908, 0.0), (3909, 0.5679949930443231), (3910, 0.0), (3911, 0.0), (3912, 0.5679949930443231), (3913, 0.0), (3914, 0.5679949930443231), (3915, 0.0), (3916, 0.5679949930443231), (3917, 0.0), (3918, 0.0), (3919, 0.1945566398951824), (3920, 0.0), (3921, 0.5679949930443231), (3922, 0.43103465206787206), (3923, 0.16427569571320033), (3924, 0.4461007377968182), (3925, 0.0), (3926, 0.5679949930443231), (3927, 0.0), (3928, 0.0), (3929, 0.0), (3930, 0.5679949930443231), (3931, 0.5679949930443231), (3932, 0.0), (3933, 0.3418309935974081), (3934, 0.5679949930443231), (3935, 0.0), (3936, 0.3418309935974081), (3937, 0.0), (3938, 0.0), (3939, 0.0), (3940, 0.0), (3941, 0.8988985380610965), (3942, 0.0), (3943, 0.20714996898280347), (3944, 0.0), (3945, 0.0), (3946, 0.5401206989211701), (3947, 0.4192705289858906), (3948, 0.0), (3949, 1.0000000000000002), (3950, 0.3418309935974081), (3951, 0.0), (3952, 0.30371641808634475), (3953, 0.0), (3954, 0.0), (3955, 0.0), (3956, 0.7081550652094583), (3957, 0.0), (3958, 0.0), (3959, 0.583875513314773), (3960, 0.0), (3961, 0.583875513314773), (3962, 0.43103465206787206), (3963, 0.0), (3964, 0.3418309935974081), (3965, 0.1620626897784215), (3966, 0.0), (3967, 0.43103465206787206), (3968, 0.0), (3969, 0.5679949930443231), (3970, 0.0), (3971, 0.3017605556605137), (3972, 0.0), (3973, 0.43103465206787206), (3974, 0.0), (3975, 0.0), (3976, 0.0), (3977, 0.0), (3978, 0.5034329489782393), (3979, 0.0), (3980, 0.0), (3981, 0.0), (3982, 0.0), (3983, 0.0), (3984, 0.8988985380610965), (3985, 0.0), (3986, 0.0), (3987, 0.0), (3988, 0.5679949930443231), (3989, 0.0), (3990, 0.0), (3991, 0.0), (3992, 0.8988985380610965), (3993, 0.5401206989211701), (3994, 0.0), (3995, 0.0), (3996, 0.5679949930443231), (3997, 0.0), (3998, 0.2078825492324872), (3999, 0.0), (4000, 0.583875513314773), (4001, 0.3636387599226757), (4002, 0.0), (4003, 0.5679949930443231), (4004, 0.583875513314773), (4005, 0.0), (4006, 0.0), (4007, 1.0000000000000002), (4008, 0.5679949930443231), (4009, 0.0), (4010, 0.20714996898280347), (4011, 0.0), (4012, 0.2771278698636682), (4013, 0.0), (4014, 0.0), (4015, 0.0), (4016, 0.0), (4017, 0.0), (4018, 0.3418309935974081), (4019, 0.0), (4020, 0.0), (4021, 0.0), (4022, 0.0), (4023, 0.43103465206787206), (4024, 0.0), (4025, 0.30371641808634475), (4026, 0.24297843223922808), (4027, 0.2113048283129337), (4028, 0.0), (4029, 0.0), (4030, 0.0), (4031, 0.3008471204054971), (4032, 0.0), (4033, 0.5767357654463654), (4034, 0.0), (4035, 0.5679949930443231), (4036, 0.22185638302256253), (4037, 0.18977433139295494), (4038, 0.0), (4039, 0.0), (4040, 0.3017605556605137), (4041, 0.0), (4042, 0.0), (4043, 0.0), (4044, 0.0), (4045, 0.6339043008749563), (4046, 0.0), (4047, 0.0), (4048, 0.7081550652094583), (4049, 0.43103465206787206), (4050, 0.0), (4051, 0.30371641808634475), (4052, 0.43103465206787206), (4053, 0.7081550652094583), (4054, 0.2184258775503198), (4055, 0.0), (4056, 0.0), (4057, 0.0), (4058, 0.5679949930443231), (4059, 0.0), (4060, 0.5562207253874156), (4061, 0.3418309935974081), (4062, 0.0), (4063, 0.0), (4064, 0.3418309935974081), (4065, 0.0), (4066, 0.19769353647095894), (4067, 0.0), (4068, 0.5034329489782393), (4069, 0.0), (4070, 0.0), (4071, 0.2483895313007709), (4072, 0.0), (4073, 0.3418309935974081), (4074, 0.0), (4075, 0.0), (4076, 0.0), (4077, 0.0), (4078, 0.0), (4079, 0.0), (4080, 0.0), (4081, 0.0), (4082, 0.0), (4083, 0.0), (4084, 0.3418309935974081), (4085, 0.0), (4086, 0.18483521554033774), (4087, 0.0), (4088, 0.5401206989211701), (4089, 0.0), (4090, 0.0), (4091, 0.0), (4092, 0.0), (4093, 0.8263345971085432), (4094, 0.8263345971085432), (4095, 0.5034329489782393), (4096, 0.6434215686389435), (4097, 0.5679949930443231), (4098, 0.0), (4099, 0.16171487279720403), (4100, 0.0), (4101, 0.0), (4102, 0.43103465206787206), (4103, 0.0), (4104, 0.30371641808634475), (4105, 1.0000000000000002), (4106, 0.0), (4107, 0.0), (4108, 0.3017605556605137), (4109, 0.3017605556605137), (4110, 0.0), (4111, 0.43103465206787206), (4112, 0.17217521951085088), (4113, 0.23097686636700035), (4114, 0.0), (4115, 0.5679949930443231), (4116, 0.5034329489782393), (4117, 0.30371641808634475), (4118, 0.639089975894559), (4119, 0.0), (4120, 0.0), (4121, 0.7263443860401056), (4122, 0.6339043008749563), (4123, 0.583875513314773), (4124, 0.583875513314773), (4125, 0.5679949930443231), (4126, 0.0), (4127, 0.5679949930443231), (4128, 0.0), (4129, 0.0), (4130, 0.0), (4131, 0.3636387599226757), (4132, 0.43103465206787206), (4133, 0.0), (4134, 0.0), (4135, 0.19769353647095894), (4136, 0.0), (4137, 0.0), (4138, 0.0), (4139, 0.0), (4140, 0.43103465206787206), (4141, 0.4266687550620588), (4142, 0.0), (4143, 0.0), (4144, 0.0), (4145, 0.0), (4146, 0.0), (4147, 0.43103465206787206), (4148, 0.5401206989211701), (4149, 0.5679949930443231), (4150, 0.0), (4151, 0.0), (4152, 0.0), (4153, 0.0), (4154, 0.0), (4155, 0.0), (4156, 0.30371641808634475), (4157, 0.0), (4158, 0.0), (4159, 0.0), (4160, 0.0), (4161, 0.0), (4162, 0.0), (4163, 0.0), (4164, 0.6434215686389435), (4165, 0.0), (4166, 0.10598370839708204), (4167, 0.0), (4168, 0.0), (4169, 0.0), (4170, 0.0), (4171, 0.0), (4172, 0.0), (4173, 0.20714996898280347), (4174, 0.43103465206787206), (4175, 0.0), (4176, 0.0), (4177, 0.0), (4178, 0.583875513314773), (4179, 0.0), (4180, 0.3017605556605137), (4181, 0.0), (4182, 0.43103465206787206), (4183, 0.0), (4184, 0.5679949930443231), (4185, 0.0), (4186, 0.3636387599226757), (4187, 0.7081550652094583), (4188, 0.0), (4189, 0.4387748288474665), (4190, 0.3008471204054971), (4191, 0.1760304455807163), (4192, 0.5930662218260683), (4193, 0.0), (4194, 0.0), (4195, 0.18483521554033774), (4196, 0.0), (4197, 0.0), (4198, 0.2113048283129337), (4199, 0.17217521951085088), (4200, 0.43103465206787206), (4201, 0.0), (4202, 0.0), (4203, 0.8988985380610965), (4204, 0.5679949930443231), (4205, 0.0), (4206, 0.43103465206787206), (4207, 0.20714996898280347), (4208, 0.0), (4209, 0.0), (4210, 0.17217521951085088), (4211, 0.0), (4212, 0.0), (4213, 0.43103465206787206), (4214, 0.5679949930443231), (4215, 0.0), (4216, 0.6434215686389435), (4217, 0.2217650105777882), (4218, 0.19618001847968786), (4219, 0.0), (4220, 0.0), (4221, 0.0), (4222, 0.30371641808634475), (4223, 0.3418309935974081), (4224, 0.0), (4225, 0.0), (4226, 0.3017605556605137), (4227, 0.487748420682301), (4228, 0.0), (4229, 0.0), (4230, 0.0), (4231, 0.583875513314773), (4232, 0.7081550652094583), (4233, 0.8263345971085432), (4234, 0.20992787841573496), (4235, 0.6434215686389435), (4236, 0.0), (4237, 0.1964716255660497), (4238, 0.0), (4239, 0.3017605556605137), (4240, 0.0), (4241, 0.0), (4242, 0.583875513314773), (4243, 0.0), (4244, 0.5034329489782393), (4245, 0.0), (4246, 0.8988985380610965), (4247, 0.0), (4248, 0.0), (4249, 0.0), (4250, 0.0), (4251, 0.0), (4252, 0.3418309935974081), (4253, 0.0), (4254, 0.43103465206787206), (4255, 0.0), (4256, 0.5679949930443231), (4257, 0.43103465206787206), (4258, 0.5679949930443231), (4259, 0.273881300764756), (4260, 0.5679949930443231), (4261, 0.4074969428522193), (4262, 0.0), (4263, 0.20129523658970047), (4264, 0.0), (4265, 0.6434215686389435), (4266, 0.0), (4267, 0.0), (4268, 0.48478969250256965), (4269, 0.0), (4270, 0.0), (4271, 0.0), (4272, 0.2718742697370808), (4273, 0.0), (4274, 0.0), (4275, 0.0), (4276, 0.0), (4277, 0.0), (4278, 0.0), (4279, 0.0), (4280, 0.0), (4281, 0.0), (4282, 0.0), (4283, 0.0), (4284, 0.0), (4285, 0.1914576546540216), (4286, 0.0), (4287, 0.20129523658970047), (4288, 0.4829878920805723), (4289, 0.5101769149487704), (4290, 0.0), (4291, 0.5679949930443231), (4292, 0.0), (4293, 0.7664937195686478), (4294, 0.0), (4295, 0.30371641808634475), (4296, 0.0), (4297, 0.5679949930443231), (4298, 0.0), (4299, 0.0), (4300, 0.3321145292589752), (4301, 0.0), (4302, 0.0), (4303, 0.18483521554033774), (4304, 0.43103465206787206), (4305, 0.5679949930443231), (4306, 0.0), (4307, 0.0), (4308, 0.43103465206787206), (4309, 0.0), (4310, 0.0), (4311, 0.30371641808634475), (4312, 0.0), (4313, 0.0), (4314, 0.3008471204054971), (4315, 0.3418309935974081), (4316, 0.0), (4317, 0.5679949930443231), (4318, 0.0), (4319, 0.3418309935974081), (4320, 0.0), (4321, 0.30371641808634475), (4322, 0.0), (4323, 0.1816997593086933), (4324, 0.1964716255660497), (4325, 0.7263443860401056), (4326, 0.0), (4327, 0.3418309935974081), (4328, 0.0), (4329, 0.5679949930443231), (4330, 0.0), (4331, 0.0), (4332, 0.5679949930443231), (4333, 0.0), (4334, 0.0), (4335, 0.5679949930443231), (4336, 0.0), (4337, 0.0), (4338, 0.0), (4339, 0.0), (4340, 0.0), (4341, 0.18483521554033774), (4342, 0.0), (4343, 0.0), (4344, 0.0), (4345, 0.0), (4346, 0.14456434655490227), (4347, 0.18483521554033774), (4348, 0.0), (4349, 0.0), (4350, 0.0), (4351, 0.16968910124263778), (4352, 0.0), (4353, 0.3636387599226757), (4354, 0.0), (4355, 0.0), (4356, 0.43103465206787206), (4357, 0.10465051894274485), (4358, 0.5679949930443231), (4359, 0.0), (4360, 0.0), (4361, 0.0), (4362, 0.0), (4363, 0.0), (4364, 0.0), (4365, 0.0), (4366, 0.0), (4367, 0.5679949930443231), (4368, 0.0), (4369, 0.0), (4370, 0.5679949930443231), (4371, 0.43103465206787206), (4372, 0.0), (4373, 0.0), (4374, 0.583875513314773), (4375, 0.0), (4376, 0.0), (4377, 0.0), (4378, 0.0), (4379, 0.4013996874396063), (4380, 0.46242980852780385), (4381, 0.0), (4382, 0.43103465206787206), (4383, 0.0), (4384, 0.0), (4385, 0.0), (4386, 0.0), (4387, 0.583875513314773), (4388, 0.5679949930443231), (4389, 0.0), (4390, 0.6339043008749563), (4391, 0.0), (4392, 0.0), (4393, 0.0), (4394, 0.22809390553148015), (4395, 0.43103465206787206), (4396, 0.0), (4397, 0.0), (4398, 0.0), (4399, 0.0), (4400, 0.0), (4401, 0.0), (4402, 0.0), (4403, 0.4387748288474665), (4404, 0.3017605556605137), (4405, 0.0), (4406, 0.0), (4407, 0.0), (4408, 0.3418309935974081), (4409, 0.0), (4410, 0.0), (4411, 0.0), (4412, 0.0), (4413, 0.5679949930443231), (4414, 0.0), (4415, 0.0), (4416, 0.0), (4417, 0.0), (4418, 0.0), (4419, 0.0), (4420, 0.25524385558069906), (4421, 0.5679949930443231), (4422, 0.30371641808634475), (4423, 0.0), (4424, 0.0), (4425, 0.0), (4426, 0.2571514474953518), (4427, 0.0), (4428, 0.0), (4429, 0.0), (4430, 0.0), (4431, 0.0), (4432, 0.0), (4433, 0.24297843223922808), (4434, 0.3017605556605137), (4435, 0.5767357654463654), (4436, 0.5401206989211701), (4437, 0.3418309935974081), (4438, 0.0), (4439, 0.0), (4440, 0.8263345971085432), (4441, 0.0), (4442, 0.7441733654212612), (4443, 0.0), (4444, 0.0), (4445, 0.0), (4446, 0.22809390553148015), (4447, 0.2539069930326738), (4448, 0.21859754281563193), (4449, 0.0), (4450, 0.5401206989211701), (4451, 0.5679949930443231), (4452, 0.5679949930443231), (4453, 0.2078825492324872), (4454, 0.24290470088474228), (4455, 0.0), (4456, 0.0), (4457, 0.18483521554033774), (4458, 0.0), (4459, 0.0), (4460, 0.3418309935974081), (4461, 0.0), (4462, 0.0), (4463, 0.3418309935974081), (4464, 0.0), (4465, 0.7081550652094583), (4466, 0.0), (4467, 0.0), (4468, 0.0), (4469, 0.7081550652094583), (4470, 0.0), (4471, 0.0), (4472, 0.0), (4473, 0.22809390553148015), (4474, 0.583875513314773), (4475, 0.583875513314773), (4476, 0.0), (4477, 0.5767357654463654), (4478, 0.0), (4479, 0.0), (4480, 0.5679949930443231), (4481, 0.5401206989211701), (4482, 0.0), (4483, 0.24613015459227874), (4484, 0.43103465206787206), (4485, 0.0), (4486, 0.8263345971085432), (4487, 0.0), (4488, 0.0), (4489, 0.25524385558069906), (4490, 0.0), (4491, 0.0), (4492, 0.18483521554033774), (4493, 0.0), (4494, 0.0), (4495, 0.0), (4496, 0.5679949930443231), (4497, 0.0), (4498, 0.3418309935974081), (4499, 0.0), (4500, 0.0), (4501, 0.0), (4502, 0.3390506889185963), (4503, 0.4013996874396063), (4504, 0.0), (4505, 0.0), (4506, 0.5679949930443231), (4507, 0.43103465206787206), (4508, 0.0), (4509, 0.0), (4510, 0.6434215686389435), (4511, 0.0), (4512, 0.6434215686389435), (4513, 0.0), (4514, 0.2806210944346188), (4515, 0.0), (4516, 0.0), (4517, 0.0), (4518, 0.0), (4519, 0.21656621801311796), (4520, 0.0), (4521, 0.0), (4522, 0.32405074767580655), (4523, 0.0), (4524, 0.0), (4525, 0.0), (4526, 0.0), (4527, 0.0), (4528, 0.0), (4529, 0.0), (4530, 0.43103465206787206), (4531, 0.583875513314773), (4532, 0.0), (4533, 0.0), (4534, 0.0), (4535, 0.0), (4536, 0.0), (4537, 0.2571514474953518), (4538, 0.0), (4539, 0.0), (4540, 0.0), (4541, 0.0), (4542, 0.2238882792320672), (4543, 0.5401206989211701), (4544, 0.0), (4545, 0.0), (4546, 0.0), (4547, 0.0), (4548, 0.0), (4549, 0.0), (4550, 0.0), (4551, 0.48478969250256965), (4552, 0.203741006680867), (4553, 0.5401206989211701), (4554, 0.4387748288474665), (4555, 0.20807964132843526), (4556, 0.5679949930443231), (4557, 0.5658762458039822), (4558, 0.5679949930443231), (4559, 0.0), (4560, 0.5679949930443231), (4561, 0.0), (4562, 0.25519671925973303), (4563, 0.0), (4564, 0.2718742697370808), (4565, 0.0), (4566, 0.0), (4567, 0.0), (4568, 0.0), (4569, 0.0), (4570, 0.18483521554033774), (4571, 0.43103465206787206), (4572, 0.0), (4573, 0.0), (4574, 0.0), (4575, 0.0), (4576, 0.0), (4577, 0.5679949930443231), (4578, 0.0), (4579, 0.0), (4580, 0.2113048283129337), (4581, 0.32599399384361766), (4582, 0.0), (4583, 0.0), (4584, 0.0), (4585, 0.0), (4586, 0.0), (4587, 0.0), (4588, 0.0), (4589, 0.0), (4590, 0.0), (4591, 0.0), (4592, 0.5679949930443231), (4593, 0.0), (4594, 0.0), (4595, 0.0), (4596, 0.5679949930443231), (4597, 0.0), (4598, 0.0), (4599, 0.24613015459227874), (4600, 0.3636387599226757), (4601, 0.0), (4602, 0.0), (4603, 0.22809390553148015), (4604, 0.0), (4605, 0.0), (4606, 0.0), (4607, 0.0), (4608, 0.0), (4609, 0.21083329875665308), (4610, 0.8988985380610965), (4611, 0.0), (4612, 0.0), (4613, 0.0), (4614, 0.0), (4615, 0.0), (4616, 0.0), (4617, 0.7081550652094583), (4618, 0.0), (4619, 0.5767357654463654), (4620, 0.0), (4621, 0.0), (4622, 0.23138932480458474), (4623, 0.487748420682301), (4624, 0.0), (4625, 0.0), (4626, 0.0), (4627, 0.43103465206787206), (4628, 0.3418309935974081), (4629, 0.0), (4630, 0.0), (4631, 0.3636387599226757), (4632, 0.0), (4633, 0.43103465206787206), (4634, 0.0), (4635, 0.0), (4636, 0.23097686636700035), (4637, 0.4387748288474665), (4638, 0.0), (4639, 0.0), (4640, 0.0), (4641, 0.0), (4642, 0.0), (4643, 0.0), (4644, 0.0), (4645, 0.0), (4646, 0.0), (4647, 0.3636387599226757), (4648, 0.5679949930443231), (4649, 0.0), (4650, 0.43103465206787206), (4651, 0.0), (4652, 0.30371641808634475), (4653, 0.0), (4654, 0.0), (4655, 0.5679949930443231), (4656, 0.6339043008749563), (4657, 0.0), (4658, 0.583875513314773), (4659, 0.0), (4660, 0.0), (4661, 0.0), (4662, 0.0), (4663, 0.4432182224181429), (4664, 0.0), (4665, 0.0), (4666, 0.0), (4667, 0.5679949930443231), (4668, 0.0), (4669, 0.583875513314773), (4670, 0.0), (4671, 0.0), (4672, 0.0), (4673, 0.5034329489782393), (4674, 0.0), (4675, 0.3008471204054971), (4676, 0.0), (4677, 0.0), (4678, 0.0), (4679, 0.583875513314773), (4680, 0.0), (4681, 0.0), (4682, 0.0), (4683, 0.0), (4684, 0.5401206989211701), (4685, 0.0), (4686, 0.0), (4687, 0.0), (4688, 0.3418309935974081), (4689, 0.0), (4690, 0.3636387599226757), (4691, 0.0), (4692, 0.0), (4693, 0.0), (4694, 0.0), (4695, 0.0), (4696, 0.0), (4697, 0.0), (4698, 0.0), (4699, 0.0), (4700, 0.20992787841573496), (4701, 0.0), (4702, 0.3418309935974081), (4703, 0.0), (4704, 0.0), (4705, 0.0), (4706, 0.43103465206787206), (4707, 0.8230320090230875), (4708, 0.0), (4709, 0.5401206989211701), (4710, 0.0), (4711, 0.3008471204054971), (4712, 0.0), (4713, 0.0), (4714, 0.0), (4715, 0.0), (4716, 0.0), (4717, 0.22809390553148015), (4718, 0.0), (4719, 0.30371641808634475), (4720, 0.3017605556605137), (4721, 0.2410711034345278), (4722, 0.7081550652094583), (4723, 0.0), (4724, 0.583875513314773), (4725, 0.2078825492324872), (4726, 0.0), (4727, 0.6339043008749563), (4728, 0.0), (4729, 0.0), (4730, 0.0), (4731, 0.0), (4732, 0.0), (4733, 0.0), (4734, 0.43103465206787206), (4735, 0.583875513314773), (4736, 0.0), (4737, 0.5679949930443231), (4738, 0.3418309935974081), (4739, 0.5767357654463654), (4740, 0.0), (4741, 0.0), (4742, 0.0), (4743, 0.0), (4744, 0.43103465206787206), (4745, 0.0), (4746, 0.2571514474953518), (4747, 0.5401206989211701), (4748, 0.0), (4749, 0.0), (4750, 0.0), (4751, 0.0), (4752, 0.0), (4753, 0.0), (4754, 0.0), (4755, 0.0), (4756, 0.273881300764756), (4757, 0.0), (4758, 0.0), (4759, 0.0)]\n"
          ]
        }
      ],
      "source": [
        "# getting a list of similar movies\n",
        "Recommendation_Score = list(enumerate(Similarity_Score[Index_of_close_Match_Movie]))\n",
        "print(Recommendation_Score)"
      ]
    },
    {
      "cell_type": "code",
      "execution_count": null,
      "metadata": {
        "colab": {
          "base_uri": "https://localhost:8080/"
        },
        "id": "jS3M9ah7YfoB",
        "outputId": "fd4c8a33-e7fa-41db-8c4f-99e21bf12b2c"
      },
      "outputs": [
        {
          "data": {
            "text/plain": [
              "4760"
            ]
          },
          "execution_count": 61,
          "metadata": {},
          "output_type": "execute_result"
        }
      ],
      "source": [
        "len(Recommendation_Score)"
      ]
    },
    {
      "cell_type": "markdown",
      "metadata": {
        "id": "PHUUlUTEYg1A"
      },
      "source": [
        "#Get All Movies Sort Based on Recommendation Score wrt Favourite Movie"
      ]
    },
    {
      "cell_type": "code",
      "execution_count": null,
      "metadata": {
        "colab": {
          "base_uri": "https://localhost:8080/"
        },
        "id": "tJUN5vJJYm20",
        "outputId": "bc262569-f11d-43ad-c997-d92d82af9aa6"
      },
      "outputs": [
        {
          "name": "stdout",
          "output_type": "stream",
          "text": [
            "[(0, 1.0000000000000002), (42, 1.0000000000000002), (50, 1.0000000000000002), (503, 1.0000000000000002), (664, 1.0000000000000002), (862, 1.0000000000000002), (1213, 1.0000000000000002), (1260, 1.0000000000000002), (1282, 1.0000000000000002), (1330, 1.0000000000000002), (1344, 1.0000000000000002), (1371, 1.0000000000000002), (1461, 1.0000000000000002), (1507, 1.0000000000000002), (1981, 1.0000000000000002), (1986, 1.0000000000000002), (2158, 1.0000000000000002), (2228, 1.0000000000000002), (2304, 1.0000000000000002), (2487, 1.0000000000000002), (2635, 1.0000000000000002), (2833, 1.0000000000000002), (2948, 1.0000000000000002), (2994, 1.0000000000000002), (3127, 1.0000000000000002), (3149, 1.0000000000000002), (3508, 1.0000000000000002), (3570, 1.0000000000000002), (3905, 1.0000000000000002), (3949, 1.0000000000000002), (4007, 1.0000000000000002), (4105, 1.0000000000000002), (479, 0.8988985380610965), (757, 0.8988985380610965), (939, 0.8988985380610965), (1078, 0.8988985380610965), (1234, 0.8988985380610965), (1582, 0.8988985380610965), (1861, 0.8988985380610965), (1923, 0.8988985380610965), (2076, 0.8988985380610965), (2264, 0.8988985380610965), (2464, 0.8988985380610965), (2546, 0.8988985380610965), (3155, 0.8988985380610965), (3382, 0.8988985380610965), (3418, 0.8988985380610965), (3941, 0.8988985380610965), (3984, 0.8988985380610965), (3992, 0.8988985380610965), (4203, 0.8988985380610965), (4246, 0.8988985380610965), (4610, 0.8988985380610965), (667, 0.8359599600793752), (678, 0.8359599600793752), (916, 0.8359599600793752), (931, 0.8359599600793752), (1047, 0.8359599600793752), (1300, 0.8359599600793752), (1542, 0.8359599600793752), (1694, 0.8359599600793752), (2336, 0.8359599600793752), (2727, 0.8359599600793752), (2939, 0.8359599600793752), (3652, 0.8359599600793752), (3674, 0.8359599600793752), (38, 0.8263345971085432), (40, 0.8263345971085432), (139, 0.8263345971085432), (494, 0.8263345971085432), (869, 0.8263345971085432), (1214, 0.8263345971085432), (1544, 0.8263345971085432), (1721, 0.8263345971085432), (1735, 0.8263345971085432), (1847, 0.8263345971085432), (1973, 0.8263345971085432), (2077, 0.8263345971085432), (2363, 0.8263345971085432), (2424, 0.8263345971085432), (2581, 0.8263345971085432), (2600, 0.8263345971085432), (2825, 0.8263345971085432), (2913, 0.8263345971085432), (2962, 0.8263345971085432), (2971, 0.8263345971085432), (3192, 0.8263345971085432), (3259, 0.8263345971085432), (3531, 0.8263345971085432), (3658, 0.8263345971085432), (4093, 0.8263345971085432), (4094, 0.8263345971085432), (4233, 0.8263345971085432), (4440, 0.8263345971085432), (4486, 0.8263345971085432), (4707, 0.8230320090230875), (86, 0.7985625266872162), (474, 0.7985625266872162), (1585, 0.7985625266872162), (1806, 0.7985625266872162), (1816, 0.7985625266872162), (2026, 0.7985625266872162), (2519, 0.7985625266872162), (2897, 0.7985625266872162), (1194, 0.785428706163669), (1231, 0.785428706163669), (1738, 0.785428706163669), (1232, 0.7741569759082517), (2925, 0.7741569759082517), (1513, 0.7664937195686478), (1727, 0.7664937195686478), (3097, 0.7664937195686478), (3267, 0.7664937195686478), (4293, 0.7664937195686478), (1317, 0.7441733654212612), (1821, 0.7441733654212612), (4442, 0.7441733654212612), (311, 0.7411679278581932), (3142, 0.7397568466007262), (2512, 0.7335100696035542), (532, 0.7263443860401056), (904, 0.7263443860401056), (905, 0.7263443860401056), (1024, 0.7263443860401056), (1292, 0.7263443860401056), (1432, 0.7263443860401056), (1781, 0.7263443860401056), (3070, 0.7263443860401056), (3684, 0.7263443860401056), (4121, 0.7263443860401056), (4325, 0.7263443860401056), (43, 0.7081550652094583), (96, 0.7081550652094583), (105, 0.7081550652094583), (106, 0.7081550652094583), (108, 0.7081550652094583), (109, 0.7081550652094583), (111, 0.7081550652094583), (126, 0.7081550652094583), (142, 0.7081550652094583), (172, 0.7081550652094583), (173, 0.7081550652094583), (209, 0.7081550652094583), (216, 0.7081550652094583), (254, 0.7081550652094583), (256, 0.7081550652094583), (274, 0.7081550652094583), (280, 0.7081550652094583), (281, 0.7081550652094583), (285, 0.7081550652094583), (287, 0.7081550652094583), (342, 0.7081550652094583), (396, 0.7081550652094583), (485, 0.7081550652094583), (544, 0.7081550652094583), (828, 0.7081550652094583), (874, 0.7081550652094583), (894, 0.7081550652094583), (1264, 0.7081550652094583), (1339, 0.7081550652094583), (1620, 0.7081550652094583), (1754, 0.7081550652094583), (1776, 0.7081550652094583), (1854, 0.7081550652094583), (1874, 0.7081550652094583), (2023, 0.7081550652094583), (2029, 0.7081550652094583), (2080, 0.7081550652094583), (2126, 0.7081550652094583), (2321, 0.7081550652094583), (2346, 0.7081550652094583), (2649, 0.7081550652094583), (2739, 0.7081550652094583), (2752, 0.7081550652094583), (2849, 0.7081550652094583), (3076, 0.7081550652094583), (3095, 0.7081550652094583), (3119, 0.7081550652094583), (3120, 0.7081550652094583), (3293, 0.7081550652094583), (3956, 0.7081550652094583), (4048, 0.7081550652094583), (4053, 0.7081550652094583), (4187, 0.7081550652094583), (4232, 0.7081550652094583), (4465, 0.7081550652094583), (4469, 0.7081550652094583), (4617, 0.7081550652094583), (4722, 0.7081550652094583), (1061, 0.7072667445795884), (2978, 0.7072667445795884), (795, 0.7014088674552168), (948, 0.7014088674552168), (2874, 0.700589366080941), (3245, 0.700589366080941), (1567, 0.6924589013496288), (1987, 0.6924589013496288), (2444, 0.6924589013496288), (1337, 0.6846976703492698), (879, 0.6686472029183568), (1506, 0.6686472029183568), (1992, 0.6664645582177291), (2284, 0.6664645582177291), (1572, 0.6560934141859684), (1320, 0.6457800486320142), (3464, 0.6457800486320142), (47, 0.6434215686389435), (70, 0.6434215686389435), (72, 0.6434215686389435), (83, 0.6434215686389435), (89, 0.6434215686389435), (137, 0.6434215686389435), (138, 0.6434215686389435), (207, 0.6434215686389435), (304, 0.6434215686389435), (530, 0.6434215686389435), (1018, 0.6434215686389435), (1058, 0.6434215686389435), (1832, 0.6434215686389435), (3659, 0.6434215686389435), (3713, 0.6434215686389435), (3775, 0.6434215686389435), (4096, 0.6434215686389435), (4164, 0.6434215686389435), (4216, 0.6434215686389435), (4235, 0.6434215686389435), (4265, 0.6434215686389435), (4510, 0.6434215686389435), (4512, 0.6434215686389435), (345, 0.639089975894559), (4118, 0.639089975894559), (2486, 0.6364974915707483), (10, 0.6339043008749563), (143, 0.6339043008749563), (1076, 0.6339043008749563), (1393, 0.6339043008749563), (1504, 0.6339043008749563), (1540, 0.6339043008749563), (2184, 0.6339043008749563), (2815, 0.6339043008749563), (4045, 0.6339043008749563), (4122, 0.6339043008749563), (4390, 0.6339043008749563), (4656, 0.6339043008749563), (4727, 0.6339043008749563), (385, 0.6322617387558075), (908, 0.6322178735687727), (417, 0.63038198930517), (418, 0.63038198930517), (842, 0.63038198930517), (1115, 0.63038198930517), (1173, 0.63038198930517), (2093, 0.63038198930517), (3232, 0.63038198930517), (3582, 0.63038198930517), (367, 0.6176417924913914), (369, 0.6176417924913914), (851, 0.6159834160235882), (1797, 0.6138737792053642), (4192, 0.5930662218260683), (3888, 0.5914204336105737), (217, 0.5867310125531698), (1348, 0.5839228119627052), (18, 0.583875513314773), (21, 0.583875513314773), (112, 0.583875513314773), (124, 0.583875513314773), (149, 0.583875513314773), (166, 0.583875513314773), (190, 0.583875513314773), (199, 0.583875513314773), (276, 0.583875513314773), (370, 0.583875513314773), (447, 0.583875513314773), (450, 0.583875513314773), (463, 0.583875513314773), (481, 0.583875513314773), (502, 0.583875513314773), (543, 0.583875513314773), (584, 0.583875513314773), (604, 0.583875513314773), (643, 0.583875513314773), (675, 0.583875513314773), (799, 0.583875513314773), (829, 0.583875513314773), (853, 0.583875513314773), (860, 0.583875513314773), (876, 0.583875513314773), (888, 0.583875513314773), (942, 0.583875513314773), (989, 0.583875513314773), (1107, 0.583875513314773), (1132, 0.583875513314773), (1148, 0.583875513314773), (1275, 0.583875513314773), (1481, 0.583875513314773), (1621, 0.583875513314773), (1739, 0.583875513314773), (1967, 0.583875513314773), (1997, 0.583875513314773), (2037, 0.583875513314773), (2053, 0.583875513314773), (2070, 0.583875513314773), (2096, 0.583875513314773), (2154, 0.583875513314773), (2174, 0.583875513314773), (2196, 0.583875513314773), (2214, 0.583875513314773), (2216, 0.583875513314773), (2334, 0.583875513314773), (2406, 0.583875513314773), (2447, 0.583875513314773), (2602, 0.583875513314773), (2621, 0.583875513314773), (2692, 0.583875513314773), (2784, 0.583875513314773), (2808, 0.583875513314773), (2919, 0.583875513314773), (2961, 0.583875513314773), (3012, 0.583875513314773), (3019, 0.583875513314773), (3043, 0.583875513314773), (3154, 0.583875513314773), (3370, 0.583875513314773), (3483, 0.583875513314773), (3640, 0.583875513314773), (3675, 0.583875513314773), (3699, 0.583875513314773), (3756, 0.583875513314773), (3766, 0.583875513314773), (3777, 0.583875513314773), (3801, 0.583875513314773), (3819, 0.583875513314773), (3854, 0.583875513314773), (3883, 0.583875513314773), (3959, 0.583875513314773), (3961, 0.583875513314773), (4000, 0.583875513314773), (4004, 0.583875513314773), (4123, 0.583875513314773), (4124, 0.583875513314773), (4178, 0.583875513314773), (4231, 0.583875513314773), (4242, 0.583875513314773), (4374, 0.583875513314773), (4387, 0.583875513314773), (4474, 0.583875513314773), (4475, 0.583875513314773), (4531, 0.583875513314773), (4658, 0.583875513314773), (4669, 0.583875513314773), (4679, 0.583875513314773), (4724, 0.583875513314773), (4735, 0.583875513314773), (123, 0.5767357654463654), (683, 0.5767357654463654), (994, 0.5767357654463654), (1005, 0.5767357654463654), (1290, 0.5767357654463654), (1338, 0.5767357654463654), (1527, 0.5767357654463654), (1736, 0.5767357654463654), (2625, 0.5767357654463654), (3306, 0.5767357654463654), (4033, 0.5767357654463654), (4435, 0.5767357654463654), (4477, 0.5767357654463654), (4619, 0.5767357654463654), (4739, 0.5767357654463654), (760, 0.5738717156610825), (2280, 0.5723802135357247), (205, 0.5679949930443231), (366, 0.5679949930443231), (393, 0.5679949930443231), (422, 0.5679949930443231), (454, 0.5679949930443231), (525, 0.5679949930443231), (535, 0.5679949930443231), (536, 0.5679949930443231), (577, 0.5679949930443231), (585, 0.5679949930443231), (648, 0.5679949930443231), (679, 0.5679949930443231), (708, 0.5679949930443231), (710, 0.5679949930443231), (711, 0.5679949930443231), (730, 0.5679949930443231), (771, 0.5679949930443231), (772, 0.5679949930443231), (814, 0.5679949930443231), (837, 0.5679949930443231), (839, 0.5679949930443231), (840, 0.5679949930443231), (841, 0.5679949930443231), (892, 0.5679949930443231), (943, 0.5679949930443231), (955, 0.5679949930443231), (958, 0.5679949930443231), (978, 0.5679949930443231), (995, 0.5679949930443231), (1028, 0.5679949930443231), (1029, 0.5679949930443231), (1062, 0.5679949930443231), (1070, 0.5679949930443231), (1089, 0.5679949930443231), (1093, 0.5679949930443231), (1103, 0.5679949930443231), (1105, 0.5679949930443231), (1106, 0.5679949930443231), (1125, 0.5679949930443231), (1130, 0.5679949930443231), (1133, 0.5679949930443231), (1139, 0.5679949930443231), (1149, 0.5679949930443231), (1152, 0.5679949930443231), (1178, 0.5679949930443231), (1180, 0.5679949930443231), (1227, 0.5679949930443231), (1267, 0.5679949930443231), (1289, 0.5679949930443231), (1297, 0.5679949930443231), (1299, 0.5679949930443231), (1311, 0.5679949930443231), (1322, 0.5679949930443231), (1331, 0.5679949930443231), (1353, 0.5679949930443231), (1376, 0.5679949930443231), (1389, 0.5679949930443231), (1390, 0.5679949930443231), (1425, 0.5679949930443231), (1444, 0.5679949930443231), (1492, 0.5679949930443231), (1508, 0.5679949930443231), (1517, 0.5679949930443231), (1526, 0.5679949930443231), (1561, 0.5679949930443231), (1563, 0.5679949930443231), (1583, 0.5679949930443231), (1586, 0.5679949930443231), (1609, 0.5679949930443231), (1626, 0.5679949930443231), (1644, 0.5679949930443231), (1646, 0.5679949930443231), (1654, 0.5679949930443231), (1668, 0.5679949930443231), (1673, 0.5679949930443231), (1679, 0.5679949930443231), (1689, 0.5679949930443231), (1698, 0.5679949930443231), (1702, 0.5679949930443231), (1715, 0.5679949930443231), (1729, 0.5679949930443231), (1737, 0.5679949930443231), (1741, 0.5679949930443231), (1752, 0.5679949930443231), (1757, 0.5679949930443231), (1767, 0.5679949930443231), (1777, 0.5679949930443231), (1785, 0.5679949930443231), (1786, 0.5679949930443231), (1790, 0.5679949930443231), (1834, 0.5679949930443231), (1849, 0.5679949930443231), (1856, 0.5679949930443231), (1879, 0.5679949930443231), (1906, 0.5679949930443231), (1915, 0.5679949930443231), (1917, 0.5679949930443231), (1928, 0.5679949930443231), (1938, 0.5679949930443231), (1944, 0.5679949930443231), (1957, 0.5679949930443231), (1978, 0.5679949930443231), (1994, 0.5679949930443231), (2002, 0.5679949930443231), (2005, 0.5679949930443231), (2042, 0.5679949930443231), (2063, 0.5679949930443231), (2064, 0.5679949930443231), (2071, 0.5679949930443231), (2079, 0.5679949930443231), (2092, 0.5679949930443231), (2098, 0.5679949930443231), (2128, 0.5679949930443231), (2138, 0.5679949930443231), (2147, 0.5679949930443231), (2202, 0.5679949930443231), (2203, 0.5679949930443231), (2204, 0.5679949930443231), (2215, 0.5679949930443231), (2219, 0.5679949930443231), (2271, 0.5679949930443231), (2272, 0.5679949930443231), (2282, 0.5679949930443231), (2305, 0.5679949930443231), (2307, 0.5679949930443231), (2311, 0.5679949930443231), (2312, 0.5679949930443231), (2325, 0.5679949930443231), (2339, 0.5679949930443231), (2360, 0.5679949930443231), (2366, 0.5679949930443231), (2377, 0.5679949930443231), (2380, 0.5679949930443231), (2384, 0.5679949930443231), (2445, 0.5679949930443231), (2452, 0.5679949930443231), (2455, 0.5679949930443231), (2458, 0.5679949930443231), (2460, 0.5679949930443231), (2465, 0.5679949930443231), (2483, 0.5679949930443231), (2491, 0.5679949930443231), (2508, 0.5679949930443231), (2510, 0.5679949930443231), (2515, 0.5679949930443231), (2518, 0.5679949930443231), (2523, 0.5679949930443231), (2536, 0.5679949930443231), (2542, 0.5679949930443231), (2548, 0.5679949930443231), (2551, 0.5679949930443231), (2620, 0.5679949930443231), (2631, 0.5679949930443231), (2639, 0.5679949930443231), (2648, 0.5679949930443231), (2669, 0.5679949930443231), (2675, 0.5679949930443231), (2684, 0.5679949930443231), (2703, 0.5679949930443231), (2726, 0.5679949930443231), (2734, 0.5679949930443231), (2818, 0.5679949930443231), (2823, 0.5679949930443231), (2852, 0.5679949930443231), (2875, 0.5679949930443231), (2896, 0.5679949930443231), (2930, 0.5679949930443231), (2941, 0.5679949930443231), (2951, 0.5679949930443231), (2968, 0.5679949930443231), (3038, 0.5679949930443231), (3041, 0.5679949930443231), (3054, 0.5679949930443231), (3060, 0.5679949930443231), (3073, 0.5679949930443231), (3082, 0.5679949930443231), (3087, 0.5679949930443231), (3088, 0.5679949930443231), (3090, 0.5679949930443231), (3104, 0.5679949930443231), (3106, 0.5679949930443231), (3164, 0.5679949930443231), (3190, 0.5679949930443231), (3197, 0.5679949930443231), (3203, 0.5679949930443231), (3207, 0.5679949930443231), (3209, 0.5679949930443231), (3266, 0.5679949930443231), (3277, 0.5679949930443231), (3309, 0.5679949930443231), (3321, 0.5679949930443231), (3324, 0.5679949930443231), (3350, 0.5679949930443231), (3378, 0.5679949930443231), (3415, 0.5679949930443231), (3422, 0.5679949930443231), (3428, 0.5679949930443231), (3442, 0.5679949930443231), (3462, 0.5679949930443231), (3475, 0.5679949930443231), (3494, 0.5679949930443231), (3509, 0.5679949930443231), (3510, 0.5679949930443231), (3518, 0.5679949930443231), (3519, 0.5679949930443231), (3543, 0.5679949930443231), (3563, 0.5679949930443231), (3572, 0.5679949930443231), (3622, 0.5679949930443231), (3662, 0.5679949930443231), (3683, 0.5679949930443231), (3712, 0.5679949930443231), (3722, 0.5679949930443231), (3730, 0.5679949930443231), (3736, 0.5679949930443231), (3740, 0.5679949930443231), (3759, 0.5679949930443231), (3789, 0.5679949930443231), (3791, 0.5679949930443231), (3818, 0.5679949930443231), (3820, 0.5679949930443231), (3836, 0.5679949930443231), (3837, 0.5679949930443231), (3861, 0.5679949930443231), (3864, 0.5679949930443231), (3885, 0.5679949930443231), (3896, 0.5679949930443231), (3909, 0.5679949930443231), (3912, 0.5679949930443231), (3914, 0.5679949930443231), (3916, 0.5679949930443231), (3921, 0.5679949930443231), (3926, 0.5679949930443231), (3930, 0.5679949930443231), (3931, 0.5679949930443231), (3934, 0.5679949930443231), (3969, 0.5679949930443231), (3988, 0.5679949930443231), (3996, 0.5679949930443231), (4003, 0.5679949930443231), (4008, 0.5679949930443231), (4035, 0.5679949930443231), (4058, 0.5679949930443231), (4097, 0.5679949930443231), (4115, 0.5679949930443231), (4125, 0.5679949930443231), (4127, 0.5679949930443231), (4149, 0.5679949930443231), (4184, 0.5679949930443231), (4204, 0.5679949930443231), (4214, 0.5679949930443231), (4256, 0.5679949930443231), (4258, 0.5679949930443231), (4260, 0.5679949930443231), (4291, 0.5679949930443231), (4297, 0.5679949930443231), (4305, 0.5679949930443231), (4317, 0.5679949930443231), (4329, 0.5679949930443231), (4332, 0.5679949930443231), (4335, 0.5679949930443231), (4358, 0.5679949930443231), (4367, 0.5679949930443231), (4370, 0.5679949930443231), (4388, 0.5679949930443231), (4413, 0.5679949930443231), (4421, 0.5679949930443231), (4451, 0.5679949930443231), (4452, 0.5679949930443231), (4480, 0.5679949930443231), (4496, 0.5679949930443231), (4506, 0.5679949930443231), (4556, 0.5679949930443231), (4558, 0.5679949930443231), (4560, 0.5679949930443231), (4577, 0.5679949930443231), (4592, 0.5679949930443231), (4596, 0.5679949930443231), (4648, 0.5679949930443231), (4655, 0.5679949930443231), (4667, 0.5679949930443231), (4737, 0.5679949930443231), (4557, 0.5658762458039822), (515, 0.5641141172236428), (408, 0.5562207253874156), (547, 0.5562207253874156), (1053, 0.5562207253874156), (1858, 0.5562207253874156), (2489, 0.5562207253874156), (3407, 0.5562207253874156), (4060, 0.5562207253874156), (368, 0.5553522418587216), (1116, 0.5534893029799297), (3280, 0.5534893029799297), (3731, 0.5534893029799297), (1224, 0.5516117320731453), (2082, 0.5480599038222431), (88, 0.5401206989211701), (170, 0.5401206989211701), (244, 0.5401206989211701), (435, 0.5401206989211701), (500, 0.5401206989211701), (560, 0.5401206989211701), (621, 0.5401206989211701), (668, 0.5401206989211701), (682, 0.5401206989211701), (753, 0.5401206989211701), (825, 0.5401206989211701), (827, 0.5401206989211701), (928, 0.5401206989211701), (1054, 0.5401206989211701), (1092, 0.5401206989211701), (1162, 0.5401206989211701), (1226, 0.5401206989211701), (1259, 0.5401206989211701), (1276, 0.5401206989211701), (1406, 0.5401206989211701), (1419, 0.5401206989211701), (1455, 0.5401206989211701), (1591, 0.5401206989211701), (1681, 0.5401206989211701), (1815, 0.5401206989211701), (1937, 0.5401206989211701), (2206, 0.5401206989211701), (2275, 0.5401206989211701), (2276, 0.5401206989211701), (2383, 0.5401206989211701), (2429, 0.5401206989211701), (2742, 0.5401206989211701), (2751, 0.5401206989211701), (2788, 0.5401206989211701), (2791, 0.5401206989211701), (2918, 0.5401206989211701), (2963, 0.5401206989211701), (3085, 0.5401206989211701), (3312, 0.5401206989211701), (3384, 0.5401206989211701), (3465, 0.5401206989211701), (3466, 0.5401206989211701), (3507, 0.5401206989211701), (3708, 0.5401206989211701), (3741, 0.5401206989211701), (3794, 0.5401206989211701), (3860, 0.5401206989211701), (3946, 0.5401206989211701), (3993, 0.5401206989211701), (4088, 0.5401206989211701), (4148, 0.5401206989211701), (4436, 0.5401206989211701), (4450, 0.5401206989211701), (4481, 0.5401206989211701), (4543, 0.5401206989211701), (4553, 0.5401206989211701), (4684, 0.5401206989211701), (4709, 0.5401206989211701), (4747, 0.5401206989211701), (3018, 0.5362314728043197), (632, 0.5342440980835169), (1074, 0.5332426527603555), (1236, 0.5231601293085086), (1128, 0.5172863799713138), (3377, 0.5150990979648253), (558, 0.514205322522608), (120, 0.5131785263356021), (539, 0.5101769149487704), (1945, 0.5101769149487704), (3597, 0.5101769149487704), (4289, 0.5101769149487704), (629, 0.5058063852410103), (48, 0.5034329489782393), (68, 0.5034329489782393), (210, 0.5034329489782393), (458, 0.5034329489782393), (533, 0.5034329489782393), (534, 0.5034329489782393), (653, 0.5034329489782393), (669, 0.5034329489782393), (673, 0.5034329489782393), (866, 0.5034329489782393), (878, 0.5034329489782393), (947, 0.5034329489782393), (1000, 0.5034329489782393), (1015, 0.5034329489782393), (1035, 0.5034329489782393), (1141, 0.5034329489782393), (1183, 0.5034329489782393), (1335, 0.5034329489782393), (1369, 0.5034329489782393), (1377, 0.5034329489782393), (1417, 0.5034329489782393), (1478, 0.5034329489782393), (1483, 0.5034329489782393), (1678, 0.5034329489782393), (1680, 0.5034329489782393), (1687, 0.5034329489782393), (1740, 0.5034329489782393), (1853, 0.5034329489782393), (2024, 0.5034329489782393), (2040, 0.5034329489782393), (2224, 0.5034329489782393), (2645, 0.5034329489782393), (2668, 0.5034329489782393), (2697, 0.5034329489782393), (2768, 0.5034329489782393), (2795, 0.5034329489782393), (2903, 0.5034329489782393), (2908, 0.5034329489782393), (3210, 0.5034329489782393), (3275, 0.5034329489782393), (3450, 0.5034329489782393), (3642, 0.5034329489782393), (3660, 0.5034329489782393), (3807, 0.5034329489782393), (3862, 0.5034329489782393), (3978, 0.5034329489782393), (4068, 0.5034329489782393), (4095, 0.5034329489782393), (4116, 0.5034329489782393), (4244, 0.5034329489782393), (4673, 0.5034329489782393), (206, 0.4982391897340294), (483, 0.4982391897340294), (745, 0.4956984101000079), (51, 0.48961449960291215), (1237, 0.48961449960291215), (1248, 0.48961449960291215), (1629, 0.48961449960291215), (1942, 0.48961449960291215), (2607, 0.48961449960291215), (3318, 0.48961449960291215), (99, 0.487748420682301), (291, 0.487748420682301), (1104, 0.487748420682301), (1343, 0.487748420682301), (2057, 0.487748420682301), (2110, 0.487748420682301), (2871, 0.487748420682301), (3334, 0.487748420682301), (3535, 0.487748420682301), (3768, 0.487748420682301), (4227, 0.487748420682301), (4623, 0.487748420682301), (2212, 0.48538150685125514), (251, 0.48478969250256965), (270, 0.48478969250256965), (806, 0.48478969250256965), (816, 0.48478969250256965), (864, 0.48478969250256965), (1334, 0.48478969250256965), (2097, 0.48478969250256965), (2250, 0.48478969250256965), (3171, 0.48478969250256965), (4268, 0.48478969250256965), (4551, 0.48478969250256965), (1989, 0.4829878920805723), (4288, 0.4829878920805723), (1440, 0.4789230426730268), (1674, 0.471029581873795), (180, 0.47021351392503186), (181, 0.47021351392503186), (144, 0.4629433684599681), (145, 0.46242980852780385), (360, 0.46242980852780385), (695, 0.46242980852780385), (790, 0.46242980852780385), (801, 0.46242980852780385), (976, 0.46242980852780385), (1068, 0.46242980852780385), (1958, 0.46242980852780385), (2119, 0.46242980852780385), (2235, 0.46242980852780385), (2524, 0.46242980852780385), (3110, 0.46242980852780385), (3504, 0.46242980852780385), (3711, 0.46242980852780385), (4380, 0.46242980852780385), (1119, 0.46022473667868075), (1667, 0.46022473667868075), (2229, 0.46022473667868075), (2295, 0.46022473667868075), (2617, 0.46022473667868075), (3086, 0.46022473667868075), (3437, 0.46022473667868075), (201, 0.4573297427907054), (501, 0.4573297427907054), (692, 0.4573297427907054), (875, 0.4573297427907054), (1063, 0.4573297427907054), (1185, 0.4573297427907054), (1412, 0.4573297427907054), (1436, 0.4573297427907054), (1789, 0.4573297427907054), (2066, 0.4573297427907054), (3849, 0.4573297427907054), (792, 0.4461007377968182), (1922, 0.4461007377968182), (3612, 0.4461007377968182), (3924, 0.4461007377968182), (4663, 0.4432182224181429), (5, 0.4413758522419066), (566, 0.4413758522419066), (2279, 0.4413758522419066), (2934, 0.4413758522419066), (2412, 0.43921346724169263), (87, 0.4387748288474665), (147, 0.4387748288474665), (236, 0.4387748288474665), (429, 0.4387748288474665), (622, 0.4387748288474665), (652, 0.4387748288474665), (676, 0.4387748288474665), (701, 0.4387748288474665), (870, 0.4387748288474665), (896, 0.4387748288474665), (937, 0.4387748288474665), (1064, 0.4387748288474665), (1303, 0.4387748288474665), (1325, 0.4387748288474665), (1360, 0.4387748288474665), (1509, 0.4387748288474665), (1671, 0.4387748288474665), (1774, 0.4387748288474665), (1983, 0.4387748288474665), (2112, 0.4387748288474665), (2254, 0.4387748288474665), (2638, 0.4387748288474665), (2695, 0.4387748288474665), (2932, 0.4387748288474665), (2996, 0.4387748288474665), (3670, 0.4387748288474665), (3694, 0.4387748288474665), (4189, 0.4387748288474665), (4403, 0.4387748288474665), (4554, 0.4387748288474665), (4637, 0.4387748288474665), (148, 0.43786488103126425), (334, 0.43786488103126425), (1385, 0.4344108990832536), (2522, 0.4344108990832536), (82, 0.43103465206787206), (115, 0.43103465206787206), (157, 0.43103465206787206), (175, 0.43103465206787206), (246, 0.43103465206787206), (253, 0.43103465206787206), (346, 0.43103465206787206), (377, 0.43103465206787206), (473, 0.43103465206787206), (505, 0.43103465206787206), (507, 0.43103465206787206), (508, 0.43103465206787206), (659, 0.43103465206787206), (691, 0.43103465206787206), (740, 0.43103465206787206), (755, 0.43103465206787206), (759, 0.43103465206787206), (787, 0.43103465206787206), (788, 0.43103465206787206), (884, 0.43103465206787206), (886, 0.43103465206787206), (933, 0.43103465206787206), (941, 0.43103465206787206), (984, 0.43103465206787206), (1006, 0.43103465206787206), (1021, 0.43103465206787206), (1100, 0.43103465206787206), (1112, 0.43103465206787206), (1117, 0.43103465206787206), (1124, 0.43103465206787206), (1169, 0.43103465206787206), (1203, 0.43103465206787206), (1204, 0.43103465206787206), (1243, 0.43103465206787206), (1284, 0.43103465206787206), (1298, 0.43103465206787206), (1304, 0.43103465206787206), (1312, 0.43103465206787206), (1318, 0.43103465206787206), (1359, 0.43103465206787206), (1367, 0.43103465206787206), (1409, 0.43103465206787206), (1411, 0.43103465206787206), (1422, 0.43103465206787206), (1446, 0.43103465206787206), (1465, 0.43103465206787206), (1494, 0.43103465206787206), (1528, 0.43103465206787206), (1571, 0.43103465206787206), (1597, 0.43103465206787206), (1637, 0.43103465206787206), (1642, 0.43103465206787206), (1660, 0.43103465206787206), (1663, 0.43103465206787206), (1688, 0.43103465206787206), (1733, 0.43103465206787206), (1759, 0.43103465206787206), (1765, 0.43103465206787206), (1792, 0.43103465206787206), (1848, 0.43103465206787206), (1877, 0.43103465206787206), (1919, 0.43103465206787206), (1929, 0.43103465206787206), (1947, 0.43103465206787206), (1954, 0.43103465206787206), (1980, 0.43103465206787206), (2060, 0.43103465206787206), (2137, 0.43103465206787206), (2146, 0.43103465206787206), (2148, 0.43103465206787206), (2151, 0.43103465206787206), (2192, 0.43103465206787206), (2209, 0.43103465206787206), (2236, 0.43103465206787206), (2270, 0.43103465206787206), (2292, 0.43103465206787206), (2303, 0.43103465206787206), (2309, 0.43103465206787206), (2340, 0.43103465206787206), (2387, 0.43103465206787206), (2396, 0.43103465206787206), (2403, 0.43103465206787206), (2404, 0.43103465206787206), (2436, 0.43103465206787206), (2440, 0.43103465206787206), (2446, 0.43103465206787206), (2490, 0.43103465206787206), (2495, 0.43103465206787206), (2507, 0.43103465206787206), (2537, 0.43103465206787206), (2561, 0.43103465206787206), (2587, 0.43103465206787206), (2619, 0.43103465206787206), (2653, 0.43103465206787206), (2712, 0.43103465206787206), (2722, 0.43103465206787206), (2728, 0.43103465206787206), (2731, 0.43103465206787206), (2738, 0.43103465206787206), (2786, 0.43103465206787206), (2846, 0.43103465206787206), (2858, 0.43103465206787206), (2882, 0.43103465206787206), (2884, 0.43103465206787206), (2914, 0.43103465206787206), (2954, 0.43103465206787206), (2970, 0.43103465206787206), (2976, 0.43103465206787206), (3003, 0.43103465206787206), (3016, 0.43103465206787206), (3020, 0.43103465206787206), (3026, 0.43103465206787206), (3037, 0.43103465206787206), (3040, 0.43103465206787206), (3042, 0.43103465206787206), (3074, 0.43103465206787206), (3084, 0.43103465206787206), (3113, 0.43103465206787206), (3139, 0.43103465206787206), (3150, 0.43103465206787206), (3224, 0.43103465206787206), (3238, 0.43103465206787206), (3239, 0.43103465206787206), (3249, 0.43103465206787206), (3257, 0.43103465206787206), (3260, 0.43103465206787206), (3283, 0.43103465206787206), (3289, 0.43103465206787206), (3290, 0.43103465206787206), (3329, 0.43103465206787206), (3337, 0.43103465206787206), (3348, 0.43103465206787206), (3351, 0.43103465206787206), (3410, 0.43103465206787206), (3430, 0.43103465206787206), (3537, 0.43103465206787206), (3538, 0.43103465206787206), (3544, 0.43103465206787206), (3565, 0.43103465206787206), (3606, 0.43103465206787206), (3616, 0.43103465206787206), (3621, 0.43103465206787206), (3665, 0.43103465206787206), (3733, 0.43103465206787206), (3739, 0.43103465206787206), (3754, 0.43103465206787206), (3755, 0.43103465206787206), (3765, 0.43103465206787206), (3772, 0.43103465206787206), (3811, 0.43103465206787206), (3832, 0.43103465206787206), (3855, 0.43103465206787206), (3890, 0.43103465206787206), (3922, 0.43103465206787206), (3962, 0.43103465206787206), (3967, 0.43103465206787206), (3973, 0.43103465206787206), (4023, 0.43103465206787206), (4049, 0.43103465206787206), (4052, 0.43103465206787206), (4102, 0.43103465206787206), (4111, 0.43103465206787206), (4132, 0.43103465206787206), (4140, 0.43103465206787206), (4147, 0.43103465206787206), (4174, 0.43103465206787206), (4182, 0.43103465206787206), (4200, 0.43103465206787206), (4206, 0.43103465206787206), (4213, 0.43103465206787206), (4254, 0.43103465206787206), (4257, 0.43103465206787206), (4304, 0.43103465206787206), (4308, 0.43103465206787206), (4356, 0.43103465206787206), (4371, 0.43103465206787206), (4382, 0.43103465206787206), (4395, 0.43103465206787206), (4484, 0.43103465206787206), (4507, 0.43103465206787206), (4530, 0.43103465206787206), (4571, 0.43103465206787206), (4627, 0.43103465206787206), (4633, 0.43103465206787206), (4650, 0.43103465206787206), (4706, 0.43103465206787206), (4734, 0.43103465206787206), (4744, 0.43103465206787206), (3416, 0.42787970152398486), (2886, 0.4266687550620588), (4141, 0.4266687550620588), (81, 0.425432133476214), (833, 0.425432133476214), (654, 0.4192705289858906), (1314, 0.4192705289858906), (1949, 0.4192705289858906), (2780, 0.4192705289858906), (3947, 0.4192705289858906), (1985, 0.4176249428288711), (52, 0.40947121111520185), (3317, 0.40947121111520185), (4261, 0.4074969428522193), (2771, 0.40580812635569224), (1705, 0.4047931475590505), (3586, 0.4047931475590505), (2055, 0.4028155997980935), (542, 0.4013996874396063), (1017, 0.4013996874396063), (1252, 0.4013996874396063), (1665, 0.4013996874396063), (1796, 0.4013996874396063), (2210, 0.4013996874396063), (2910, 0.4013996874396063), (4379, 0.4013996874396063), (4503, 0.4013996874396063), (684, 0.3961737136798332), (1438, 0.3961737136798332), (1184, 0.39428954023709367), (3403, 0.39428954023709367), (2162, 0.39411110287604606), (1970, 0.3933130102049407), (3118, 0.3933130102049407), (1716, 0.3932353729073675), (1387, 0.3886412338839975), (2016, 0.3886412338839975), (333, 0.37901136251422485), (1137, 0.37901136251422485), (1230, 0.37901136251422485), (3045, 0.37901136251422485), (986, 0.3785997651581997), (1471, 0.3785997651581997), (1595, 0.378447613807136), (915, 0.376832951608443), (3099, 0.376832951608443), (1971, 0.3663596930874591), (3637, 0.3658385230335634), (1010, 0.3636387599226757), (1545, 0.3636387599226757), (1564, 0.3636387599226757), (1599, 0.3636387599226757), (1709, 0.3636387599226757), (1734, 0.3636387599226757), (1751, 0.3636387599226757), (1818, 0.3636387599226757), (1870, 0.3636387599226757), (2025, 0.3636387599226757), (2052, 0.3636387599226757), (2113, 0.3636387599226757), (2124, 0.3636387599226757), (2227, 0.3636387599226757), (2241, 0.3636387599226757), (2274, 0.3636387599226757), (2315, 0.3636387599226757), (2657, 0.3636387599226757), (2659, 0.3636387599226757), (2667, 0.3636387599226757), (2676, 0.3636387599226757), (2922, 0.3636387599226757), (2990, 0.3636387599226757), (3115, 0.3636387599226757), (3169, 0.3636387599226757), (3253, 0.3636387599226757), (3343, 0.3636387599226757), (3383, 0.3636387599226757), (3591, 0.3636387599226757), (4001, 0.3636387599226757), (4131, 0.3636387599226757), (4186, 0.3636387599226757), (4353, 0.3636387599226757), (4600, 0.3636387599226757), (4631, 0.3636387599226757), (4647, 0.3636387599226757), (4690, 0.3636387599226757), (2316, 0.3556495156283069), (988, 0.34868255055754865), (918, 0.34679587544965074), (1160, 0.34197131862015034), (49, 0.3418309935974081), (110, 0.3418309935974081), (146, 0.3418309935974081), (225, 0.3418309935974081), (312, 0.3418309935974081), (520, 0.3418309935974081), (529, 0.3418309935974081), (531, 0.3418309935974081), (582, 0.3418309935974081), (583, 0.3418309935974081), (649, 0.3418309935974081), (665, 0.3418309935974081), (671, 0.3418309935974081), (709, 0.3418309935974081), (741, 0.3418309935974081), (754, 0.3418309935974081), (758, 0.3418309935974081), (764, 0.3418309935974081), (768, 0.3418309935974081), (785, 0.3418309935974081), (820, 0.3418309935974081), (846, 0.3418309935974081), (873, 0.3418309935974081), (938, 0.3418309935974081), (971, 0.3418309935974081), (982, 0.3418309935974081), (983, 0.3418309935974081), (1038, 0.3418309935974081), (1073, 0.3418309935974081), (1094, 0.3418309935974081), (1157, 0.3418309935974081), (1200, 0.3418309935974081), (1201, 0.3418309935974081), (1329, 0.3418309935974081), (1345, 0.3418309935974081), (1362, 0.3418309935974081), (1363, 0.3418309935974081), (1441, 0.3418309935974081), (1445, 0.3418309935974081), (1453, 0.3418309935974081), (1457, 0.3418309935974081), (1485, 0.3418309935974081), (1501, 0.3418309935974081), (1549, 0.3418309935974081), (1589, 0.3418309935974081), (1618, 0.3418309935974081), (1639, 0.3418309935974081), (1718, 0.3418309935974081), (1746, 0.3418309935974081), (1778, 0.3418309935974081), (1787, 0.3418309935974081), (1803, 0.3418309935974081), (1867, 0.3418309935974081), (1880, 0.3418309935974081), (1935, 0.3418309935974081), (1956, 0.3418309935974081), (1963, 0.3418309935974081), (1974, 0.3418309935974081), (2001, 0.3418309935974081), (2003, 0.3418309935974081), (2007, 0.3418309935974081), (2009, 0.3418309935974081), (2032, 0.3418309935974081), (2036, 0.3418309935974081), (2106, 0.3418309935974081), (2156, 0.3418309935974081), (2160, 0.3418309935974081), (2161, 0.3418309935974081), (2167, 0.3418309935974081), (2168, 0.3418309935974081), (2186, 0.3418309935974081), (2234, 0.3418309935974081), (2258, 0.3418309935974081), (2333, 0.3418309935974081), (2368, 0.3418309935974081), (2409, 0.3418309935974081), (2420, 0.3418309935974081), (2431, 0.3418309935974081), (2511, 0.3418309935974081), (2543, 0.3418309935974081), (2566, 0.3418309935974081), (2588, 0.3418309935974081), (2594, 0.3418309935974081), (2662, 0.3418309935974081), (2663, 0.3418309935974081), (2671, 0.3418309935974081), (2677, 0.3418309935974081), (2681, 0.3418309935974081), (2693, 0.3418309935974081), (2699, 0.3418309935974081), (2701, 0.3418309935974081), (2730, 0.3418309935974081), (2732, 0.3418309935974081), (2737, 0.3418309935974081), (2794, 0.3418309935974081), (2805, 0.3418309935974081), (2816, 0.3418309935974081), (2817, 0.3418309935974081), (2836, 0.3418309935974081), (2855, 0.3418309935974081), (2866, 0.3418309935974081), (2877, 0.3418309935974081), (2891, 0.3418309935974081), (2928, 0.3418309935974081), (2973, 0.3418309935974081), (2983, 0.3418309935974081), (3009, 0.3418309935974081), (3017, 0.3418309935974081), (3039, 0.3418309935974081), (3061, 0.3418309935974081), (3077, 0.3418309935974081), (3083, 0.3418309935974081), (3098, 0.3418309935974081), (3109, 0.3418309935974081), (3175, 0.3418309935974081), (3177, 0.3418309935974081), (3188, 0.3418309935974081), (3217, 0.3418309935974081), (3229, 0.3418309935974081), (3288, 0.3418309935974081), (3295, 0.3418309935974081), (3371, 0.3418309935974081), (3375, 0.3418309935974081), (3400, 0.3418309935974081), (3489, 0.3418309935974081), (3490, 0.3418309935974081), (3529, 0.3418309935974081), (3549, 0.3418309935974081), (3589, 0.3418309935974081), (3644, 0.3418309935974081), (3648, 0.3418309935974081), (3681, 0.3418309935974081), (3686, 0.3418309935974081), (3716, 0.3418309935974081), (3748, 0.3418309935974081), (3800, 0.3418309935974081), (3808, 0.3418309935974081), (3851, 0.3418309935974081), (3856, 0.3418309935974081), (3879, 0.3418309935974081), (3933, 0.3418309935974081), (3936, 0.3418309935974081), (3950, 0.3418309935974081), (3964, 0.3418309935974081), (4018, 0.3418309935974081), (4061, 0.3418309935974081), (4064, 0.3418309935974081), (4073, 0.3418309935974081), (4084, 0.3418309935974081), (4223, 0.3418309935974081), (4252, 0.3418309935974081), (4315, 0.3418309935974081), (4319, 0.3418309935974081), (4327, 0.3418309935974081), (4408, 0.3418309935974081), (4437, 0.3418309935974081), (4460, 0.3418309935974081), (4463, 0.3418309935974081), (4498, 0.3418309935974081), (4628, 0.3418309935974081), (4688, 0.3418309935974081), (4702, 0.3418309935974081), (4738, 0.3418309935974081), (4502, 0.3390506889185963), (2178, 0.3380743264242549), (2065, 0.33702506947924066), (3553, 0.333910942890219), (85, 0.3329782305685253), (2777, 0.33255889117664633), (3645, 0.33255889117664633), (1536, 0.3324428097198356), (1238, 0.3321145292589752), (1242, 0.3321145292589752), (1288, 0.3321145292589752), (1401, 0.3321145292589752), (1490, 0.3321145292589752), (1912, 0.3321145292589752), (2218, 0.3321145292589752), (2575, 0.3321145292589752), (4300, 0.3321145292589752), (2318, 0.3269357555712567), (4581, 0.32599399384361766), (282, 0.3249723364804153), (923, 0.32405074767580655), (1488, 0.32405074767580655), (1902, 0.32405074767580655), (2348, 0.32405074767580655), (3349, 0.32405074767580655), (3571, 0.32405074767580655), (4522, 0.32405074767580655), (672, 0.3187048363740058), (1516, 0.3187048363740058), (2166, 0.3187048363740058), (2720, 0.3187048363740058), (3297, 0.3187048363740058), (3373, 0.3187048363740058), (3374, 0.31652539044362626), (1050, 0.3154016816111682), (3, 0.30371641808634475), (103, 0.30371641808634475), (114, 0.30371641808634475), (129, 0.30371641808634475), (156, 0.30371641808634475), (161, 0.30371641808634475), (169, 0.30371641808634475), (174, 0.30371641808634475), (195, 0.30371641808634475), (202, 0.30371641808634475), (211, 0.30371641808634475), (212, 0.30371641808634475), (278, 0.30371641808634475), (279, 0.30371641808634475), (318, 0.30371641808634475), (325, 0.30371641808634475), (431, 0.30371641808634475), (471, 0.30371641808634475), (504, 0.30371641808634475), (510, 0.30371641808634475), (579, 0.30371641808634475), (589, 0.30371641808634475), (605, 0.30371641808634475), (609, 0.30371641808634475), (697, 0.30371641808634475), (735, 0.30371641808634475), (737, 0.30371641808634475), (847, 0.30371641808634475), (867, 0.30371641808634475), (883, 0.30371641808634475), (885, 0.30371641808634475), (890, 0.30371641808634475), (907, 0.30371641808634475), (973, 0.30371641808634475), (985, 0.30371641808634475), (998, 0.30371641808634475), (999, 0.30371641808634475), (1002, 0.30371641808634475), (1040, 0.30371641808634475), (1049, 0.30371641808634475), (1084, 0.30371641808634475), (1109, 0.30371641808634475), (1170, 0.30371641808634475), (1187, 0.30371641808634475), (1208, 0.30371641808634475), (1216, 0.30371641808634475), (1217, 0.30371641808634475), (1286, 0.30371641808634475), (1313, 0.30371641808634475), (1364, 0.30371641808634475), (1372, 0.30371641808634475), (1382, 0.30371641808634475), (1403, 0.30371641808634475), (1410, 0.30371641808634475), (1427, 0.30371641808634475), (1476, 0.30371641808634475), (1479, 0.30371641808634475), (1518, 0.30371641808634475), (1543, 0.30371641808634475), (1594, 0.30371641808634475), (1693, 0.30371641808634475), (1719, 0.30371641808634475), (1722, 0.30371641808634475), (1827, 0.30371641808634475), (1851, 0.30371641808634475), (1871, 0.30371641808634475), (1893, 0.30371641808634475), (1905, 0.30371641808634475), (1951, 0.30371641808634475), (2068, 0.30371641808634475), (2108, 0.30371641808634475), (2111, 0.30371641808634475), (2116, 0.30371641808634475), (2122, 0.30371641808634475), (2131, 0.30371641808634475), (2187, 0.30371641808634475), (2193, 0.30371641808634475), (2201, 0.30371641808634475), (2302, 0.30371641808634475), (2320, 0.30371641808634475), (2375, 0.30371641808634475), (2385, 0.30371641808634475), (2391, 0.30371641808634475), (2397, 0.30371641808634475), (2402, 0.30371641808634475), (2410, 0.30371641808634475), (2422, 0.30371641808634475), (2434, 0.30371641808634475), (2441, 0.30371641808634475), (2467, 0.30371641808634475), (2488, 0.30371641808634475), (2492, 0.30371641808634475), (2494, 0.30371641808634475), (2509, 0.30371641808634475), (2529, 0.30371641808634475), (2535, 0.30371641808634475), (2553, 0.30371641808634475), (2570, 0.30371641808634475), (2610, 0.30371641808634475), (2633, 0.30371641808634475), (2661, 0.30371641808634475), (2678, 0.30371641808634475), (2687, 0.30371641808634475), (2696, 0.30371641808634475), (2702, 0.30371641808634475), (2744, 0.30371641808634475), (2746, 0.30371641808634475), (2747, 0.30371641808634475), (2748, 0.30371641808634475), (2764, 0.30371641808634475), (2769, 0.30371641808634475), (2776, 0.30371641808634475), (2797, 0.30371641808634475), (2832, 0.30371641808634475), (2834, 0.30371641808634475), (2838, 0.30371641808634475), (2857, 0.30371641808634475), (2872, 0.30371641808634475), (2876, 0.30371641808634475), (2893, 0.30371641808634475), (2924, 0.30371641808634475), (2933, 0.30371641808634475), (2945, 0.30371641808634475), (2999, 0.30371641808634475), (3050, 0.30371641808634475), (3071, 0.30371641808634475), (3137, 0.30371641808634475), (3147, 0.30371641808634475), (3166, 0.30371641808634475), (3178, 0.30371641808634475), (3182, 0.30371641808634475), (3183, 0.30371641808634475), (3194, 0.30371641808634475), (3214, 0.30371641808634475), (3218, 0.30371641808634475), (3220, 0.30371641808634475), (3246, 0.30371641808634475), (3258, 0.30371641808634475), (3271, 0.30371641808634475), (3282, 0.30371641808634475), (3308, 0.30371641808634475), (3315, 0.30371641808634475), (3352, 0.30371641808634475), (3364, 0.30371641808634475), (3388, 0.30371641808634475), (3413, 0.30371641808634475), (3421, 0.30371641808634475), (3447, 0.30371641808634475), (3449, 0.30371641808634475), (3477, 0.30371641808634475), (3479, 0.30371641808634475), (3493, 0.30371641808634475), (3496, 0.30371641808634475), (3500, 0.30371641808634475), (3526, 0.30371641808634475), (3541, 0.30371641808634475), (3552, 0.30371641808634475), (3599, 0.30371641808634475), (3601, 0.30371641808634475), (3626, 0.30371641808634475), (3646, 0.30371641808634475), (3678, 0.30371641808634475), (3767, 0.30371641808634475), (3792, 0.30371641808634475), (3839, 0.30371641808634475), (3866, 0.30371641808634475), (3868, 0.30371641808634475), (3875, 0.30371641808634475), (3882, 0.30371641808634475), (3952, 0.30371641808634475), (4025, 0.30371641808634475), (4051, 0.30371641808634475), (4104, 0.30371641808634475), (4117, 0.30371641808634475), (4156, 0.30371641808634475), (4222, 0.30371641808634475), (4295, 0.30371641808634475), (4311, 0.30371641808634475), (4321, 0.30371641808634475), (4422, 0.30371641808634475), (4652, 0.30371641808634475), (4719, 0.30371641808634475), (331, 0.3017605556605137), (506, 0.3017605556605137), (630, 0.3017605556605137), (964, 0.3017605556605137), (1532, 0.3017605556605137), (1824, 0.3017605556605137), (1899, 0.3017605556605137), (2056, 0.3017605556605137), (2059, 0.3017605556605137), (2194, 0.3017605556605137), (2373, 0.3017605556605137), (2564, 0.3017605556605137), (2608, 0.3017605556605137), (2685, 0.3017605556605137), (2690, 0.3017605556605137), (2829, 0.3017605556605137), (3244, 0.3017605556605137), (3250, 0.3017605556605137), (3320, 0.3017605556605137), (3411, 0.3017605556605137), (3580, 0.3017605556605137), (3971, 0.3017605556605137), (4040, 0.3017605556605137), (4108, 0.3017605556605137), (4109, 0.3017605556605137), (4180, 0.3017605556605137), (4226, 0.3017605556605137), (4239, 0.3017605556605137), (4404, 0.3017605556605137), (4434, 0.3017605556605137), (4720, 0.3017605556605137), (344, 0.3008471204054971), (383, 0.3008471204054971), (459, 0.3008471204054971), (1222, 0.3008471204054971), (1235, 0.3008471204054971), (1268, 0.3008471204054971), (1487, 0.3008471204054971), (1520, 0.3008471204054971), (1557, 0.3008471204054971), (1676, 0.3008471204054971), (1695, 0.3008471204054971), (1766, 0.3008471204054971), (1839, 0.3008471204054971), (1842, 0.3008471204054971), (1850, 0.3008471204054971), (2046, 0.3008471204054971), (2261, 0.3008471204054971), (2262, 0.3008471204054971), (2281, 0.3008471204054971), (2290, 0.3008471204054971), (2327, 0.3008471204054971), (2351, 0.3008471204054971), (2435, 0.3008471204054971), (2449, 0.3008471204054971), (2604, 0.3008471204054971), (2637, 0.3008471204054971), (2656, 0.3008471204054971), (2799, 0.3008471204054971), (2814, 0.3008471204054971), (2873, 0.3008471204054971), (3033, 0.3008471204054971), (3066, 0.3008471204054971), (3204, 0.3008471204054971), (3212, 0.3008471204054971), (3236, 0.3008471204054971), (3581, 0.3008471204054971), (3610, 0.3008471204054971), (3796, 0.3008471204054971), (3858, 0.3008471204054971), (4031, 0.3008471204054971), (4190, 0.3008471204054971), (4314, 0.3008471204054971), (4675, 0.3008471204054971), (4711, 0.3008471204054971), (182, 0.29684000419184997), (594, 0.29684000419184997), (2569, 0.29684000419184997), (687, 0.2923150984427964), (690, 0.2923150984427964), (996, 0.2923150984427964), (1941, 0.2923150984427964), (2012, 0.2923150984427964), (2468, 0.2923150984427964), (2626, 0.2923150984427964), (2787, 0.2923150984427964), (2820, 0.2923150984427964), (3443, 0.2923150984427964), (3715, 0.2923150984427964), (141, 0.28786615125602555), (822, 0.28786615125602555), (1278, 0.28786615125602555), (1652, 0.28786615125602555), (2297, 0.28786615125602555), (3102, 0.28786615125602555), (3162, 0.28786615125602555), (3632, 0.28786615125602555), (3732, 0.28786615125602555), (4514, 0.2806210944346188), (3424, 0.2771278698636682), (3603, 0.2771278698636682), (4012, 0.2771278698636682), (214, 0.27664267249487123), (780, 0.27664267249487123), (925, 0.27456993478680874), (1907, 0.27456993478680874), (351, 0.273881300764756), (824, 0.273881300764756), (1088, 0.273881300764756), (1251, 0.273881300764756), (2099, 0.273881300764756), (2199, 0.273881300764756), (2223, 0.273881300764756), (2379, 0.273881300764756), (2423, 0.273881300764756), (2591, 0.273881300764756), (2592, 0.273881300764756), (2721, 0.273881300764756), (2741, 0.273881300764756), (2782, 0.273881300764756), (2972, 0.273881300764756), (3187, 0.273881300764756), (3234, 0.273881300764756), (3673, 0.273881300764756), (3763, 0.273881300764756), (3822, 0.273881300764756), (3892, 0.273881300764756), (4259, 0.273881300764756), (4756, 0.273881300764756), (59, 0.2718742697370808), (956, 0.2718742697370808), (965, 0.2718742697370808), (1244, 0.2718742697370808), (1293, 0.2718742697370808), (1321, 0.2718742697370808), (1326, 0.2718742697370808), (1379, 0.2718742697370808), (1437, 0.2718742697370808), (1577, 0.2718742697370808), (1611, 0.2718742697370808), (1895, 0.2718742697370808), (2014, 0.2718742697370808), (2164, 0.2718742697370808), (2185, 0.2718742697370808), (2296, 0.2718742697370808), (2298, 0.2718742697370808), (2774, 0.2718742697370808), (3172, 0.2718742697370808), (3630, 0.2718742697370808), (4272, 0.2718742697370808), (4564, 0.2718742697370808), (350, 0.26739721190093774), (3514, 0.26739721190093774), (204, 0.2639790875582987), (957, 0.2639790875582987), (1392, 0.2639790875582987), (2411, 0.2639790875582987), (1126, 0.26239005965208617), (1883, 0.26239005965208617), (2249, 0.26239005965208617), (2472, 0.26239005965208617), (3598, 0.26239005965208617), (1489, 0.2583585971236706), (898, 0.2571514474953518), (970, 0.2571514474953518), (1211, 0.2571514474953518), (1914, 0.2571514474953518), (3844, 0.2571514474953518), (4426, 0.2571514474953518), (4537, 0.2571514474953518), (4746, 0.2571514474953518), (2399, 0.2556247958043733), (3357, 0.25524385558069906), (4420, 0.25524385558069906), (4489, 0.25524385558069906), (797, 0.25519671925973303), (1473, 0.25519671925973303), (2200, 0.25519671925973303), (4562, 0.25519671925973303), (1560, 0.2544553899396719), (2493, 0.2544553899396719), (2979, 0.2544553899396719), (2810, 0.2539069930326738), (3221, 0.2539069930326738), (3554, 0.2539069930326738), (4447, 0.2539069930326738), (4071, 0.2483895313007709), (2101, 0.24662959141932667), (3758, 0.24662959141932667), (3859, 0.24662959141932667), (1482, 0.24613015459227874), (1523, 0.24613015459227874), (2331, 0.24613015459227874), (2582, 0.24613015459227874), (3078, 0.24613015459227874), (3189, 0.24613015459227874), (3753, 0.24613015459227874), (4483, 0.24613015459227874), (4599, 0.24613015459227874), (2033, 0.2459572248081038), (3310, 0.2459572248081038), (1408, 0.243921352419841), (2755, 0.243921352419841), (319, 0.24297843223922808), (521, 0.24297843223922808), (972, 0.24297843223922808), (1156, 0.24297843223922808), (1447, 0.24297843223922808), (1491, 0.24297843223922808), (1596, 0.24297843223922808), (2145, 0.24297843223922808), (2157, 0.24297843223922808), (2222, 0.24297843223922808), (2225, 0.24297843223922808), (2395, 0.24297843223922808), (2514, 0.24297843223922808), (2586, 0.24297843223922808), (2665, 0.24297843223922808), (3265, 0.24297843223922808), (3319, 0.24297843223922808), (3649, 0.24297843223922808), (4026, 0.24297843223922808), (4433, 0.24297843223922808), (3439, 0.24290470088474228), (4454, 0.24290470088474228), (1889, 0.24242750982947425), (1961, 0.24242750982947425), (2050, 0.24242750982947425), (2364, 0.24242750982947425), (2615, 0.24242750982947425), (2763, 0.24242750982947425), (1302, 0.24139196773593047), (1881, 0.24139196773593047), (2992, 0.24139196773593047), (3168, 0.24139196773593047), (1900, 0.2410711034345278), (4721, 0.2410711034345278), (538, 0.23886835105521936), (736, 0.23886835105521936), (1190, 0.23886835105521936), (1405, 0.23886835105521936), (1569, 0.23886835105521936), (2170, 0.23886835105521936), (2807, 0.23886835105521936), (3592, 0.23886835105521936), (3512, 0.23811037087040743), (3517, 0.23811037087040743), (793, 0.23789607564317364), (1099, 0.23789607564317364), (1309, 0.23789607564317364), (1587, 0.23789607564317364), (1788, 0.23789607564317364), (1939, 0.23789607564317364), (2208, 0.23789607564317364), (336, 0.23547943551826447), (586, 0.23547943551826447), (1965, 0.23547943551826447), (238, 0.23255243683839796), (1638, 0.23159343406764554), (2043, 0.23159343406764554), (22, 0.23138932480458474), (427, 0.23138932480458474), (702, 0.23138932480458474), (778, 0.23138932480458474), (2090, 0.23138932480458474), (3063, 0.23138932480458474), (4622, 0.23138932480458474), (1634, 0.23110623274254466), (215, 0.23097686636700035), (707, 0.23097686636700035), (969, 0.23097686636700035), (2478, 0.23097686636700035), (3393, 0.23097686636700035), (4113, 0.23097686636700035), (4636, 0.23097686636700035), (1394, 0.23069513910540596), (1690, 0.23069513910540596), (1744, 0.23069513910540596), (1878, 0.23069513910540596), (2367, 0.23069513910540596), (2461, 0.23069513910540596), (2531, 0.23069513910540596), (946, 0.22949185443790376), (2353, 0.22949185443790376), (1388, 0.22921609014822467), (25, 0.22809390553148015), (1340, 0.22809390553148015), (2087, 0.22809390553148015), (2143, 0.22809390553148015), (2601, 0.22809390553148015), (2912, 0.22809390553148015), (3146, 0.22809390553148015), (3402, 0.22809390553148015), (4394, 0.22809390553148015), (4446, 0.22809390553148015), (4473, 0.22809390553148015), (4603, 0.22809390553148015), (4717, 0.22809390553148015), (1079, 0.22763796978908543), (1598, 0.22763796978908543), (3108, 0.22651385969183438), (1153, 0.22596225422478344), (60, 0.2246836102211848), (456, 0.2246836102211848), (940, 0.2246836102211848), (1261, 0.2246836102211848), (1533, 0.2246836102211848), (1616, 0.2246836102211848), (2211, 0.2246836102211848), (3577, 0.2246836102211848), (338, 0.2238882792320672), (339, 0.2238882792320672), (414, 0.2238882792320672), (415, 0.2238882792320672), (770, 0.2238882792320672), (2497, 0.2238882792320672), (4542, 0.2238882792320672), (188, 0.22351445188110844), (404, 0.22351445188110844), (752, 0.22351445188110844), (781, 0.22351445188110844), (807, 0.22351445188110844), (836, 0.22351445188110844), (1142, 0.22351445188110844), (1155, 0.22351445188110844), (1196, 0.22351445188110844), (1525, 0.22351445188110844), (1684, 0.22351445188110844), (1726, 0.22351445188110844), (1771, 0.22351445188110844), (1913, 0.22351445188110844), (2322, 0.22351445188110844), (2371, 0.22351445188110844), (2456, 0.22351445188110844), (4036, 0.22185638302256253), (1193, 0.2217650105777882), (2140, 0.2217650105777882), (2179, 0.2217650105777882), (2597, 0.2217650105777882), (3585, 0.2217650105777882), (3764, 0.2217650105777882), (4217, 0.2217650105777882), (3584, 0.2204285171503221), (1732, 0.21994808608345834), (357, 0.21859754281563193), (416, 0.21859754281563193), (1656, 0.21859754281563193), (1658, 0.21859754281563193), (4448, 0.21859754281563193), (4054, 0.2184258775503198), (3828, 0.21725514928621062), (2642, 0.21682765225979603), (4519, 0.21656621801311796), (2754, 0.21616452397743352), (153, 0.21577633031653012), (1552, 0.21577633031653012), (1898, 0.21577633031653012), (2381, 0.21577633031653012), (2646, 0.21577633031653012), (1537, 0.21351756913428788), (1370, 0.21176515903968685), (1683, 0.21176515903968685), (1943, 0.21176515903968685), (2758, 0.21176515903968685), (3728, 0.21176515903968685), (398, 0.2113048283129337), (784, 0.2113048283129337), (786, 0.2113048283129337), (1424, 0.2113048283129337), (1888, 0.2113048283129337), (2107, 0.2113048283129337), (2308, 0.2113048283129337), (4027, 0.2113048283129337), (4198, 0.2113048283129337), (4580, 0.2113048283129337), (1731, 0.21094218855061383), (2006, 0.21094218855061383), (990, 0.21083329875665308), (4609, 0.21083329875665308), (1277, 0.2102755679825115), (1868, 0.20992787841573496), (3842, 0.20992787841573496), (4234, 0.20992787841573496), (4700, 0.20992787841573496), (4555, 0.20807964132843526), (1486, 0.2078825492324872), (1592, 0.2078825492324872), (2021, 0.2078825492324872), (2058, 0.2078825492324872), (2217, 0.2078825492324872), (3270, 0.2078825492324872), (3323, 0.2078825492324872), (3595, 0.2078825492324872), (3998, 0.2078825492324872), (4453, 0.2078825492324872), (4725, 0.2078825492324872), (3044, 0.20758330332095046), (14, 0.20714996898280347), (245, 0.20714996898280347), (391, 0.20714996898280347), (392, 0.20714996898280347), (1008, 0.20714996898280347), (1025, 0.20714996898280347), (1166, 0.20714996898280347), (1291, 0.20714996898280347), (1336, 0.20714996898280347), (1496, 0.20714996898280347), (1524, 0.20714996898280347), (1602, 0.20714996898280347), (1769, 0.20714996898280347), (1837, 0.20714996898280347), (2041, 0.20714996898280347), (2516, 0.20714996898280347), (2781, 0.20714996898280347), (3256, 0.20714996898280347), (3481, 0.20714996898280347), (3485, 0.20714996898280347), (3562, 0.20714996898280347), (3633, 0.20714996898280347), (3671, 0.20714996898280347), (3943, 0.20714996898280347), (4010, 0.20714996898280347), (4173, 0.20714996898280347), (4207, 0.20714996898280347), (1397, 0.2058280007050863), (2554, 0.20514952210006146), (4552, 0.203741006680867), (1984, 0.20354939580586467), (1199, 0.20326845019856982), (545, 0.20144017329217245), (1022, 0.20144017329217245), (2605, 0.20144017329217245), (2804, 0.20144017329217245), (3231, 0.20144017329217245), (113, 0.20129523658970047), (197, 0.20129523658970047), (2240, 0.20129523658970047), (2986, 0.20129523658970047), (3304, 0.20129523658970047), (3575, 0.20129523658970047), (3845, 0.20129523658970047), (4263, 0.20129523658970047), (4287, 0.20129523658970047), (2940, 0.2008874663374586), (2081, 0.2008196231411092), (2499, 0.2008196231411092), (1794, 0.20072271870001104), (3545, 0.20045320553729656), (3650, 0.20045320553729656), (859, 0.1981267040902694), (1610, 0.1981267040902694), (1804, 0.1981267040902694), (2335, 0.1981267040902694), (3503, 0.19769353647095894), (4066, 0.19769353647095894), (4135, 0.19769353647095894), (1007, 0.19695638667396234), (4237, 0.1964716255660497), (4324, 0.1964716255660497), (1926, 0.19643263882072176), (53, 0.19618001847968786), (401, 0.19618001847968786), (720, 0.19618001847968786), (1373, 0.19618001847968786), (1615, 0.19618001847968786), (1697, 0.19618001847968786), (2590, 0.19618001847968786), (4218, 0.19618001847968786), (1677, 0.1945566398951824), (3889, 0.1945566398951824), (3919, 0.1945566398951824), (776, 0.19403957075565798), (1205, 0.19403957075565798), (2644, 0.19403957075565798), (3688, 0.19403957075565798), (413, 0.19379605976894662), (1361, 0.19379605976894662), (1783, 0.19379605976894662), (2756, 0.19379605976894662), (2770, 0.19379605976894662), (3080, 0.19379605976894662), (849, 0.19375533254577662), (1833, 0.1932594410232738), (903, 0.19271233439482083), (2811, 0.19190329545043566), (2260, 0.19184763831099436), (2812, 0.19184763831099436), (1791, 0.1914576546540216), (4285, 0.1914576546540216), (28, 0.19019117130125418), (751, 0.19019117130125418), (1249, 0.19019117130125418), (1750, 0.19019117130125418), (1836, 0.19019117130125418), (2018, 0.19019117130125418), (3559, 0.19019117130125418), (703, 0.18980511496746655), (1539, 0.18980511496746655), (1714, 0.18977433139295494), (4037, 0.18977433139295494), (926, 0.18936720446742203), (1855, 0.1889788107277298), (1308, 0.18809149088003307), (3303, 0.18627459829213805), (1477, 0.1859873289341885), (3389, 0.1859873289341885), (263, 0.18535507372952473), (264, 0.18535507372952473), (1323, 0.1850790410400902), (185, 0.18483521554033774), (219, 0.18483521554033774), (409, 0.18483521554033774), (421, 0.18483521554033774), (461, 0.18483521554033774), (920, 0.18483521554033774), (1085, 0.18483521554033774), (1165, 0.18483521554033774), (1327, 0.18483521554033774), (1333, 0.18483521554033774), (1521, 0.18483521554033774), (1640, 0.18483521554033774), (1700, 0.18483521554033774), (1844, 0.18483521554033774), (1999, 0.18483521554033774), (2183, 0.18483521554033774), (2329, 0.18483521554033774), (2504, 0.18483521554033774), (3287, 0.18483521554033774), (3395, 0.18483521554033774), (3397, 0.18483521554033774), (3444, 0.18483521554033774), (3574, 0.18483521554033774), (3735, 0.18483521554033774), (3803, 0.18483521554033774), (3865, 0.18483521554033774), (4086, 0.18483521554033774), (4195, 0.18483521554033774), (4303, 0.18483521554033774), (4341, 0.18483521554033774), (4347, 0.18483521554033774), (4457, 0.18483521554033774), (4492, 0.18483521554033774), (4570, 0.18483521554033774), (1822, 0.1843123362843649), (3311, 0.1843123362843649), (2709, 0.1834713323740165), (4323, 0.1816997593086933), (773, 0.18153173785689253), (498, 0.18123249825377305), (528, 0.18123249825377305), (1310, 0.18123249825377305), (1368, 0.18123249825377305), (2389, 0.18123249825377305), (2616, 0.18123249825377305), (2672, 0.18123249825377305), (3886, 0.18048049308051892), (2439, 0.17954093550670963), (872, 0.1784879850676341), (726, 0.17833976282103628), (1955, 0.17833976282103628), (2394, 0.1768040902464506), (2796, 0.1768040902464506), (2926, 0.1768040902464506), (2982, 0.1767272007496515), (405, 0.1765431671236652), (1212, 0.17647931868170114), (3386, 0.1762283947999137), (662, 0.1760304455807163), (1246, 0.1760304455807163), (1578, 0.1760304455807163), (3790, 0.1760304455807163), (3812, 0.1760304455807163), (4191, 0.1760304455807163), (45, 0.17516171375210363), (73, 0.17516171375210363), (91, 0.17516171375210363), (1013, 0.17516171375210363), (1911, 0.17516171375210363), (2049, 0.17506639639795551), (2603, 0.17506639639795551), (3513, 0.17476990857209102), (1256, 0.173804971785878), (1903, 0.173804971785878), (2086, 0.173804971785878), (2500, 0.173804971785878), (945, 0.1737603782899507), (1113, 0.1737603782899507), (2426, 0.1737603782899507), (2242, 0.17239531229867744), (2150, 0.17217521951085088), (2153, 0.17217521951085088), (2433, 0.17217521951085088), (2584, 0.17217521951085088), (3628, 0.17217521951085088), (4112, 0.17217521951085088), (4199, 0.17217521951085088), (4210, 0.17217521951085088), (1420, 0.17135429654829448), (1784, 0.17118652720982114), (951, 0.17110826049674532), (3676, 0.17107121744000914), (134, 0.17106633086044268), (712, 0.17011662363129715), (1614, 0.1697254097131977), (4351, 0.16968910124263778), (2822, 0.16963240198809698), (3870, 0.16963240198809698), (1469, 0.1686390058456527), (3034, 0.16863194464717912), (3408, 0.16810548696327038), (1613, 0.16761412943635906), (3089, 0.16761412943635906), (3641, 0.16691148826853475), (497, 0.16427569571320033), (2125, 0.16427569571320033), (3923, 0.16427569571320033), (2856, 0.16408344184221696), (3198, 0.1634114731440332), (3579, 0.1634114731440332), (2265, 0.16248477924341553), (1341, 0.1620626897784215), (1468, 0.1620626897784215), (1982, 0.1620626897784215), (2843, 0.1620626897784215), (3965, 0.1620626897784215), (361, 0.16171487279720403), (362, 0.16171487279720403), (363, 0.16171487279720403), (365, 0.16171487279720403), (1495, 0.16171487279720403), (1601, 0.16171487279720403), (2019, 0.16171487279720403), (2688, 0.16171487279720403), (3286, 0.16171487279720403), (3461, 0.16171487279720403), (3805, 0.16171487279720403), (4099, 0.16171487279720403), (1505, 0.16037173618136102), (2666, 0.16037173618136102), (821, 0.158864786755781), (2357, 0.15733323352436884), (3332, 0.15619440179633262), (2479, 0.15548896996428307), (546, 0.15511670560555457), (2729, 0.15511670560555457), (3141, 0.15511670560555457), (3062, 0.1535386818165505), (2706, 0.15201273513944044), (3181, 0.15189154407384128), (2450, 0.14932333824687508), (2539, 0.14932333824687508), (3685, 0.14932333824687508), (2715, 0.14765545004467764), (961, 0.14726542663181746), (2813, 0.14726542663181746), (3539, 0.14726542663181746), (2880, 0.14672444766942425), (912, 0.14456434655490227), (4346, 0.14456434655490227), (1108, 0.14329904911866387), (1198, 0.14305842647271932), (3366, 0.14305842647271932), (4166, 0.10598370839708204), (4357, 0.10465051894274485), (2207, 0.09816530532400417), (1830, 0.09638638047037948), (1, 0.0), (2, 0.0), (4, 0.0), (6, 0.0), (7, 0.0), (8, 0.0), (9, 0.0), (11, 0.0), (12, 0.0), (13, 0.0), (15, 0.0), (16, 0.0), (17, 0.0), (19, 0.0), (20, 0.0), (23, 0.0), (24, 0.0), (26, 0.0), (27, 0.0), (29, 0.0), (30, 0.0), (31, 0.0), (32, 0.0), (33, 0.0), (34, 0.0), (35, 0.0), (36, 0.0), (37, 0.0), (39, 0.0), (41, 0.0), (44, 0.0), (46, 0.0), (54, 0.0), (55, 0.0), (56, 0.0), (57, 0.0), (58, 0.0), (61, 0.0), (62, 0.0), (63, 0.0), (64, 0.0), (65, 0.0), (66, 0.0), (67, 0.0), (69, 0.0), (71, 0.0), (74, 0.0), (75, 0.0), (76, 0.0), (77, 0.0), (78, 0.0), (79, 0.0), (80, 0.0), (84, 0.0), (90, 0.0), (92, 0.0), (93, 0.0), (94, 0.0), (95, 0.0), (97, 0.0), (98, 0.0), (100, 0.0), (101, 0.0), (102, 0.0), (104, 0.0), (107, 0.0), (116, 0.0), (117, 0.0), (118, 0.0), (119, 0.0), (121, 0.0), (122, 0.0), (125, 0.0), (127, 0.0), (128, 0.0), (130, 0.0), (131, 0.0), (132, 0.0), (133, 0.0), (135, 0.0), (136, 0.0), (140, 0.0), (150, 0.0), (151, 0.0), (152, 0.0), (154, 0.0), (155, 0.0), (158, 0.0), (159, 0.0), (160, 0.0), (162, 0.0), (163, 0.0), (164, 0.0), (165, 0.0), (167, 0.0), (168, 0.0), (171, 0.0), (176, 0.0), (177, 0.0), (178, 0.0), (179, 0.0), (183, 0.0), (184, 0.0), (186, 0.0), (187, 0.0), (189, 0.0), (191, 0.0), (192, 0.0), (193, 0.0), (194, 0.0), (196, 0.0), (198, 0.0), (200, 0.0), (203, 0.0), (208, 0.0), (213, 0.0), (218, 0.0), (220, 0.0), (221, 0.0), (222, 0.0), (223, 0.0), (224, 0.0), (226, 0.0), (227, 0.0), (228, 0.0), (229, 0.0), (230, 0.0), (231, 0.0), (232, 0.0), (233, 0.0), (234, 0.0), (235, 0.0), (237, 0.0), (239, 0.0), (240, 0.0), (241, 0.0), (242, 0.0), (243, 0.0), (247, 0.0), (248, 0.0), (249, 0.0), (250, 0.0), (252, 0.0), (255, 0.0), (257, 0.0), (258, 0.0), (259, 0.0), (260, 0.0), (261, 0.0), (262, 0.0), (265, 0.0), (266, 0.0), (267, 0.0), (268, 0.0), (269, 0.0), (271, 0.0), (272, 0.0), (273, 0.0), (275, 0.0), (277, 0.0), (283, 0.0), (284, 0.0), (286, 0.0), (288, 0.0), (289, 0.0), (290, 0.0), (292, 0.0), (293, 0.0), (294, 0.0), (295, 0.0), (296, 0.0), (297, 0.0), (298, 0.0), (299, 0.0), (300, 0.0), (301, 0.0), (302, 0.0), (303, 0.0), (305, 0.0), (306, 0.0), (307, 0.0), (308, 0.0), (309, 0.0), (310, 0.0), (313, 0.0), (314, 0.0), (315, 0.0), (316, 0.0), (317, 0.0), (320, 0.0), (321, 0.0), (322, 0.0), (323, 0.0), (324, 0.0), (326, 0.0), (327, 0.0), (328, 0.0), (329, 0.0), (330, 0.0), (332, 0.0), (335, 0.0), (337, 0.0), (340, 0.0), (341, 0.0), (343, 0.0), (347, 0.0), (348, 0.0), (349, 0.0), (352, 0.0), (353, 0.0), (354, 0.0), (355, 0.0), (356, 0.0), (358, 0.0), (359, 0.0), (364, 0.0), (371, 0.0), (372, 0.0), (373, 0.0), (374, 0.0), (375, 0.0), (376, 0.0), (378, 0.0), (379, 0.0), (380, 0.0), (381, 0.0), (382, 0.0), (384, 0.0), (386, 0.0), (387, 0.0), (388, 0.0), (389, 0.0), (390, 0.0), (394, 0.0), (395, 0.0), (397, 0.0), (399, 0.0), (400, 0.0), (402, 0.0), (403, 0.0), (406, 0.0), (407, 0.0), (410, 0.0), (411, 0.0), (412, 0.0), (419, 0.0), (420, 0.0), (423, 0.0), (424, 0.0), (425, 0.0), (426, 0.0), (428, 0.0), (430, 0.0), (432, 0.0), (433, 0.0), (434, 0.0), (436, 0.0), (437, 0.0), (438, 0.0), (439, 0.0), (440, 0.0), (441, 0.0), (442, 0.0), (443, 0.0), (444, 0.0), (445, 0.0), (446, 0.0), (448, 0.0), (449, 0.0), (451, 0.0), (452, 0.0), (453, 0.0), (455, 0.0), (457, 0.0), (460, 0.0), (462, 0.0), (464, 0.0), (465, 0.0), (466, 0.0), (467, 0.0), (468, 0.0), (469, 0.0), (470, 0.0), (472, 0.0), (475, 0.0), (476, 0.0), (477, 0.0), (478, 0.0), (480, 0.0), (482, 0.0), (484, 0.0), (486, 0.0), (487, 0.0), (488, 0.0), (489, 0.0), (490, 0.0), (491, 0.0), (492, 0.0), (493, 0.0), (495, 0.0), (496, 0.0), (499, 0.0), (509, 0.0), (511, 0.0), (512, 0.0), (513, 0.0), (514, 0.0), (516, 0.0), (517, 0.0), (518, 0.0), (519, 0.0), (522, 0.0), (523, 0.0), (524, 0.0), (526, 0.0), (527, 0.0), (537, 0.0), (540, 0.0), (541, 0.0), (548, 0.0), (549, 0.0), (550, 0.0), (551, 0.0), (552, 0.0), (553, 0.0), (554, 0.0), (555, 0.0), (556, 0.0), (557, 0.0), (559, 0.0), (561, 0.0), (562, 0.0), (563, 0.0), (564, 0.0), (565, 0.0), (567, 0.0), (568, 0.0), (569, 0.0), (570, 0.0), (571, 0.0), (572, 0.0), (573, 0.0), (574, 0.0), (575, 0.0), (576, 0.0), (578, 0.0), (580, 0.0), (581, 0.0), (587, 0.0), (588, 0.0), (590, 0.0), (591, 0.0), (592, 0.0), (593, 0.0), (595, 0.0), (596, 0.0), (597, 0.0), (598, 0.0), (599, 0.0), (600, 0.0), (601, 0.0), (602, 0.0), (603, 0.0), (606, 0.0), (607, 0.0), (608, 0.0), (610, 0.0), (611, 0.0), (612, 0.0), (613, 0.0), (614, 0.0), (615, 0.0), (616, 0.0), (617, 0.0), (618, 0.0), (619, 0.0), (620, 0.0), (623, 0.0), (624, 0.0), (625, 0.0), (626, 0.0), (627, 0.0), (628, 0.0), (631, 0.0), (633, 0.0), (634, 0.0), (635, 0.0), (636, 0.0), (637, 0.0), (638, 0.0), (639, 0.0), (640, 0.0), (641, 0.0), (642, 0.0), (644, 0.0), (645, 0.0), (646, 0.0), (647, 0.0), (650, 0.0), (651, 0.0), (655, 0.0), (656, 0.0), (657, 0.0), (658, 0.0), (660, 0.0), (661, 0.0), (663, 0.0), (666, 0.0), (670, 0.0), (674, 0.0), (677, 0.0), (680, 0.0), (681, 0.0), (685, 0.0), (686, 0.0), (688, 0.0), (689, 0.0), (693, 0.0), (694, 0.0), (696, 0.0), (698, 0.0), (699, 0.0), (700, 0.0), (704, 0.0), (705, 0.0), (706, 0.0), (713, 0.0), (714, 0.0), (715, 0.0), (716, 0.0), (717, 0.0), (718, 0.0), (719, 0.0), (721, 0.0), (722, 0.0), (723, 0.0), (724, 0.0), (725, 0.0), (727, 0.0), (728, 0.0), (729, 0.0), (731, 0.0), (732, 0.0), (733, 0.0), (734, 0.0), (738, 0.0), (739, 0.0), (742, 0.0), (743, 0.0), (744, 0.0), (746, 0.0), (747, 0.0), (748, 0.0), (749, 0.0), (750, 0.0), (756, 0.0), (761, 0.0), (762, 0.0), (763, 0.0), (765, 0.0), (766, 0.0), (767, 0.0), (769, 0.0), (774, 0.0), (775, 0.0), (777, 0.0), (779, 0.0), (782, 0.0), (783, 0.0), (789, 0.0), (791, 0.0), (794, 0.0), (796, 0.0), (798, 0.0), (800, 0.0), (802, 0.0), (803, 0.0), (804, 0.0), (805, 0.0), (808, 0.0), (809, 0.0), (810, 0.0), (811, 0.0), (812, 0.0), (813, 0.0), (815, 0.0), (817, 0.0), (818, 0.0), (819, 0.0), (823, 0.0), (826, 0.0), (830, 0.0), (831, 0.0), (832, 0.0), (834, 0.0), (835, 0.0), (838, 0.0), (843, 0.0), (844, 0.0), (845, 0.0), (848, 0.0), (850, 0.0), (852, 0.0), (854, 0.0), (855, 0.0), (856, 0.0), (857, 0.0), (858, 0.0), (861, 0.0), (863, 0.0), (865, 0.0), (868, 0.0), (871, 0.0), (877, 0.0), (880, 0.0), (881, 0.0), (882, 0.0), (887, 0.0), (889, 0.0), (891, 0.0), (893, 0.0), (895, 0.0), (897, 0.0), (899, 0.0), (900, 0.0), (901, 0.0), (902, 0.0), (906, 0.0), (909, 0.0), (910, 0.0), (911, 0.0), (913, 0.0), (914, 0.0), (917, 0.0), (919, 0.0), (921, 0.0), (922, 0.0), (924, 0.0), (927, 0.0), (929, 0.0), (930, 0.0), (932, 0.0), (934, 0.0), (935, 0.0), (936, 0.0), (944, 0.0), (949, 0.0), (950, 0.0), (952, 0.0), (953, 0.0), (954, 0.0), (959, 0.0), (960, 0.0), (962, 0.0), (963, 0.0), (966, 0.0), (967, 0.0), (968, 0.0), (974, 0.0), (975, 0.0), (977, 0.0), (979, 0.0), (980, 0.0), (981, 0.0), (987, 0.0), (991, 0.0), (992, 0.0), (993, 0.0), (997, 0.0), (1001, 0.0), (1003, 0.0), (1004, 0.0), (1009, 0.0), (1011, 0.0), (1012, 0.0), (1014, 0.0), (1016, 0.0), (1019, 0.0), (1020, 0.0), (1023, 0.0), (1026, 0.0), (1027, 0.0), (1030, 0.0), (1031, 0.0), (1032, 0.0), (1033, 0.0), (1034, 0.0), (1036, 0.0), (1037, 0.0), (1039, 0.0), (1041, 0.0), (1042, 0.0), (1043, 0.0), (1044, 0.0), (1045, 0.0), (1046, 0.0), (1048, 0.0), (1051, 0.0), (1052, 0.0), (1055, 0.0), (1056, 0.0), (1057, 0.0), (1059, 0.0), (1060, 0.0), (1065, 0.0), (1066, 0.0), (1067, 0.0), (1069, 0.0), (1071, 0.0), (1072, 0.0), (1075, 0.0), (1077, 0.0), (1080, 0.0), (1081, 0.0), (1082, 0.0), (1083, 0.0), (1086, 0.0), (1087, 0.0), (1090, 0.0), (1091, 0.0), (1095, 0.0), (1096, 0.0), (1097, 0.0), (1098, 0.0), (1101, 0.0), (1102, 0.0), (1110, 0.0), (1111, 0.0), (1114, 0.0), (1118, 0.0), (1120, 0.0), (1121, 0.0), (1122, 0.0), (1123, 0.0), (1127, 0.0), (1129, 0.0), (1131, 0.0), (1134, 0.0), (1135, 0.0), (1136, 0.0), (1138, 0.0), (1140, 0.0), (1143, 0.0), (1144, 0.0), (1145, 0.0), (1146, 0.0), (1147, 0.0), (1150, 0.0), (1151, 0.0), (1154, 0.0), (1158, 0.0), (1159, 0.0), (1161, 0.0), (1163, 0.0), (1164, 0.0), (1167, 0.0), (1168, 0.0), (1171, 0.0), (1172, 0.0), (1174, 0.0), (1175, 0.0), (1176, 0.0), (1177, 0.0), (1179, 0.0), (1181, 0.0), (1182, 0.0), (1186, 0.0), (1188, 0.0), (1189, 0.0), (1191, 0.0), (1192, 0.0), (1195, 0.0), (1197, 0.0), (1202, 0.0), (1206, 0.0), (1207, 0.0), (1209, 0.0), (1210, 0.0), (1215, 0.0), (1218, 0.0), (1219, 0.0), (1220, 0.0), (1221, 0.0), (1223, 0.0), (1225, 0.0), (1228, 0.0), (1229, 0.0), (1233, 0.0), (1239, 0.0), (1240, 0.0), (1241, 0.0), (1245, 0.0), (1247, 0.0), (1250, 0.0), (1253, 0.0), (1254, 0.0), (1255, 0.0), (1257, 0.0), (1258, 0.0), (1262, 0.0), (1263, 0.0), (1265, 0.0), (1266, 0.0), (1269, 0.0), (1270, 0.0), (1271, 0.0), (1272, 0.0), (1273, 0.0), (1274, 0.0), (1279, 0.0), (1280, 0.0), (1281, 0.0), (1283, 0.0), (1285, 0.0), (1287, 0.0), (1294, 0.0), (1295, 0.0), (1296, 0.0), (1301, 0.0), (1305, 0.0), (1306, 0.0), (1307, 0.0), (1315, 0.0), (1316, 0.0), (1319, 0.0), (1324, 0.0), (1328, 0.0), (1332, 0.0), (1342, 0.0), (1346, 0.0), (1347, 0.0), (1349, 0.0), (1350, 0.0), (1351, 0.0), (1352, 0.0), (1354, 0.0), (1355, 0.0), (1356, 0.0), (1357, 0.0), (1358, 0.0), (1365, 0.0), (1366, 0.0), (1374, 0.0), (1375, 0.0), (1378, 0.0), (1380, 0.0), (1381, 0.0), (1383, 0.0), (1384, 0.0), (1386, 0.0), (1391, 0.0), (1395, 0.0), (1396, 0.0), (1398, 0.0), (1399, 0.0), (1400, 0.0), (1402, 0.0), (1404, 0.0), (1407, 0.0), (1413, 0.0), (1414, 0.0), (1415, 0.0), (1416, 0.0), (1418, 0.0), (1421, 0.0), (1423, 0.0), (1426, 0.0), (1428, 0.0), (1429, 0.0), (1430, 0.0), (1431, 0.0), (1433, 0.0), (1434, 0.0), (1435, 0.0), (1439, 0.0), (1442, 0.0), (1443, 0.0), (1448, 0.0), (1449, 0.0), (1450, 0.0), (1451, 0.0), (1452, 0.0), (1454, 0.0), (1456, 0.0), (1458, 0.0), (1459, 0.0), (1460, 0.0), (1462, 0.0), (1463, 0.0), (1464, 0.0), (1466, 0.0), (1467, 0.0), (1470, 0.0), (1472, 0.0), (1474, 0.0), (1475, 0.0), (1480, 0.0), (1484, 0.0), (1493, 0.0), (1497, 0.0), (1498, 0.0), (1499, 0.0), (1500, 0.0), (1502, 0.0), (1503, 0.0), (1510, 0.0), (1511, 0.0), (1512, 0.0), (1514, 0.0), (1515, 0.0), (1519, 0.0), (1522, 0.0), (1529, 0.0), (1530, 0.0), (1531, 0.0), (1534, 0.0), (1535, 0.0), (1538, 0.0), (1541, 0.0), (1546, 0.0), (1547, 0.0), (1548, 0.0), (1550, 0.0), (1551, 0.0), (1553, 0.0), (1554, 0.0), (1555, 0.0), (1556, 0.0), (1558, 0.0), (1559, 0.0), (1562, 0.0), (1565, 0.0), (1566, 0.0), (1568, 0.0), (1570, 0.0), (1573, 0.0), (1574, 0.0), (1575, 0.0), (1576, 0.0), (1579, 0.0), (1580, 0.0), (1581, 0.0), (1584, 0.0), (1588, 0.0), (1590, 0.0), (1593, 0.0), (1600, 0.0), (1603, 0.0), (1604, 0.0), (1605, 0.0), (1606, 0.0), (1607, 0.0), (1608, 0.0), (1612, 0.0), (1617, 0.0), (1619, 0.0), (1622, 0.0), (1623, 0.0), (1624, 0.0), (1625, 0.0), (1627, 0.0), (1628, 0.0), (1630, 0.0), (1631, 0.0), (1632, 0.0), (1633, 0.0), (1635, 0.0), (1636, 0.0), (1641, 0.0), (1643, 0.0), (1645, 0.0), (1647, 0.0), (1648, 0.0), (1649, 0.0), (1650, 0.0), (1651, 0.0), (1653, 0.0), (1655, 0.0), (1657, 0.0), (1659, 0.0), (1661, 0.0), (1662, 0.0), (1664, 0.0), (1666, 0.0), (1669, 0.0), (1670, 0.0), (1672, 0.0), (1675, 0.0), (1682, 0.0), (1685, 0.0), (1686, 0.0), (1691, 0.0), (1692, 0.0), (1696, 0.0), (1699, 0.0), (1701, 0.0), (1703, 0.0), (1704, 0.0), (1706, 0.0), (1707, 0.0), (1708, 0.0), (1710, 0.0), (1711, 0.0), (1712, 0.0), (1713, 0.0), (1717, 0.0), (1720, 0.0), (1723, 0.0), (1724, 0.0), (1725, 0.0), (1728, 0.0), (1730, 0.0), (1742, 0.0), (1743, 0.0), (1745, 0.0), (1747, 0.0), (1748, 0.0), (1749, 0.0), (1753, 0.0), (1755, 0.0), (1756, 0.0), (1758, 0.0), (1760, 0.0), (1761, 0.0), (1762, 0.0), (1763, 0.0), (1764, 0.0), (1768, 0.0), (1770, 0.0), (1772, 0.0), (1773, 0.0), (1775, 0.0), (1779, 0.0), (1780, 0.0), (1782, 0.0), (1793, 0.0), (1795, 0.0), (1798, 0.0), (1799, 0.0), (1800, 0.0), (1801, 0.0), (1802, 0.0), (1805, 0.0), (1807, 0.0), (1808, 0.0), (1809, 0.0), (1810, 0.0), (1811, 0.0), (1812, 0.0), (1813, 0.0), (1814, 0.0), (1817, 0.0), (1819, 0.0), (1820, 0.0), (1823, 0.0), (1825, 0.0), (1826, 0.0), (1828, 0.0), (1829, 0.0), (1831, 0.0), (1835, 0.0), (1838, 0.0), (1840, 0.0), (1841, 0.0), (1843, 0.0), (1845, 0.0), (1846, 0.0), (1852, 0.0), (1857, 0.0), (1859, 0.0), (1860, 0.0), (1862, 0.0), (1863, 0.0), (1864, 0.0), (1865, 0.0), (1866, 0.0), (1869, 0.0), (1872, 0.0), (1873, 0.0), (1875, 0.0), (1876, 0.0), (1882, 0.0), (1884, 0.0), (1885, 0.0), (1886, 0.0), (1887, 0.0), (1890, 0.0), (1891, 0.0), (1892, 0.0), (1894, 0.0), (1896, 0.0), (1897, 0.0), (1901, 0.0), (1904, 0.0), (1908, 0.0), (1909, 0.0), (1910, 0.0), (1916, 0.0), (1918, 0.0), (1920, 0.0), (1921, 0.0), (1924, 0.0), (1925, 0.0), (1927, 0.0), (1930, 0.0), (1931, 0.0), (1932, 0.0), (1933, 0.0), (1934, 0.0), (1936, 0.0), (1940, 0.0), (1946, 0.0), (1948, 0.0), (1950, 0.0), (1952, 0.0), (1953, 0.0), (1959, 0.0), (1960, 0.0), (1962, 0.0), (1964, 0.0), (1966, 0.0), (1968, 0.0), (1969, 0.0), (1972, 0.0), (1975, 0.0), (1976, 0.0), (1977, 0.0), (1979, 0.0), (1988, 0.0), (1990, 0.0), (1991, 0.0), (1993, 0.0), (1995, 0.0), (1996, 0.0), (1998, 0.0), (2000, 0.0), (2004, 0.0), (2008, 0.0), (2010, 0.0), (2011, 0.0), (2013, 0.0), (2015, 0.0), (2017, 0.0), (2020, 0.0), (2022, 0.0), (2027, 0.0), (2028, 0.0), (2030, 0.0), (2031, 0.0), (2034, 0.0), (2035, 0.0), (2038, 0.0), (2039, 0.0), (2044, 0.0), (2045, 0.0), (2047, 0.0), (2048, 0.0), (2051, 0.0), (2054, 0.0), (2061, 0.0), (2062, 0.0), (2067, 0.0), (2069, 0.0), (2072, 0.0), (2073, 0.0), (2074, 0.0), (2075, 0.0), (2078, 0.0), (2083, 0.0), (2084, 0.0), (2085, 0.0), (2088, 0.0), (2089, 0.0), (2091, 0.0), (2094, 0.0), (2095, 0.0), (2100, 0.0), (2102, 0.0), (2103, 0.0), (2104, 0.0), (2105, 0.0), (2109, 0.0), (2114, 0.0), (2115, 0.0), (2117, 0.0), (2118, 0.0), (2120, 0.0), (2121, 0.0), (2123, 0.0), (2127, 0.0), (2129, 0.0), (2130, 0.0), (2132, 0.0), (2133, 0.0), (2134, 0.0), (2135, 0.0), (2136, 0.0), (2139, 0.0), (2141, 0.0), (2142, 0.0), (2144, 0.0), (2149, 0.0), (2152, 0.0), (2155, 0.0), (2159, 0.0), (2163, 0.0), (2165, 0.0), (2169, 0.0), (2171, 0.0), (2172, 0.0), (2173, 0.0), (2175, 0.0), (2176, 0.0), (2177, 0.0), (2180, 0.0), (2181, 0.0), (2182, 0.0), (2188, 0.0), (2189, 0.0), (2190, 0.0), (2191, 0.0), (2195, 0.0), (2197, 0.0), (2198, 0.0), (2205, 0.0), (2213, 0.0), (2220, 0.0), (2221, 0.0), (2226, 0.0), (2230, 0.0), (2231, 0.0), (2232, 0.0), (2233, 0.0), (2237, 0.0), (2238, 0.0), (2239, 0.0), (2243, 0.0), (2244, 0.0), (2245, 0.0), (2246, 0.0), (2247, 0.0), (2248, 0.0), (2251, 0.0), (2252, 0.0), (2253, 0.0), (2255, 0.0), (2256, 0.0), (2257, 0.0), (2259, 0.0), (2263, 0.0), (2266, 0.0), (2267, 0.0), (2268, 0.0), (2269, 0.0), (2273, 0.0), (2277, 0.0), (2278, 0.0), (2283, 0.0), (2285, 0.0), (2286, 0.0), (2287, 0.0), (2288, 0.0), (2289, 0.0), (2291, 0.0), (2293, 0.0), (2294, 0.0), (2299, 0.0), (2300, 0.0), (2301, 0.0), (2306, 0.0), (2310, 0.0), (2313, 0.0), (2314, 0.0), (2317, 0.0), (2319, 0.0), (2323, 0.0), (2324, 0.0), (2326, 0.0), (2328, 0.0), (2330, 0.0), (2332, 0.0), (2337, 0.0), (2338, 0.0), (2341, 0.0), (2342, 0.0), (2343, 0.0), (2344, 0.0), (2345, 0.0), (2347, 0.0), (2349, 0.0), (2350, 0.0), (2352, 0.0), (2354, 0.0), (2355, 0.0), (2356, 0.0), (2358, 0.0), (2359, 0.0), (2361, 0.0), (2362, 0.0), (2365, 0.0), (2369, 0.0), (2370, 0.0), (2372, 0.0), (2374, 0.0), (2376, 0.0), (2378, 0.0), (2382, 0.0), (2386, 0.0), (2388, 0.0), (2390, 0.0), (2392, 0.0), (2393, 0.0), (2398, 0.0), (2400, 0.0), (2401, 0.0), (2405, 0.0), (2407, 0.0), (2408, 0.0), (2413, 0.0), (2414, 0.0), (2415, 0.0), (2416, 0.0), (2417, 0.0), (2418, 0.0), (2419, 0.0), (2421, 0.0), (2425, 0.0), (2427, 0.0), (2428, 0.0), (2430, 0.0), (2432, 0.0), (2437, 0.0), (2438, 0.0), (2442, 0.0), (2443, 0.0), (2448, 0.0), (2451, 0.0), (2453, 0.0), (2454, 0.0), (2457, 0.0), (2459, 0.0), (2462, 0.0), (2463, 0.0), (2466, 0.0), (2469, 0.0), (2470, 0.0), (2471, 0.0), (2473, 0.0), (2474, 0.0), (2475, 0.0), (2476, 0.0), (2477, 0.0), (2480, 0.0), (2481, 0.0), (2482, 0.0), (2484, 0.0), (2485, 0.0), (2496, 0.0), (2498, 0.0), (2501, 0.0), (2502, 0.0), (2503, 0.0), (2505, 0.0), (2506, 0.0), (2513, 0.0), (2517, 0.0), (2520, 0.0), (2521, 0.0), (2525, 0.0), (2526, 0.0), (2527, 0.0), (2528, 0.0), (2530, 0.0), (2532, 0.0), (2533, 0.0), (2534, 0.0), (2538, 0.0), (2540, 0.0), (2541, 0.0), (2544, 0.0), (2545, 0.0), (2547, 0.0), (2549, 0.0), (2550, 0.0), (2552, 0.0), (2555, 0.0), (2556, 0.0), (2557, 0.0), (2558, 0.0), (2559, 0.0), (2560, 0.0), (2562, 0.0), (2563, 0.0), (2565, 0.0), (2567, 0.0), (2568, 0.0), (2571, 0.0), (2572, 0.0), (2573, 0.0), (2574, 0.0), (2576, 0.0), (2577, 0.0), (2578, 0.0), (2579, 0.0), (2580, 0.0), (2583, 0.0), (2585, 0.0), (2589, 0.0), (2593, 0.0), (2595, 0.0), (2596, 0.0), (2598, 0.0), (2599, 0.0), (2606, 0.0), (2609, 0.0), (2611, 0.0), (2612, 0.0), (2613, 0.0), (2614, 0.0), (2618, 0.0), (2622, 0.0), (2623, 0.0), (2624, 0.0), (2627, 0.0), (2628, 0.0), (2629, 0.0), (2630, 0.0), (2632, 0.0), (2634, 0.0), (2636, 0.0), (2640, 0.0), (2641, 0.0), (2643, 0.0), (2647, 0.0), (2650, 0.0), (2651, 0.0), (2652, 0.0), (2654, 0.0), (2655, 0.0), (2658, 0.0), (2660, 0.0), (2664, 0.0), (2670, 0.0), (2673, 0.0), (2674, 0.0), (2679, 0.0), (2680, 0.0), (2682, 0.0), (2683, 0.0), (2686, 0.0), (2689, 0.0), (2691, 0.0), (2694, 0.0), (2698, 0.0), (2700, 0.0), (2704, 0.0), (2705, 0.0), (2707, 0.0), (2708, 0.0), (2710, 0.0), (2711, 0.0), (2713, 0.0), (2714, 0.0), (2716, 0.0), (2717, 0.0), (2718, 0.0), (2719, 0.0), (2723, 0.0), (2724, 0.0), (2725, 0.0), (2733, 0.0), (2735, 0.0), (2736, 0.0), (2740, 0.0), (2743, 0.0), (2745, 0.0), (2749, 0.0), (2750, 0.0), (2753, 0.0), (2757, 0.0), (2759, 0.0), (2760, 0.0), (2761, 0.0), (2762, 0.0), (2765, 0.0), (2766, 0.0), (2767, 0.0), (2772, 0.0), (2773, 0.0), (2775, 0.0), (2778, 0.0), (2779, 0.0), (2783, 0.0), (2785, 0.0), (2789, 0.0), (2790, 0.0), (2792, 0.0), (2793, 0.0), (2798, 0.0), (2800, 0.0), (2801, 0.0), (2802, 0.0), (2803, 0.0), (2806, 0.0), (2809, 0.0), (2819, 0.0), (2821, 0.0), (2824, 0.0), (2826, 0.0), (2827, 0.0), (2828, 0.0), (2830, 0.0), (2831, 0.0), (2835, 0.0), (2837, 0.0), (2839, 0.0), (2840, 0.0), (2841, 0.0), (2842, 0.0), (2844, 0.0), (2845, 0.0), (2847, 0.0), (2848, 0.0), (2850, 0.0), (2851, 0.0), (2853, 0.0), (2854, 0.0), (2859, 0.0), (2860, 0.0), (2861, 0.0), (2862, 0.0), (2863, 0.0), (2864, 0.0), (2865, 0.0), (2867, 0.0), (2868, 0.0), (2869, 0.0), (2870, 0.0), (2878, 0.0), (2879, 0.0), (2881, 0.0), (2883, 0.0), (2885, 0.0), (2887, 0.0), (2888, 0.0), (2889, 0.0), (2890, 0.0), (2892, 0.0), (2894, 0.0), (2895, 0.0), (2898, 0.0), (2899, 0.0), (2900, 0.0), (2901, 0.0), (2902, 0.0), (2904, 0.0), (2905, 0.0), (2906, 0.0), (2907, 0.0), (2909, 0.0), (2911, 0.0), (2915, 0.0), (2916, 0.0), (2917, 0.0), (2920, 0.0), (2921, 0.0), (2923, 0.0), (2927, 0.0), (2929, 0.0), (2931, 0.0), (2935, 0.0), (2936, 0.0), (2937, 0.0), (2938, 0.0), (2942, 0.0), (2943, 0.0), (2944, 0.0), (2946, 0.0), (2947, 0.0), (2949, 0.0), (2950, 0.0), (2952, 0.0), (2953, 0.0), (2955, 0.0), (2956, 0.0), (2957, 0.0), (2958, 0.0), (2959, 0.0), (2960, 0.0), (2964, 0.0), (2965, 0.0), (2966, 0.0), (2967, 0.0), (2969, 0.0), (2974, 0.0), (2975, 0.0), (2977, 0.0), (2980, 0.0), (2981, 0.0), (2984, 0.0), (2985, 0.0), (2987, 0.0), (2988, 0.0), (2989, 0.0), (2991, 0.0), (2993, 0.0), (2995, 0.0), (2997, 0.0), (2998, 0.0), (3000, 0.0), (3001, 0.0), (3002, 0.0), (3004, 0.0), (3005, 0.0), (3006, 0.0), (3007, 0.0), (3008, 0.0), (3010, 0.0), (3011, 0.0), (3013, 0.0), (3014, 0.0), (3015, 0.0), (3021, 0.0), (3022, 0.0), (3023, 0.0), (3024, 0.0), (3025, 0.0), (3027, 0.0), (3028, 0.0), (3029, 0.0), (3030, 0.0), (3031, 0.0), (3032, 0.0), (3035, 0.0), (3036, 0.0), (3046, 0.0), (3047, 0.0), (3048, 0.0), (3049, 0.0), (3051, 0.0), (3052, 0.0), (3053, 0.0), (3055, 0.0), (3056, 0.0), (3057, 0.0), (3058, 0.0), (3059, 0.0), (3064, 0.0), (3065, 0.0), (3067, 0.0), (3068, 0.0), (3069, 0.0), (3072, 0.0), (3075, 0.0), (3079, 0.0), (3081, 0.0), (3091, 0.0), (3092, 0.0), (3093, 0.0), (3094, 0.0), (3096, 0.0), (3100, 0.0), (3101, 0.0), (3103, 0.0), (3105, 0.0), (3107, 0.0), (3111, 0.0), (3112, 0.0), (3114, 0.0), (3116, 0.0), (3117, 0.0), (3121, 0.0), (3122, 0.0), (3123, 0.0), (3124, 0.0), (3125, 0.0), (3126, 0.0), (3128, 0.0), (3129, 0.0), (3130, 0.0), (3131, 0.0), (3132, 0.0), (3133, 0.0), (3134, 0.0), (3135, 0.0), (3136, 0.0), (3138, 0.0), (3140, 0.0), (3143, 0.0), (3144, 0.0), (3145, 0.0), (3148, 0.0), (3151, 0.0), (3152, 0.0), (3153, 0.0), (3156, 0.0), (3157, 0.0), (3158, 0.0), (3159, 0.0), (3160, 0.0), (3161, 0.0), (3163, 0.0), (3165, 0.0), (3167, 0.0), (3170, 0.0), (3173, 0.0), (3174, 0.0), (3176, 0.0), (3179, 0.0), (3180, 0.0), (3184, 0.0), (3185, 0.0), (3186, 0.0), (3191, 0.0), (3193, 0.0), (3195, 0.0), (3196, 0.0), (3199, 0.0), (3200, 0.0), (3201, 0.0), (3202, 0.0), (3205, 0.0), (3206, 0.0), (3208, 0.0), (3211, 0.0), (3213, 0.0), (3215, 0.0), (3216, 0.0), (3219, 0.0), (3222, 0.0), (3223, 0.0), (3225, 0.0), (3226, 0.0), (3227, 0.0), (3228, 0.0), (3230, 0.0), (3233, 0.0), (3235, 0.0), (3237, 0.0), (3240, 0.0), (3241, 0.0), (3242, 0.0), (3243, 0.0), (3247, 0.0), (3248, 0.0), (3251, 0.0), (3252, 0.0), (3254, 0.0), (3255, 0.0), (3261, 0.0), (3262, 0.0), (3263, 0.0), (3264, 0.0), (3268, 0.0), (3269, 0.0), (3272, 0.0), (3273, 0.0), (3274, 0.0), (3276, 0.0), (3278, 0.0), (3279, 0.0), (3281, 0.0), (3284, 0.0), (3285, 0.0), (3291, 0.0), (3292, 0.0), (3294, 0.0), (3296, 0.0), (3298, 0.0), (3299, 0.0), (3300, 0.0), (3301, 0.0), (3302, 0.0), (3305, 0.0), (3307, 0.0), (3313, 0.0), (3314, 0.0), (3316, 0.0), (3322, 0.0), (3325, 0.0), (3326, 0.0), (3327, 0.0), (3328, 0.0), (3330, 0.0), (3331, 0.0), (3333, 0.0), (3335, 0.0), (3336, 0.0), (3338, 0.0), (3339, 0.0), (3340, 0.0), (3341, 0.0), (3342, 0.0), (3344, 0.0), (3345, 0.0), (3346, 0.0), (3347, 0.0), (3353, 0.0), (3354, 0.0), (3355, 0.0), (3356, 0.0), (3358, 0.0), (3359, 0.0), (3360, 0.0), (3361, 0.0), (3362, 0.0), (3363, 0.0), (3365, 0.0), (3367, 0.0), (3368, 0.0), (3369, 0.0), (3372, 0.0), (3376, 0.0), (3379, 0.0), (3380, 0.0), (3381, 0.0), (3385, 0.0), (3387, 0.0), (3390, 0.0), (3391, 0.0), (3392, 0.0), (3394, 0.0), (3396, 0.0), (3398, 0.0), (3399, 0.0), (3401, 0.0), (3404, 0.0), (3405, 0.0), (3406, 0.0), (3409, 0.0), (3412, 0.0), (3414, 0.0), (3417, 0.0), (3419, 0.0), (3420, 0.0), (3423, 0.0), (3425, 0.0), (3426, 0.0), (3427, 0.0), (3429, 0.0), (3431, 0.0), (3432, 0.0), (3433, 0.0), (3434, 0.0), (3435, 0.0), (3436, 0.0), (3438, 0.0), (3440, 0.0), (3441, 0.0), (3445, 0.0), (3446, 0.0), (3448, 0.0), (3451, 0.0), (3452, 0.0), (3453, 0.0), (3454, 0.0), (3455, 0.0), (3456, 0.0), (3457, 0.0), (3458, 0.0), (3459, 0.0), (3460, 0.0), (3463, 0.0), (3467, 0.0), (3468, 0.0), (3469, 0.0), (3470, 0.0), (3471, 0.0), (3472, 0.0), (3473, 0.0), (3474, 0.0), (3476, 0.0), (3478, 0.0), (3480, 0.0), (3482, 0.0), (3484, 0.0), (3486, 0.0), (3487, 0.0), (3488, 0.0), (3491, 0.0), (3492, 0.0), (3495, 0.0), (3497, 0.0), (3498, 0.0), (3499, 0.0), (3501, 0.0), (3502, 0.0), (3505, 0.0), (3506, 0.0), (3511, 0.0), (3515, 0.0), (3516, 0.0), (3520, 0.0), (3521, 0.0), (3522, 0.0), (3523, 0.0), (3524, 0.0), (3525, 0.0), (3527, 0.0), (3528, 0.0), (3530, 0.0), (3532, 0.0), (3533, 0.0), (3534, 0.0), (3536, 0.0), (3540, 0.0), (3542, 0.0), (3546, 0.0), (3547, 0.0), (3548, 0.0), (3550, 0.0), (3551, 0.0), (3555, 0.0), (3556, 0.0), (3557, 0.0), (3558, 0.0), (3560, 0.0), (3561, 0.0), (3564, 0.0), (3566, 0.0), (3567, 0.0), (3568, 0.0), (3569, 0.0), (3573, 0.0), (3576, 0.0), (3578, 0.0), (3583, 0.0), (3587, 0.0), (3588, 0.0), (3590, 0.0), (3593, 0.0), (3594, 0.0), (3596, 0.0), (3600, 0.0), (3602, 0.0), (3604, 0.0), (3605, 0.0), (3607, 0.0), (3608, 0.0), (3609, 0.0), (3611, 0.0), (3613, 0.0), (3614, 0.0), (3615, 0.0), (3617, 0.0), (3618, 0.0), (3619, 0.0), (3620, 0.0), (3623, 0.0), (3624, 0.0), (3625, 0.0), (3627, 0.0), (3629, 0.0), (3631, 0.0), (3634, 0.0), (3635, 0.0), (3636, 0.0), (3638, 0.0), (3639, 0.0), (3643, 0.0), (3647, 0.0), (3651, 0.0), (3653, 0.0), (3654, 0.0), (3655, 0.0), (3656, 0.0), (3657, 0.0), (3661, 0.0), (3663, 0.0), (3664, 0.0), (3666, 0.0), (3667, 0.0), (3668, 0.0), (3669, 0.0), (3672, 0.0), (3677, 0.0), (3679, 0.0), (3680, 0.0), (3682, 0.0), (3687, 0.0), (3689, 0.0), (3690, 0.0), (3691, 0.0), (3692, 0.0), (3693, 0.0), (3695, 0.0), (3696, 0.0), (3697, 0.0), (3698, 0.0), (3700, 0.0), (3701, 0.0), (3702, 0.0), (3703, 0.0), (3704, 0.0), (3705, 0.0), (3706, 0.0), (3707, 0.0), (3709, 0.0), (3710, 0.0), (3714, 0.0), (3717, 0.0), (3718, 0.0), (3719, 0.0), (3720, 0.0), (3721, 0.0), (3723, 0.0), (3724, 0.0), (3725, 0.0), (3726, 0.0), (3727, 0.0), (3729, 0.0), (3734, 0.0), (3737, 0.0), (3738, 0.0), (3742, 0.0), (3743, 0.0), (3744, 0.0), (3745, 0.0), (3746, 0.0), (3747, 0.0), (3749, 0.0), (3750, 0.0), (3751, 0.0), (3752, 0.0), (3757, 0.0), (3760, 0.0), (3761, 0.0), (3762, 0.0), (3769, 0.0), (3770, 0.0), (3771, 0.0), (3773, 0.0), (3774, 0.0), (3776, 0.0), (3778, 0.0), (3779, 0.0), (3780, 0.0), (3781, 0.0), (3782, 0.0), (3783, 0.0), (3784, 0.0), (3785, 0.0), (3786, 0.0), (3787, 0.0), (3788, 0.0), (3793, 0.0), (3795, 0.0), (3797, 0.0), (3798, 0.0), (3799, 0.0), (3802, 0.0), (3804, 0.0), (3806, 0.0), (3809, 0.0), (3810, 0.0), (3813, 0.0), (3814, 0.0), (3815, 0.0), (3816, 0.0), (3817, 0.0), (3821, 0.0), (3823, 0.0), (3824, 0.0), (3825, 0.0), (3826, 0.0), (3827, 0.0), (3829, 0.0), (3830, 0.0), (3831, 0.0), (3833, 0.0), (3834, 0.0), (3835, 0.0), (3838, 0.0), (3840, 0.0), (3841, 0.0), (3843, 0.0), (3846, 0.0), (3847, 0.0), (3848, 0.0), (3850, 0.0), (3852, 0.0), (3853, 0.0), (3857, 0.0), (3863, 0.0), (3867, 0.0), (3869, 0.0), (3871, 0.0), (3872, 0.0), (3873, 0.0), (3874, 0.0), (3876, 0.0), (3877, 0.0), (3878, 0.0), (3880, 0.0), (3881, 0.0), (3884, 0.0), (3887, 0.0), (3891, 0.0), (3893, 0.0), (3894, 0.0), (3895, 0.0), (3897, 0.0), (3898, 0.0), (3899, 0.0), (3900, 0.0), (3901, 0.0), (3902, 0.0), (3903, 0.0), (3904, 0.0), (3906, 0.0), (3907, 0.0), (3908, 0.0), (3910, 0.0), (3911, 0.0), (3913, 0.0), (3915, 0.0), (3917, 0.0), (3918, 0.0), (3920, 0.0), (3925, 0.0), (3927, 0.0), (3928, 0.0), (3929, 0.0), (3932, 0.0), (3935, 0.0), (3937, 0.0), (3938, 0.0), (3939, 0.0), (3940, 0.0), (3942, 0.0), (3944, 0.0), (3945, 0.0), (3948, 0.0), (3951, 0.0), (3953, 0.0), (3954, 0.0), (3955, 0.0), (3957, 0.0), (3958, 0.0), (3960, 0.0), (3963, 0.0), (3966, 0.0), (3968, 0.0), (3970, 0.0), (3972, 0.0), (3974, 0.0), (3975, 0.0), (3976, 0.0), (3977, 0.0), (3979, 0.0), (3980, 0.0), (3981, 0.0), (3982, 0.0), (3983, 0.0), (3985, 0.0), (3986, 0.0), (3987, 0.0), (3989, 0.0), (3990, 0.0), (3991, 0.0), (3994, 0.0), (3995, 0.0), (3997, 0.0), (3999, 0.0), (4002, 0.0), (4005, 0.0), (4006, 0.0), (4009, 0.0), (4011, 0.0), (4013, 0.0), (4014, 0.0), (4015, 0.0), (4016, 0.0), (4017, 0.0), (4019, 0.0), (4020, 0.0), (4021, 0.0), (4022, 0.0), (4024, 0.0), (4028, 0.0), (4029, 0.0), (4030, 0.0), (4032, 0.0), (4034, 0.0), (4038, 0.0), (4039, 0.0), (4041, 0.0), (4042, 0.0), (4043, 0.0), (4044, 0.0), (4046, 0.0), (4047, 0.0), (4050, 0.0), (4055, 0.0), (4056, 0.0), (4057, 0.0), (4059, 0.0), (4062, 0.0), (4063, 0.0), (4065, 0.0), (4067, 0.0), (4069, 0.0), (4070, 0.0), (4072, 0.0), (4074, 0.0), (4075, 0.0), (4076, 0.0), (4077, 0.0), (4078, 0.0), (4079, 0.0), (4080, 0.0), (4081, 0.0), (4082, 0.0), (4083, 0.0), (4085, 0.0), (4087, 0.0), (4089, 0.0), (4090, 0.0), (4091, 0.0), (4092, 0.0), (4098, 0.0), (4100, 0.0), (4101, 0.0), (4103, 0.0), (4106, 0.0), (4107, 0.0), (4110, 0.0), (4114, 0.0), (4119, 0.0), (4120, 0.0), (4126, 0.0), (4128, 0.0), (4129, 0.0), (4130, 0.0), (4133, 0.0), (4134, 0.0), (4136, 0.0), (4137, 0.0), (4138, 0.0), (4139, 0.0), (4142, 0.0), (4143, 0.0), (4144, 0.0), (4145, 0.0), (4146, 0.0), (4150, 0.0), (4151, 0.0), (4152, 0.0), (4153, 0.0), (4154, 0.0), (4155, 0.0), (4157, 0.0), (4158, 0.0), (4159, 0.0), (4160, 0.0), (4161, 0.0), (4162, 0.0), (4163, 0.0), (4165, 0.0), (4167, 0.0), (4168, 0.0), (4169, 0.0), (4170, 0.0), (4171, 0.0), (4172, 0.0), (4175, 0.0), (4176, 0.0), (4177, 0.0), (4179, 0.0), (4181, 0.0), (4183, 0.0), (4185, 0.0), (4188, 0.0), (4193, 0.0), (4194, 0.0), (4196, 0.0), (4197, 0.0), (4201, 0.0), (4202, 0.0), (4205, 0.0), (4208, 0.0), (4209, 0.0), (4211, 0.0), (4212, 0.0), (4215, 0.0), (4219, 0.0), (4220, 0.0), (4221, 0.0), (4224, 0.0), (4225, 0.0), (4228, 0.0), (4229, 0.0), (4230, 0.0), (4236, 0.0), (4238, 0.0), (4240, 0.0), (4241, 0.0), (4243, 0.0), (4245, 0.0), (4247, 0.0), (4248, 0.0), (4249, 0.0), (4250, 0.0), (4251, 0.0), (4253, 0.0), (4255, 0.0), (4262, 0.0), (4264, 0.0), (4266, 0.0), (4267, 0.0), (4269, 0.0), (4270, 0.0), (4271, 0.0), (4273, 0.0), (4274, 0.0), (4275, 0.0), (4276, 0.0), (4277, 0.0), (4278, 0.0), (4279, 0.0), (4280, 0.0), (4281, 0.0), (4282, 0.0), (4283, 0.0), (4284, 0.0), (4286, 0.0), (4290, 0.0), (4292, 0.0), (4294, 0.0), (4296, 0.0), (4298, 0.0), (4299, 0.0), (4301, 0.0), (4302, 0.0), (4306, 0.0), (4307, 0.0), (4309, 0.0), (4310, 0.0), (4312, 0.0), (4313, 0.0), (4316, 0.0), (4318, 0.0), (4320, 0.0), (4322, 0.0), (4326, 0.0), (4328, 0.0), (4330, 0.0), (4331, 0.0), (4333, 0.0), (4334, 0.0), (4336, 0.0), (4337, 0.0), (4338, 0.0), (4339, 0.0), (4340, 0.0), (4342, 0.0), (4343, 0.0), (4344, 0.0), (4345, 0.0), (4348, 0.0), (4349, 0.0), (4350, 0.0), (4352, 0.0), (4354, 0.0), (4355, 0.0), (4359, 0.0), (4360, 0.0), (4361, 0.0), (4362, 0.0), (4363, 0.0), (4364, 0.0), (4365, 0.0), (4366, 0.0), (4368, 0.0), (4369, 0.0), (4372, 0.0), (4373, 0.0), (4375, 0.0), (4376, 0.0), (4377, 0.0), (4378, 0.0), (4381, 0.0), (4383, 0.0), (4384, 0.0), (4385, 0.0), (4386, 0.0), (4389, 0.0), (4391, 0.0), (4392, 0.0), (4393, 0.0), (4396, 0.0), (4397, 0.0), (4398, 0.0), (4399, 0.0), (4400, 0.0), (4401, 0.0), (4402, 0.0), (4405, 0.0), (4406, 0.0), (4407, 0.0), (4409, 0.0), (4410, 0.0), (4411, 0.0), (4412, 0.0), (4414, 0.0), (4415, 0.0), (4416, 0.0), (4417, 0.0), (4418, 0.0), (4419, 0.0), (4423, 0.0), (4424, 0.0), (4425, 0.0), (4427, 0.0), (4428, 0.0), (4429, 0.0), (4430, 0.0), (4431, 0.0), (4432, 0.0), (4438, 0.0), (4439, 0.0), (4441, 0.0), (4443, 0.0), (4444, 0.0), (4445, 0.0), (4449, 0.0), (4455, 0.0), (4456, 0.0), (4458, 0.0), (4459, 0.0), (4461, 0.0), (4462, 0.0), (4464, 0.0), (4466, 0.0), (4467, 0.0), (4468, 0.0), (4470, 0.0), (4471, 0.0), (4472, 0.0), (4476, 0.0), (4478, 0.0), (4479, 0.0), (4482, 0.0), (4485, 0.0), (4487, 0.0), (4488, 0.0), (4490, 0.0), (4491, 0.0), (4493, 0.0), (4494, 0.0), (4495, 0.0), (4497, 0.0), (4499, 0.0), (4500, 0.0), (4501, 0.0), (4504, 0.0), (4505, 0.0), (4508, 0.0), (4509, 0.0), (4511, 0.0), (4513, 0.0), (4515, 0.0), (4516, 0.0), (4517, 0.0), (4518, 0.0), (4520, 0.0), (4521, 0.0), (4523, 0.0), (4524, 0.0), (4525, 0.0), (4526, 0.0), (4527, 0.0), (4528, 0.0), (4529, 0.0), (4532, 0.0), (4533, 0.0), (4534, 0.0), (4535, 0.0), (4536, 0.0), (4538, 0.0), (4539, 0.0), (4540, 0.0), (4541, 0.0), (4544, 0.0), (4545, 0.0), (4546, 0.0), (4547, 0.0), (4548, 0.0), (4549, 0.0), (4550, 0.0), (4559, 0.0), (4561, 0.0), (4563, 0.0), (4565, 0.0), (4566, 0.0), (4567, 0.0), (4568, 0.0), (4569, 0.0), (4572, 0.0), (4573, 0.0), (4574, 0.0), (4575, 0.0), (4576, 0.0), (4578, 0.0), (4579, 0.0), (4582, 0.0), (4583, 0.0), (4584, 0.0), (4585, 0.0), (4586, 0.0), (4587, 0.0), (4588, 0.0), (4589, 0.0), (4590, 0.0), (4591, 0.0), (4593, 0.0), (4594, 0.0), (4595, 0.0), (4597, 0.0), (4598, 0.0), (4601, 0.0), (4602, 0.0), (4604, 0.0), (4605, 0.0), (4606, 0.0), (4607, 0.0), (4608, 0.0), (4611, 0.0), (4612, 0.0), (4613, 0.0), (4614, 0.0), (4615, 0.0), (4616, 0.0), (4618, 0.0), (4620, 0.0), (4621, 0.0), (4624, 0.0), (4625, 0.0), (4626, 0.0), (4629, 0.0), (4630, 0.0), (4632, 0.0), (4634, 0.0), (4635, 0.0), (4638, 0.0), (4639, 0.0), (4640, 0.0), (4641, 0.0), (4642, 0.0), (4643, 0.0), (4644, 0.0), (4645, 0.0), (4646, 0.0), (4649, 0.0), (4651, 0.0), (4653, 0.0), (4654, 0.0), (4657, 0.0), (4659, 0.0), (4660, 0.0), (4661, 0.0), (4662, 0.0), (4664, 0.0), (4665, 0.0), (4666, 0.0), (4668, 0.0), (4670, 0.0), (4671, 0.0), (4672, 0.0), (4674, 0.0), (4676, 0.0), (4677, 0.0), (4678, 0.0), (4680, 0.0), (4681, 0.0), (4682, 0.0), (4683, 0.0), (4685, 0.0), (4686, 0.0), (4687, 0.0), (4689, 0.0), (4691, 0.0), (4692, 0.0), (4693, 0.0), (4694, 0.0), (4695, 0.0), (4696, 0.0), (4697, 0.0), (4698, 0.0), (4699, 0.0), (4701, 0.0), (4703, 0.0), (4704, 0.0), (4705, 0.0), (4708, 0.0), (4710, 0.0), (4712, 0.0), (4713, 0.0), (4714, 0.0), (4715, 0.0), (4716, 0.0), (4718, 0.0), (4723, 0.0), (4726, 0.0), (4728, 0.0), (4729, 0.0), (4730, 0.0), (4731, 0.0), (4732, 0.0), (4733, 0.0), (4736, 0.0), (4740, 0.0), (4741, 0.0), (4742, 0.0), (4743, 0.0), (4745, 0.0), (4748, 0.0), (4749, 0.0), (4750, 0.0), (4751, 0.0), (4752, 0.0), (4753, 0.0), (4754, 0.0), (4755, 0.0), (4757, 0.0), (4758, 0.0), (4759, 0.0)]\n"
          ]
        }
      ],
      "source": [
        "#sorting the movies based on their similarity score\n",
        "Sorted_Similar_Movies = sorted(Recommendation_Score, key = lambda x:x[1], reverse = True)\n",
        "print(Sorted_Similar_Movies)"
      ]
    },
    {
      "cell_type": "code",
      "execution_count": null,
      "metadata": {
        "colab": {
          "base_uri": "https://localhost:8080/"
        },
        "id": "cLzW22r9ZepB",
        "outputId": "eea9875e-08ed-4698-e075-bc5a099b4772"
      },
      "outputs": [
        {
          "name": "stdout",
          "output_type": "stream",
          "text": [
            "Top 30 Movies Suggested for You: \n",
            "\n",
            "1 . Four Rooms\n",
            "2 . Lock, Stock and Two Smoking Barrels\n",
            "3 . The Big Lebowski\n",
            "4 . Office Space\n",
            "5 . The Whole Nine Yards\n",
            "6 . Be Cool\n",
            "7 . Little Man\n",
            "8 . Police Academy\n",
            "9 . Starsky & Hutch\n",
            "10 . Half Baked\n",
            "11 . Analyze This\n",
            "12 . Big Momma's House\n",
            "13 . Let's Go to Prison\n",
            "14 . Analyze That\n",
            "15 . Police Academy: Mission to Moscow\n",
            "16 . Big Momma's House 2\n",
            "17 . The Big Bounce\n",
            "18 . Malibu's Most Wanted\n",
            "19 . 8 Heads in a Duffel Bag\n",
            "20 . Safe Men\n",
            "21 . The Jerky Boys\n",
            "22 . Happy, Texas\n",
            "23 . King's Ransom\n",
            "24 . An Everlasting Piece\n",
            "25 . The Naked Gun 33⅓: The Final Insult\n",
            "26 . The Naked Gun 2½: The Smell of Fear\n",
            "27 . Horrible Bosses\n",
            "28 . Project X\n",
            "29 . Seven Psychopaths\n",
            "30 . Small Apartments\n"
          ]
        }
      ],
      "source": [
        "#print the name of similar movies based on the Index\n",
        "print('Top 30 Movies Suggested for You: \\n')\n",
        "i = 1\n",
        "for movie in Sorted_Similar_Movies:\n",
        "  index = movie[0]\n",
        "  title_from_index = df[df.index==index]['Movie_Title'].values[0]\n",
        "  if (i<31):\n",
        "   print(i, '.',title_from_index)\n",
        "   i+=1"
      ]
    },
    {
      "cell_type": "markdown",
      "metadata": {
        "id": "08w7yYOEbd3z"
      },
      "source": [
        "#Top 10 Movie Recommendation System"
      ]
    },
    {
      "cell_type": "code",
      "execution_count": null,
      "metadata": {
        "colab": {
          "base_uri": "https://localhost:8080/"
        },
        "id": "KuyzB4KBbgc4",
        "outputId": "40a4b758-fe6a-44eb-c911-068e440789ab"
      },
      "outputs": [
        {
          "name": "stdout",
          "output_type": "stream",
          "text": [
            "Enter your favourite movie name : Baby\n",
            "Top 10 Movies suggested for you: \n",
            "\n",
            "1 . []\n",
            "2 . ['Gladiator']\n",
            "3 . ['Pretty Woman']\n",
            "4 . ['Collateral']\n",
            "5 . ['Mission to Mars']\n",
            "6 . ['Sympathy for Lady Vengeance']\n",
            "7 . ['Tank Girl']\n",
            "8 . ['Transporter 2']\n",
            "9 . ['Hollow Man']\n",
            "10 . [\"You've Got Mail\"]\n"
          ]
        }
      ],
      "source": [
        "Movie_Name = input('Enter your favourite movie name : ')\n",
        "list_of_all_titles = df['Movie_Title'].tolist()\n",
        "Find_Close_Match = difflib.get_close_matches (Movie_Name, list_of_all_titles)\n",
        "Close_Match = Find_Close_Match[0]\n",
        "Index_of_Movie = df[df.Movie_Title == Close_Match]['Movie_ID'].values[0]\n",
        "Recommendation_Score = list(enumerate(Similarity_Score[Index_of_Movie]))\n",
        "sorted_similar_movies = sorted(Recommendation_Score, key = lambda x:x[1], reverse = True)\n",
        "print('Top 10 Movies suggested for you: \\n')\n",
        "i = 1\n",
        "for movie in sorted_similar_movies:\n",
        "  index = movie[0]\n",
        "  title_from_index = df [df.Movie_ID==index]['Movie_Title'].values\n",
        "  if (i<11):\n",
        "   print(i, '.',title_from_index)\n",
        "   i+=1"
      ]
    }
  ],
  "metadata": {
    "colab": {
      "provenance": [],
      "authorship_tag": "ABX9TyO3XogdtRAkL+RDhtxshPiv",
      "include_colab_link": true
    },
    "kernelspec": {
      "display_name": "Python 3",
      "name": "python3"
    },
    "language_info": {
      "name": "python"
    }
  },
  "nbformat": 4,
  "nbformat_minor": 0
}